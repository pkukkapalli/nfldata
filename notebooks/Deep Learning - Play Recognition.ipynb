{
 "cells": [
  {
   "cell_type": "markdown",
   "metadata": {},
   "source": [
    "# Deep Learning - Play Recognition\n",
    "\n",
    "Going to be experimenting with a few image recognition models in this book.\n",
    "\n",
    "## Conveniences\n",
    "\n",
    "First, we change directories to the root of the project, so that we can import the `nfldata` module."
   ]
  },
  {
   "cell_type": "code",
   "execution_count": 2,
   "metadata": {},
   "outputs": [
    {
     "name": "stdout",
     "output_type": "stream",
     "text": [
      "/home/pradyothkukkapalli/Projects/nfldata\n"
     ]
    }
   ],
   "source": [
    "%cd ..\n",
    "import fastbook\n",
    "fastbook.setup_book()"
   ]
  },
  {
   "cell_type": "markdown",
   "metadata": {},
   "source": [
    "## Data\n",
    "\n",
    "First we will download NFL highlights videos from YouTube using [`youtube-dl`](https://youtube-dl.org/)."
   ]
  },
  {
   "cell_type": "code",
   "execution_count": 2,
   "metadata": {},
   "outputs": [],
   "source": [
    "from nfldata.learning.download import download_playlist\n",
    "\n",
    "download_playlist(\n",
    "    playlist_url='https://www.youtube.com/playlist?list=PLRdw3IjKY2gmSwNGqBUhDPxj4ib_7rNcs',\n",
    "    output_directory='data/videos')"
   ]
  },
  {
   "cell_type": "markdown",
   "metadata": {},
   "source": [
    "Next, we extract frames from the videos, each spaced out by one second."
   ]
  },
  {
   "cell_type": "code",
   "execution_count": 3,
   "metadata": {},
   "outputs": [
    {
     "name": "stdout",
     "output_type": "stream",
     "text": [
      "Splitting data/videos/Buccaneers vs. Panthers Week 10 Highlights _ NFL 2020.mp4\n",
      "Splitting data/videos/Ravens vs. Patriots Week 10 Highlights _ NFL 2020.mp4\n",
      "Splitting data/videos/Seahawks vs. Rams Week 10 Highlights _ NFL 2020.mp4\n",
      "Splitting data/videos/Washington Football Team vs. Lions Week 10 Highlights _ NFL 2020.mp4\n",
      "Splitting data/videos/Jaguars vs. Packers Week 10 Highlights _ NFL 2020.mp4\n",
      "Splitting data/videos/Bengals vs. Steelers Week 10 Highlights _ NFL 2020.mp4\n",
      "Splitting data/videos/Colts vs. Titans Week 10 Highlights _ NFL 2020.mp4\n",
      "Splitting data/videos/49ers vs. Saints Week 10 Highlights _ NFL 2020.mp4\n",
      "Splitting data/videos/Vikings vs. Bears Week 10 Highlights _ NFL 2020.mp4\n",
      "Splitting data/videos/Broncos vs. Raiders Week 10 Highlights _ NFL 2020.mp4\n",
      "Splitting data/videos/Chargers vs. Dolphins Week 10 Highlights _ NFL 2020.mp4\n",
      "Splitting data/videos/Eagles vs. Giants Week 10 Highlights _ NFL 2020.mp4\n",
      "Splitting data/videos/Texans vs. Browns Week 10 Highlights _ NFL 2020.mp4\n",
      "Splitting data/videos/Bills vs. Cardinals Week 10 Highlights _ NFL 2020.mp4\n"
     ]
    }
   ],
   "source": [
    "from nfldata.learning.split import split_videos\n",
    "\n",
    "split_videos(\n",
    "    video_directory='data/videos',\n",
    "    output_directory='data/frames')"
   ]
  },
  {
   "cell_type": "markdown",
   "metadata": {},
   "source": [
    "Now that we have our data, we need to label it, so that we can train some image recognition algorithms on them. This will label frames from NFL highlight videos. Pre-snap frames will be labeled as run/pass/st (special teams). All other frames will be labeled as junk."
   ]
  },
  {
   "cell_type": "code",
   "execution_count": 2,
   "metadata": {},
   "outputs": [
    {
     "data": {
      "application/vnd.jupyter.widget-view+json": {
       "model_id": "0ff5951129d7424ebbd45b5569fc14b4",
       "version_major": 2,
       "version_minor": 0
      },
      "text/plain": [
       "VBox(children=(HBox(children=(Label(value='Image Path:'), Label(value='data/frames/Washington Football Team_Li…"
      ]
     },
     "metadata": {},
     "output_type": "display_data"
    },
    {
     "data": {
      "application/vnd.jupyter.widget-view+json": {
       "model_id": "4eae49f126244c36b5ebad7ba7d5a397",
       "version_major": 2,
       "version_minor": 0
      },
      "text/plain": [
       "Image(value=b'\\x89PNG\\r\\n\\x1a\\n\\x00\\x00\\x00\\rIHDR\\x00\\x00\\x02\\x80\\x00\\x00\\x01h\\x08\\x02\\x00\\x00\\x00HP\\xdd\\x06\\x…"
      ]
     },
     "metadata": {},
     "output_type": "display_data"
    },
    {
     "data": {
      "application/vnd.jupyter.widget-view+json": {
       "model_id": "97cbebc9486645fa83a5e2b7c2880218",
       "version_major": 2,
       "version_minor": 0
      },
      "text/plain": [
       "HBox(children=(Button(description='run', style=ButtonStyle()), Button(description='pass', style=ButtonStyle())…"
      ]
     },
     "metadata": {},
     "output_type": "display_data"
    },
    {
     "data": {
      "application/vnd.jupyter.widget-view+json": {
       "model_id": "1f60eca5e6504ddc8dd1c98dad25db6b",
       "version_major": 2,
       "version_minor": 0
      },
      "text/plain": [
       "HBox(children=(Button(description='Previous unlabeled', style=ButtonStyle()), Button(description='Previous', s…"
      ]
     },
     "metadata": {},
     "output_type": "display_data"
    }
   ],
   "source": [
    "from nfldata.learning.label import LabelingGui\n",
    "\n",
    "gui = LabelingGui(\n",
    "    directory_to_label='data/frames',\n",
    "    labels=['run', 'pass', 'st', 'junk'],\n",
    "    output_labels_file='data/run-pass-st.db')\n",
    "gui.display()"
   ]
  },
  {
   "cell_type": "markdown",
   "metadata": {},
   "source": [
    "# Learning\n",
    "\n",
    "Now that we have labeled data, let's try running a basic resnet18 learner."
   ]
  },
  {
   "cell_type": "code",
   "execution_count": 2,
   "metadata": {},
   "outputs": [
    {
     "data": {
      "text/html": [
       "<table border=\"1\" class=\"dataframe\">\n",
       "  <thead>\n",
       "    <tr style=\"text-align: left;\">\n",
       "      <th>epoch</th>\n",
       "      <th>train_loss</th>\n",
       "      <th>valid_loss</th>\n",
       "      <th>error_rate</th>\n",
       "      <th>time</th>\n",
       "    </tr>\n",
       "  </thead>\n",
       "  <tbody>\n",
       "    <tr>\n",
       "      <td>0</td>\n",
       "      <td>1.930927</td>\n",
       "      <td>1.692277</td>\n",
       "      <td>0.526391</td>\n",
       "      <td>00:03</td>\n",
       "    </tr>\n",
       "    <tr>\n",
       "      <td>1</td>\n",
       "      <td>1.613971</td>\n",
       "      <td>1.134833</td>\n",
       "      <td>0.388017</td>\n",
       "      <td>00:03</td>\n",
       "    </tr>\n",
       "    <tr>\n",
       "      <td>2</td>\n",
       "      <td>1.319806</td>\n",
       "      <td>1.040600</td>\n",
       "      <td>0.310984</td>\n",
       "      <td>00:03</td>\n",
       "    </tr>\n",
       "    <tr>\n",
       "      <td>3</td>\n",
       "      <td>1.064524</td>\n",
       "      <td>0.748433</td>\n",
       "      <td>0.229672</td>\n",
       "      <td>00:03</td>\n",
       "    </tr>\n",
       "    <tr>\n",
       "      <td>4</td>\n",
       "      <td>0.875328</td>\n",
       "      <td>0.548405</td>\n",
       "      <td>0.154066</td>\n",
       "      <td>00:03</td>\n",
       "    </tr>\n",
       "    <tr>\n",
       "      <td>5</td>\n",
       "      <td>0.742835</td>\n",
       "      <td>0.516682</td>\n",
       "      <td>0.156919</td>\n",
       "      <td>00:03</td>\n",
       "    </tr>\n",
       "    <tr>\n",
       "      <td>6</td>\n",
       "      <td>0.633052</td>\n",
       "      <td>0.443462</td>\n",
       "      <td>0.142653</td>\n",
       "      <td>00:03</td>\n",
       "    </tr>\n",
       "    <tr>\n",
       "      <td>7</td>\n",
       "      <td>0.541250</td>\n",
       "      <td>0.414356</td>\n",
       "      <td>0.142653</td>\n",
       "      <td>00:03</td>\n",
       "    </tr>\n",
       "    <tr>\n",
       "      <td>8</td>\n",
       "      <td>0.468416</td>\n",
       "      <td>0.441517</td>\n",
       "      <td>0.139800</td>\n",
       "      <td>00:03</td>\n",
       "    </tr>\n",
       "    <tr>\n",
       "      <td>9</td>\n",
       "      <td>0.403464</td>\n",
       "      <td>0.433430</td>\n",
       "      <td>0.145506</td>\n",
       "      <td>00:03</td>\n",
       "    </tr>\n",
       "  </tbody>\n",
       "</table>"
      ],
      "text/plain": [
       "<IPython.core.display.HTML object>"
      ]
     },
     "metadata": {},
     "output_type": "display_data"
    }
   ],
   "source": [
    "from nfldata.learning.play_type import learn_play_type\n",
    "\n",
    "learn = learn_play_type(\n",
    "    labels_file='data/run-pass-st.db',\n",
    "    epochs=10)"
   ]
  },
  {
   "cell_type": "markdown",
   "metadata": {},
   "source": [
    "Looks like we're getting a ~16% error rate. Let's try applying some common image augmentations."
   ]
  },
  {
   "cell_type": "code",
   "execution_count": 5,
   "metadata": {},
   "outputs": [
    {
     "data": {
      "text/html": [
       "<table border=\"1\" class=\"dataframe\">\n",
       "  <thead>\n",
       "    <tr style=\"text-align: left;\">\n",
       "      <th>epoch</th>\n",
       "      <th>train_loss</th>\n",
       "      <th>valid_loss</th>\n",
       "      <th>error_rate</th>\n",
       "      <th>time</th>\n",
       "    </tr>\n",
       "  </thead>\n",
       "  <tbody>\n",
       "    <tr>\n",
       "      <td>0</td>\n",
       "      <td>1.981491</td>\n",
       "      <td>1.286564</td>\n",
       "      <td>0.443760</td>\n",
       "      <td>00:03</td>\n",
       "    </tr>\n",
       "    <tr>\n",
       "      <td>1</td>\n",
       "      <td>1.664077</td>\n",
       "      <td>0.853227</td>\n",
       "      <td>0.323575</td>\n",
       "      <td>00:03</td>\n",
       "    </tr>\n",
       "    <tr>\n",
       "      <td>2</td>\n",
       "      <td>1.396241</td>\n",
       "      <td>0.772930</td>\n",
       "      <td>0.283513</td>\n",
       "      <td>00:03</td>\n",
       "    </tr>\n",
       "    <tr>\n",
       "      <td>3</td>\n",
       "      <td>1.176964</td>\n",
       "      <td>0.634648</td>\n",
       "      <td>0.212635</td>\n",
       "      <td>00:03</td>\n",
       "    </tr>\n",
       "    <tr>\n",
       "      <td>4</td>\n",
       "      <td>1.001495</td>\n",
       "      <td>0.557366</td>\n",
       "      <td>0.183359</td>\n",
       "      <td>00:04</td>\n",
       "    </tr>\n",
       "    <tr>\n",
       "      <td>5</td>\n",
       "      <td>0.843926</td>\n",
       "      <td>0.483342</td>\n",
       "      <td>0.171032</td>\n",
       "      <td>00:03</td>\n",
       "    </tr>\n",
       "    <tr>\n",
       "      <td>6</td>\n",
       "      <td>0.716923</td>\n",
       "      <td>0.471170</td>\n",
       "      <td>0.163328</td>\n",
       "      <td>00:04</td>\n",
       "    </tr>\n",
       "    <tr>\n",
       "      <td>7</td>\n",
       "      <td>0.613858</td>\n",
       "      <td>0.479688</td>\n",
       "      <td>0.171032</td>\n",
       "      <td>00:04</td>\n",
       "    </tr>\n",
       "    <tr>\n",
       "      <td>8</td>\n",
       "      <td>0.554160</td>\n",
       "      <td>0.428373</td>\n",
       "      <td>0.144838</td>\n",
       "      <td>00:04</td>\n",
       "    </tr>\n",
       "    <tr>\n",
       "      <td>9</td>\n",
       "      <td>0.487757</td>\n",
       "      <td>0.420008</td>\n",
       "      <td>0.147920</td>\n",
       "      <td>00:03</td>\n",
       "    </tr>\n",
       "    <tr>\n",
       "      <td>10</td>\n",
       "      <td>0.475798</td>\n",
       "      <td>0.456437</td>\n",
       "      <td>0.144838</td>\n",
       "      <td>00:03</td>\n",
       "    </tr>\n",
       "    <tr>\n",
       "      <td>11</td>\n",
       "      <td>0.439917</td>\n",
       "      <td>0.487635</td>\n",
       "      <td>0.157165</td>\n",
       "      <td>00:04</td>\n",
       "    </tr>\n",
       "    <tr>\n",
       "      <td>12</td>\n",
       "      <td>0.404837</td>\n",
       "      <td>0.438978</td>\n",
       "      <td>0.147920</td>\n",
       "      <td>00:04</td>\n",
       "    </tr>\n",
       "    <tr>\n",
       "      <td>13</td>\n",
       "      <td>0.373011</td>\n",
       "      <td>0.406289</td>\n",
       "      <td>0.141757</td>\n",
       "      <td>00:04</td>\n",
       "    </tr>\n",
       "    <tr>\n",
       "      <td>14</td>\n",
       "      <td>0.357265</td>\n",
       "      <td>0.448550</td>\n",
       "      <td>0.134052</td>\n",
       "      <td>00:04</td>\n",
       "    </tr>\n",
       "    <tr>\n",
       "      <td>15</td>\n",
       "      <td>0.346891</td>\n",
       "      <td>0.410715</td>\n",
       "      <td>0.138675</td>\n",
       "      <td>00:04</td>\n",
       "    </tr>\n",
       "    <tr>\n",
       "      <td>16</td>\n",
       "      <td>0.331216</td>\n",
       "      <td>0.404117</td>\n",
       "      <td>0.127889</td>\n",
       "      <td>00:04</td>\n",
       "    </tr>\n",
       "    <tr>\n",
       "      <td>17</td>\n",
       "      <td>0.318448</td>\n",
       "      <td>0.477250</td>\n",
       "      <td>0.143297</td>\n",
       "      <td>00:04</td>\n",
       "    </tr>\n",
       "    <tr>\n",
       "      <td>18</td>\n",
       "      <td>0.304488</td>\n",
       "      <td>0.443060</td>\n",
       "      <td>0.140216</td>\n",
       "      <td>00:04</td>\n",
       "    </tr>\n",
       "    <tr>\n",
       "      <td>19</td>\n",
       "      <td>0.290861</td>\n",
       "      <td>0.523761</td>\n",
       "      <td>0.149461</td>\n",
       "      <td>00:04</td>\n",
       "    </tr>\n",
       "  </tbody>\n",
       "</table>"
      ],
      "text/plain": [
       "<IPython.core.display.HTML object>"
      ]
     },
     "metadata": {},
     "output_type": "display_data"
    }
   ],
   "source": [
    "from nfldata.learning.play_type import learn_play_type\n",
    "\n",
    "learn = learn_play_type(\n",
    "    labels_file='data/run-pass-st.db',\n",
    "    epochs=20,\n",
    "    augment=True)"
   ]
  },
  {
   "cell_type": "markdown",
   "metadata": {},
   "source": [
    "We got a moderate improvement, as the model seems to converge at ~13%. But it took more than 10 epochs to get there. Let's instead try a different architecture. The default is resnet18. Let's go deeper."
   ]
  },
  {
   "cell_type": "code",
   "execution_count": 6,
   "metadata": {},
   "outputs": [
    {
     "name": "stderr",
     "output_type": "stream",
     "text": [
      "Downloading: \"https://download.pytorch.org/models/resnet50-19c8e357.pth\" to /home/pradyothkukkapalli/.cache/torch/hub/checkpoints/resnet50-19c8e357.pth\n"
     ]
    },
    {
     "data": {
      "application/vnd.jupyter.widget-view+json": {
       "model_id": "f4061f8e6f154b2c9bb5fbd286565028",
       "version_major": 2,
       "version_minor": 0
      },
      "text/plain": [
       "HBox(children=(HTML(value=''), FloatProgress(value=0.0, max=102502400.0), HTML(value='')))"
      ]
     },
     "metadata": {},
     "output_type": "display_data"
    },
    {
     "name": "stdout",
     "output_type": "stream",
     "text": [
      "\n"
     ]
    },
    {
     "data": {
      "text/html": [
       "<table border=\"1\" class=\"dataframe\">\n",
       "  <thead>\n",
       "    <tr style=\"text-align: left;\">\n",
       "      <th>epoch</th>\n",
       "      <th>train_loss</th>\n",
       "      <th>valid_loss</th>\n",
       "      <th>error_rate</th>\n",
       "      <th>time</th>\n",
       "    </tr>\n",
       "  </thead>\n",
       "  <tbody>\n",
       "    <tr>\n",
       "      <td>0</td>\n",
       "      <td>2.131958</td>\n",
       "      <td>1.281225</td>\n",
       "      <td>0.419106</td>\n",
       "      <td>00:07</td>\n",
       "    </tr>\n",
       "    <tr>\n",
       "      <td>1</td>\n",
       "      <td>1.656484</td>\n",
       "      <td>1.002581</td>\n",
       "      <td>0.325116</td>\n",
       "      <td>00:07</td>\n",
       "    </tr>\n",
       "    <tr>\n",
       "      <td>2</td>\n",
       "      <td>1.336957</td>\n",
       "      <td>0.723339</td>\n",
       "      <td>0.192604</td>\n",
       "      <td>00:07</td>\n",
       "    </tr>\n",
       "    <tr>\n",
       "      <td>3</td>\n",
       "      <td>1.089649</td>\n",
       "      <td>0.611098</td>\n",
       "      <td>0.172573</td>\n",
       "      <td>00:07</td>\n",
       "    </tr>\n",
       "    <tr>\n",
       "      <td>4</td>\n",
       "      <td>0.890782</td>\n",
       "      <td>0.554746</td>\n",
       "      <td>0.140216</td>\n",
       "      <td>00:07</td>\n",
       "    </tr>\n",
       "    <tr>\n",
       "      <td>5</td>\n",
       "      <td>0.736998</td>\n",
       "      <td>0.647342</td>\n",
       "      <td>0.155624</td>\n",
       "      <td>00:07</td>\n",
       "    </tr>\n",
       "    <tr>\n",
       "      <td>6</td>\n",
       "      <td>0.621799</td>\n",
       "      <td>0.606057</td>\n",
       "      <td>0.147920</td>\n",
       "      <td>00:07</td>\n",
       "    </tr>\n",
       "    <tr>\n",
       "      <td>7</td>\n",
       "      <td>0.528314</td>\n",
       "      <td>0.557628</td>\n",
       "      <td>0.140216</td>\n",
       "      <td>00:07</td>\n",
       "    </tr>\n",
       "    <tr>\n",
       "      <td>8</td>\n",
       "      <td>0.440406</td>\n",
       "      <td>0.531183</td>\n",
       "      <td>0.129430</td>\n",
       "      <td>00:07</td>\n",
       "    </tr>\n",
       "    <tr>\n",
       "      <td>9</td>\n",
       "      <td>0.379445</td>\n",
       "      <td>0.525144</td>\n",
       "      <td>0.120185</td>\n",
       "      <td>00:07</td>\n",
       "    </tr>\n",
       "    <tr>\n",
       "      <td>10</td>\n",
       "      <td>0.344147</td>\n",
       "      <td>0.536992</td>\n",
       "      <td>0.115562</td>\n",
       "      <td>00:07</td>\n",
       "    </tr>\n",
       "    <tr>\n",
       "      <td>11</td>\n",
       "      <td>0.310191</td>\n",
       "      <td>0.612541</td>\n",
       "      <td>0.118644</td>\n",
       "      <td>00:07</td>\n",
       "    </tr>\n",
       "    <tr>\n",
       "      <td>12</td>\n",
       "      <td>0.282079</td>\n",
       "      <td>0.602711</td>\n",
       "      <td>0.109399</td>\n",
       "      <td>00:07</td>\n",
       "    </tr>\n",
       "    <tr>\n",
       "      <td>13</td>\n",
       "      <td>0.266762</td>\n",
       "      <td>0.536371</td>\n",
       "      <td>0.126348</td>\n",
       "      <td>00:07</td>\n",
       "    </tr>\n",
       "    <tr>\n",
       "      <td>14</td>\n",
       "      <td>0.241424</td>\n",
       "      <td>0.568529</td>\n",
       "      <td>0.118644</td>\n",
       "      <td>00:07</td>\n",
       "    </tr>\n",
       "    <tr>\n",
       "      <td>15</td>\n",
       "      <td>0.237810</td>\n",
       "      <td>0.643858</td>\n",
       "      <td>0.120185</td>\n",
       "      <td>00:07</td>\n",
       "    </tr>\n",
       "    <tr>\n",
       "      <td>16</td>\n",
       "      <td>0.234584</td>\n",
       "      <td>0.568247</td>\n",
       "      <td>0.117103</td>\n",
       "      <td>00:07</td>\n",
       "    </tr>\n",
       "    <tr>\n",
       "      <td>17</td>\n",
       "      <td>0.218112</td>\n",
       "      <td>0.564079</td>\n",
       "      <td>0.104777</td>\n",
       "      <td>00:07</td>\n",
       "    </tr>\n",
       "    <tr>\n",
       "      <td>18</td>\n",
       "      <td>0.210255</td>\n",
       "      <td>0.607933</td>\n",
       "      <td>0.107858</td>\n",
       "      <td>00:07</td>\n",
       "    </tr>\n",
       "    <tr>\n",
       "      <td>19</td>\n",
       "      <td>0.200452</td>\n",
       "      <td>0.582801</td>\n",
       "      <td>0.115562</td>\n",
       "      <td>00:08</td>\n",
       "    </tr>\n",
       "  </tbody>\n",
       "</table>"
      ],
      "text/plain": [
       "<IPython.core.display.HTML object>"
      ]
     },
     "metadata": {},
     "output_type": "display_data"
    }
   ],
   "source": [
    "from fastai.vision.models import resnet50\n",
    "from nfldata.learning.play_type import learn_play_type\n",
    "\n",
    "learn = learn_play_type(\n",
    "    labels_file='data/run-pass-st.db',\n",
    "    epochs=20,\n",
    "    augment=True,\n",
    "    model=resnet50)"
   ]
  },
  {
   "cell_type": "markdown",
   "metadata": {},
   "source": [
    "Going 50 layers deep doesn't give us a huge improvement either. That got me to thinking. How good is my error rate if I just guess the junk label?"
   ]
  },
  {
   "cell_type": "code",
   "execution_count": 10,
   "metadata": {},
   "outputs": [
    {
     "data": {
      "text/plain": [
       "[('junk', 0.8072866730584851),\n",
       " ('pass', 0.12559923298178333),\n",
       " ('run', 0.048418024928092045),\n",
       " ('st', 0.018696069031639503)]"
      ]
     },
     "execution_count": 10,
     "metadata": {},
     "output_type": "execute_result"
    }
   ],
   "source": [
    "import sqlite3\n",
    "\n",
    "db = sqlite3.connect('data/run-pass-st.db')\n",
    "db.execute('''\n",
    "    WITH total_labels(ct) AS (\n",
    "        SELECT count(*) FROM labels\n",
    "    )\n",
    "    SELECT label, COUNT(*) * 1.0 / total_labels.ct \n",
    "    FROM labels, total_labels GROUP BY label\n",
    "''').fetchall()"
   ]
  },
  {
   "cell_type": "markdown",
   "metadata": {},
   "source": [
    "Just guessing junk luckily only leads to an ~81% success rate, so our model is learning something! Let's try excluding the junk frames though."
   ]
  },
  {
   "cell_type": "code",
   "execution_count": 10,
   "metadata": {},
   "outputs": [
    {
     "data": {
      "text/html": [
       "<table border=\"1\" class=\"dataframe\">\n",
       "  <thead>\n",
       "    <tr style=\"text-align: left;\">\n",
       "      <th>epoch</th>\n",
       "      <th>train_loss</th>\n",
       "      <th>valid_loss</th>\n",
       "      <th>error_rate</th>\n",
       "      <th>time</th>\n",
       "    </tr>\n",
       "  </thead>\n",
       "  <tbody>\n",
       "    <tr>\n",
       "      <td>0</td>\n",
       "      <td>1.640429</td>\n",
       "      <td>6.246979</td>\n",
       "      <td>0.911765</td>\n",
       "      <td>00:03</td>\n",
       "    </tr>\n",
       "    <tr>\n",
       "      <td>1</td>\n",
       "      <td>1.374375</td>\n",
       "      <td>2.797313</td>\n",
       "      <td>0.779412</td>\n",
       "      <td>00:03</td>\n",
       "    </tr>\n",
       "    <tr>\n",
       "      <td>2</td>\n",
       "      <td>1.254906</td>\n",
       "      <td>0.741737</td>\n",
       "      <td>0.338235</td>\n",
       "      <td>00:03</td>\n",
       "    </tr>\n",
       "    <tr>\n",
       "      <td>3</td>\n",
       "      <td>1.143787</td>\n",
       "      <td>1.021259</td>\n",
       "      <td>0.463235</td>\n",
       "      <td>00:03</td>\n",
       "    </tr>\n",
       "    <tr>\n",
       "      <td>4</td>\n",
       "      <td>1.134923</td>\n",
       "      <td>1.260156</td>\n",
       "      <td>0.573529</td>\n",
       "      <td>00:03</td>\n",
       "    </tr>\n",
       "    <tr>\n",
       "      <td>5</td>\n",
       "      <td>1.071400</td>\n",
       "      <td>0.805477</td>\n",
       "      <td>0.235294</td>\n",
       "      <td>00:03</td>\n",
       "    </tr>\n",
       "    <tr>\n",
       "      <td>6</td>\n",
       "      <td>1.011002</td>\n",
       "      <td>1.436745</td>\n",
       "      <td>0.220588</td>\n",
       "      <td>00:03</td>\n",
       "    </tr>\n",
       "    <tr>\n",
       "      <td>7</td>\n",
       "      <td>0.970449</td>\n",
       "      <td>1.010701</td>\n",
       "      <td>0.220588</td>\n",
       "      <td>00:03</td>\n",
       "    </tr>\n",
       "    <tr>\n",
       "      <td>8</td>\n",
       "      <td>0.911998</td>\n",
       "      <td>0.979560</td>\n",
       "      <td>0.264706</td>\n",
       "      <td>00:03</td>\n",
       "    </tr>\n",
       "    <tr>\n",
       "      <td>9</td>\n",
       "      <td>0.870106</td>\n",
       "      <td>1.023493</td>\n",
       "      <td>0.205882</td>\n",
       "      <td>00:03</td>\n",
       "    </tr>\n",
       "  </tbody>\n",
       "</table>"
      ],
      "text/plain": [
       "<IPython.core.display.HTML object>"
      ]
     },
     "metadata": {},
     "output_type": "display_data"
    }
   ],
   "source": [
    "from fastai.vision.models.xresnet import xresnet18\n",
    "from nfldata.learning.play_type import learn_play_type\n",
    "\n",
    "learn = learn_play_type(\n",
    "    labels_file='data/run-pass-st.db',\n",
    "    epochs=10,\n",
    "    augment=True,\n",
    "    model=xresnet18,\n",
    "    exclude_labels={'junk'})"
   ]
  },
  {
   "cell_type": "markdown",
   "metadata": {},
   "source": [
    "We eventually converge to around 20%, but is the classification algorithm simply learning to guess pass every time?"
   ]
  },
  {
   "cell_type": "code",
   "execution_count": 4,
   "metadata": {},
   "outputs": [
    {
     "data": {
      "text/plain": [
       "[('pass', 0.6517412935323383),\n",
       " ('run', 0.2512437810945274),\n",
       " ('st', 0.09701492537313433)]"
      ]
     },
     "execution_count": 4,
     "metadata": {},
     "output_type": "execute_result"
    }
   ],
   "source": [
    "import sqlite3\n",
    "\n",
    "db = sqlite3.connect('data/run-pass-st.db')\n",
    "db.execute('''\n",
    "    WITH total_labels(ct) AS (\n",
    "        SELECT count(*) FROM labels\n",
    "        WHERE label != 'junk'\n",
    "    )\n",
    "    SELECT label, COUNT(*) * 1.0 / total_labels.ct \n",
    "    FROM labels, total_labels\n",
    "    WHERE label != 'junk'\n",
    "    GROUP BY label\n",
    "''').fetchall()"
   ]
  },
  {
   "cell_type": "markdown",
   "metadata": {},
   "source": [
    "Ok, now let's see what the confusion matrix looks like. Unfortunately it doesn't look good. It does indeed look like we're guessing pass too often. That makes sense given that we probably have more passing plays than run plays overall in the data."
   ]
  },
  {
   "cell_type": "code",
   "execution_count": 12,
   "metadata": {},
   "outputs": [
    {
     "data": {
      "text/html": [],
      "text/plain": [
       "<IPython.core.display.HTML object>"
      ]
     },
     "metadata": {},
     "output_type": "display_data"
    },
    {
     "data": {
      "image/png": "[encoded data removed]",
      "text/plain": [
       "<Figure size 432x288 with 1 Axes>"
      ]
     },
     "metadata": {
      "needs_background": "light"
     },
     "output_type": "display_data"
    }
   ],
   "source": [
    "from fastai.interpret import ClassificationInterpretation\n",
    "\n",
    "interpretation = ClassificationInterpretation.from_learner(learn)\n",
    "interpretation.plot_confusion_matrix()"
   ]
  },
  {
   "cell_type": "markdown",
   "metadata": {},
   "source": [
    "# Conclusion\n",
    "\n",
    "The takeaway from this experiment is that deep learning probably cannot learn something which even humans are bad at predicting. We need something that humans are good at predicting just by looking at the picture."
   ]
  }
 ],
 "metadata": {
  "kernelspec": {
   "display_name": "Python 3",
   "language": "python",
   "name": "python3"
  },
  "language_info": {
   "codemirror_mode": {
    "name": "ipython",
    "version": 3
   },
   "file_extension": ".py",
   "mimetype": "text/x-python",
   "name": "python",
   "nbconvert_exporter": "python",
   "pygments_lexer": "ipython3",
   "version": "3.8.6"
  }
 },
 "nbformat": 4,
 "nbformat_minor": 4
}
