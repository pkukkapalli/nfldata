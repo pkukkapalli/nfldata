{
 "cells": [
  {
   "cell_type": "markdown",
   "metadata": {},
   "source": [
    "# NFL Injury Patterns (Work In Progress)\n",
    "\n",
    "This is a detailed look at the injuries that occur in the NFL. This analysis seeks to answer the following questions:\n",
    "\n",
    "- What types of injuries are most common?\n",
    "- Who is getting what injuries?\n",
    "- When are injuries most common?\n",
    "- Which injuries are the most severe?\n",
    "- Which teams are most accurate in their injury reporting?\n",
    "\n",
    "## Prerequisites\n",
    "\n",
    "Before we begin, let's change our working directory to the root of the project so that we can reuse this project's Python code."
   ]
  },
  {
   "cell_type": "code",
   "execution_count": 1,
   "metadata": {},
   "outputs": [
    {
     "name": "stdout",
     "output_type": "stream",
     "text": [
      "/home/pradyothkukkapalli/Projects/nfldata\n"
     ]
    }
   ],
   "source": [
    "%cd .."
   ]
  },
  {
   "cell_type": "markdown",
   "metadata": {},
   "source": [
    "Now, let's import some libraries:\n",
    "\n",
    "- `%matplotlib inline`: instruct Jupyter to show all plots inline.\n",
    "- [`sqlite3`][sqlite]: the data for this analysis is in `nfldata.sqlite`, and this library allows us to query it.\n",
    "- [`pandas`][pandas]: a data analysis library that will make the SQLite data easier to manipulate.\n",
    "- [`seaborn`][seaborn]: produces graphs and visualizations easily for `pandas` `DataFrame`s.\n",
    "- [`pyplot`][pyplot]: the backend for `seaborn`. Needed in order to customize visualizations.\n",
    "- `nfldata.analysis.tables`: a module defined in this project that defines a few helpful utilities to cut down on repetitive code.\n",
    "\n",
    "[sqlite]: https://docs.python.org/3/library/sqlite3.html\n",
    "[pandas]: https://pandas.pydata.org/\n",
    "[seaborn]: https://seaborn.pydata.org/\n",
    "[pyplot]:https://matplotlib.org/api/pyplot_api.html"
   ]
  },
  {
   "cell_type": "code",
   "execution_count": 2,
   "metadata": {},
   "outputs": [],
   "source": [
    "%matplotlib inline\n",
    "import sqlite3\n",
    "import pandas\n",
    "from matplotlib import pyplot\n",
    "import seaborn\n",
    "from nfldata.analysis.tables import print_schema"
   ]
  },
  {
   "cell_type": "markdown",
   "metadata": {},
   "source": [
    "All of the data for this analysis was sourced from [Pro Football Reference][pfr] using [Scrapy][scrapy]. The data is stored as a [SQLite][sqlite] in the `nfldata.sqlite` file at the root of the project. Here we will initialize the connection to the database for use throughout this notebook.\n",
    "\n",
    "[pfr]:https://www.pro-football-reference.com/\n",
    "[scrapy]:https://scrapy.org/\n",
    "[sqlite]:https://www.sqlite.org/index.html"
   ]
  },
  {
   "cell_type": "code",
   "execution_count": 3,
   "metadata": {},
   "outputs": [],
   "source": [
    "database = sqlite3.connect('nfldata.sqlite')"
   ]
  },
  {
   "cell_type": "markdown",
   "metadata": {},
   "source": [
    "## Most common injuries\n",
    "\n",
    "Now, let's start with a simple analysis. What are the top 20 most common injuries on injury reports? The data is stored in two tables, `injuries` and `injury_reasons`. First, let's examine the `injuries` table schema:\n",
    "\n",
    "- `player`: A unique ID for the injured player.\n",
    "- `team`: A unique ID for the team the player was playing on. The ID also encodes the year that the event occurred.\n",
    "- `week`: The week of the season the injury happened.\n",
    "- `status`: The listed status on the injury report, i.e. Probable, Questionable, Out, etc.\n",
    "- `outcome`: Whether the player ended up playing that week or not."
   ]
  },
  {
   "cell_type": "code",
   "execution_count": 4,
   "metadata": {},
   "outputs": [
    {
     "name": "stdout",
     "output_type": "stream",
     "text": [
      "CREATE TABLE injuries (\n",
      "                player TEXT,\n",
      "                team TEXT,\n",
      "                week INTEGER,\n",
      "                status TEXT,\n",
      "                outcome TEXT,\n",
      "                PRIMARY KEY (player, team, week),\n",
      "                FOREIGN KEY (player) REFERENCES players(player),\n",
      "                FOREIGN KEY (team) REFERENCES teams(team)\n",
      "            )\n"
     ]
    }
   ],
   "source": [
    "print_schema(database, 'injuries')"
   ]
  },
  {
   "cell_type": "markdown",
   "metadata": {},
   "source": [
    "Second, let's examine the `injury_reasons` table schema:\n",
    "\n",
    "- `player`: Same as above.\n",
    "- `team`: Same as above.\n",
    "- `week`: Same as above.\n",
    "- `reason`: The reason for the entry in the injury report. Now you may be wondering why these are in a separate table. It is because a single player may have multiple reasons for being injured. For example, they may have an ankle sprain and a concussion. Since SQLite doesn't support array columns, I broke the reasons out into a separate table."
   ]
  },
  {
   "cell_type": "code",
   "execution_count": 5,
   "metadata": {},
   "outputs": [
    {
     "name": "stdout",
     "output_type": "stream",
     "text": [
      "CREATE TABLE injury_reasons (\n",
      "                player TEXT,\n",
      "                team TEXT,\n",
      "                week INTEGER,\n",
      "                reason TEXT,\n",
      "                PRIMARY KEY (player, team, week),\n",
      "                FOREIGN KEY (player) REFERENCES players(player),\n",
      "                FOREIGN KEY (team) REFERENCES teams(team),\n",
      "                FOREIGN KEY (player, team, week) \n",
      "                    REFERENCES injuries(player, team, week)\n",
      "            )\n"
     ]
    }
   ],
   "source": [
    "print_schema(database, 'injury_reasons')"
   ]
  },
  {
   "cell_type": "markdown",
   "metadata": {},
   "source": [
    "Now, let's take a look at the frequency of each injury. Here, we will be joining the two tables on the common columns, `player`, `team` and `week`, and counting the number of rows after grouping by `reason`. We will be reading the data into a `DataFrame` object provided by the `pandas` library, which makes it easy to visualize the table as a table, and later as part of a graph.\n",
    "\n",
    "In this analysis, we see that the top 10 reasons for injuries are the knee (by a wide margin), ankle, undisclosed (i.e. the report did not specify), hamstring, shoulder, foot, concussion, back, groin, and achilles tendon. The `reason` column in the `injury_reasons` table is not one to one with what is actually written in the injury report. I grouped together many actual reasons given to provide some reasonable aggregation without having a long tail of injuries that had < 10 occurrences. Take a look at the `PFR_INJURY_REASON_SUBSTITUTIONS` `dict` in the `nfldata.items.injuries` module of this project.\n",
    "\n",
    "At first glance, none of the injuries on this list are too surprising. The [knee is well known as the most susceptible joints][epidemiology-knee] when it comes to sports injuries.\n",
    "\n",
    "[epidemiology-knee]:https://www.sciencedirect.com/science/article/abs/pii/S0968016006000032"
   ]
  },
  {
   "cell_type": "code",
   "execution_count": 6,
   "metadata": {},
   "outputs": [
    {
     "data": {
      "text/html": [
       "<div>\n",
       "<style scoped>\n",
       "    .dataframe tbody tr th:only-of-type {\n",
       "        vertical-align: middle;\n",
       "    }\n",
       "\n",
       "    .dataframe tbody tr th {\n",
       "        vertical-align: top;\n",
       "    }\n",
       "\n",
       "    .dataframe thead th {\n",
       "        text-align: right;\n",
       "    }\n",
       "</style>\n",
       "<table border=\"1\" class=\"dataframe\">\n",
       "  <thead>\n",
       "    <tr style=\"text-align: right;\">\n",
       "      <th></th>\n",
       "      <th>reason</th>\n",
       "      <th>frequency</th>\n",
       "    </tr>\n",
       "  </thead>\n",
       "  <tbody>\n",
       "    <tr>\n",
       "      <th>0</th>\n",
       "      <td>knee</td>\n",
       "      <td>20762</td>\n",
       "    </tr>\n",
       "    <tr>\n",
       "      <th>1</th>\n",
       "      <td>ankle</td>\n",
       "      <td>9507</td>\n",
       "    </tr>\n",
       "    <tr>\n",
       "      <th>2</th>\n",
       "      <td>undisclosed</td>\n",
       "      <td>8860</td>\n",
       "    </tr>\n",
       "    <tr>\n",
       "      <th>3</th>\n",
       "      <td>hamstring</td>\n",
       "      <td>6655</td>\n",
       "    </tr>\n",
       "    <tr>\n",
       "      <th>4</th>\n",
       "      <td>shoulder</td>\n",
       "      <td>6582</td>\n",
       "    </tr>\n",
       "    <tr>\n",
       "      <th>5</th>\n",
       "      <td>foot</td>\n",
       "      <td>5005</td>\n",
       "    </tr>\n",
       "    <tr>\n",
       "      <th>6</th>\n",
       "      <td>concussion</td>\n",
       "      <td>3338</td>\n",
       "    </tr>\n",
       "    <tr>\n",
       "      <th>7</th>\n",
       "      <td>back</td>\n",
       "      <td>2849</td>\n",
       "    </tr>\n",
       "    <tr>\n",
       "      <th>8</th>\n",
       "      <td>groin</td>\n",
       "      <td>2733</td>\n",
       "    </tr>\n",
       "    <tr>\n",
       "      <th>9</th>\n",
       "      <td>achilles</td>\n",
       "      <td>2197</td>\n",
       "    </tr>\n",
       "  </tbody>\n",
       "</table>\n",
       "</div>"
      ],
      "text/plain": [
       "        reason  frequency\n",
       "0         knee      20762\n",
       "1        ankle       9507\n",
       "2  undisclosed       8860\n",
       "3    hamstring       6655\n",
       "4     shoulder       6582\n",
       "5         foot       5005\n",
       "6   concussion       3338\n",
       "7         back       2849\n",
       "8        groin       2733\n",
       "9     achilles       2197"
      ]
     },
     "execution_count": 6,
     "metadata": {},
     "output_type": "execute_result"
    }
   ],
   "source": [
    "reason_frequency = pandas.read_sql_query('''\n",
    "    SELECT LOWER(reason) as reason, count(*) as frequency \n",
    "    FROM injuries JOIN injury_reasons USING (player, team, week)\n",
    "    GROUP BY reason\n",
    "    ORDER BY frequency DESC;\n",
    "''', database)\n",
    "reason_frequency.head(10)"
   ]
  },
  {
   "cell_type": "markdown",
   "metadata": {},
   "source": [
    "In fact, we can change our query slightly to see what percentage of injuries are caused by each part. The knee accounts for nearly a quarter of all injuries!"
   ]
  },
  {
   "cell_type": "code",
   "execution_count": 7,
   "metadata": {},
   "outputs": [
    {
     "data": {
      "text/html": [
       "<div>\n",
       "<style scoped>\n",
       "    .dataframe tbody tr th:only-of-type {\n",
       "        vertical-align: middle;\n",
       "    }\n",
       "\n",
       "    .dataframe tbody tr th {\n",
       "        vertical-align: top;\n",
       "    }\n",
       "\n",
       "    .dataframe thead th {\n",
       "        text-align: right;\n",
       "    }\n",
       "</style>\n",
       "<table border=\"1\" class=\"dataframe\">\n",
       "  <thead>\n",
       "    <tr style=\"text-align: right;\">\n",
       "      <th></th>\n",
       "      <th>reason</th>\n",
       "      <th>frequency_percent</th>\n",
       "    </tr>\n",
       "  </thead>\n",
       "  <tbody>\n",
       "    <tr>\n",
       "      <th>0</th>\n",
       "      <td>knee</td>\n",
       "      <td>22.753874</td>\n",
       "    </tr>\n",
       "    <tr>\n",
       "      <th>1</th>\n",
       "      <td>ankle</td>\n",
       "      <td>10.419087</td>\n",
       "    </tr>\n",
       "    <tr>\n",
       "      <th>2</th>\n",
       "      <td>undisclosed</td>\n",
       "      <td>9.710015</td>\n",
       "    </tr>\n",
       "    <tr>\n",
       "      <th>3</th>\n",
       "      <td>hamstring</td>\n",
       "      <td>7.293470</td>\n",
       "    </tr>\n",
       "    <tr>\n",
       "      <th>4</th>\n",
       "      <td>shoulder</td>\n",
       "      <td>7.213467</td>\n",
       "    </tr>\n",
       "    <tr>\n",
       "      <th>5</th>\n",
       "      <td>foot</td>\n",
       "      <td>5.485172</td>\n",
       "    </tr>\n",
       "    <tr>\n",
       "      <th>6</th>\n",
       "      <td>concussion</td>\n",
       "      <td>3.658243</td>\n",
       "    </tr>\n",
       "    <tr>\n",
       "      <th>7</th>\n",
       "      <td>back</td>\n",
       "      <td>3.122329</td>\n",
       "    </tr>\n",
       "    <tr>\n",
       "      <th>8</th>\n",
       "      <td>groin</td>\n",
       "      <td>2.995200</td>\n",
       "    </tr>\n",
       "    <tr>\n",
       "      <th>9</th>\n",
       "      <td>achilles</td>\n",
       "      <td>2.407777</td>\n",
       "    </tr>\n",
       "  </tbody>\n",
       "</table>\n",
       "</div>"
      ],
      "text/plain": [
       "        reason  frequency_percent\n",
       "0         knee          22.753874\n",
       "1        ankle          10.419087\n",
       "2  undisclosed           9.710015\n",
       "3    hamstring           7.293470\n",
       "4     shoulder           7.213467\n",
       "5         foot           5.485172\n",
       "6   concussion           3.658243\n",
       "7         back           3.122329\n",
       "8        groin           2.995200\n",
       "9     achilles           2.407777"
      ]
     },
     "execution_count": 7,
     "metadata": {},
     "output_type": "execute_result"
    }
   ],
   "source": [
    "reason_frequency_pct = pandas.read_sql_query('''\n",
    "    SELECT LOWER(reason) as reason, \n",
    "        CAST(count(*) AS REAL) * 100 / (SELECT count(*) FROM injury_reasons) as frequency_percent \n",
    "    FROM injuries JOIN injury_reasons USING (player, team, week)\n",
    "    GROUP BY reason\n",
    "    ORDER BY frequency_percent DESC;\n",
    "''', database)\n",
    "reason_frequency_pct.head(10)"
   ]
  },
  {
   "cell_type": "markdown",
   "metadata": {},
   "source": [
    "We can also view this data visually quite easily using the `seaborn` library, which integrates well with `pandas`."
   ]
  },
  {
   "cell_type": "code",
   "execution_count": 8,
   "metadata": {
    "scrolled": false
   },
   "outputs": [
    {
     "data": {
      "image/png": "[encoded data removed]",
      "text/plain": [
       "<Figure size 1800x720 with 1 Axes>"
      ]
     },
     "metadata": {
      "needs_background": "light"
     },
     "output_type": "display_data"
    }
   ],
   "source": [
    "pyplot.figure(figsize=(25, 10))\n",
    "plot = seaborn.barplot(x='reason', y='frequency', data=reason_frequency)\n",
    "plot.set_xticklabels(plot.get_xticklabels(), rotation=90)\n",
    "pyplot.show()"
   ]
  },
  {
   "cell_type": "markdown",
   "metadata": {},
   "source": [
    "This shows us which injuries are most common. However, what may be more interesting is learning which injuries cause player to miss games. We can do a similar analysis to what we did above, but using the condition that `outcome = 'DID_NOT_PLAY`. We can immediately see that the ordering of the injuries is fairly close to the ordering we get when we do not consider the outcome."
   ]
  },
  {
   "cell_type": "code",
   "execution_count": 9,
   "metadata": {},
   "outputs": [
    {
     "data": {
      "text/html": [
       "<div>\n",
       "<style scoped>\n",
       "    .dataframe tbody tr th:only-of-type {\n",
       "        vertical-align: middle;\n",
       "    }\n",
       "\n",
       "    .dataframe tbody tr th {\n",
       "        vertical-align: top;\n",
       "    }\n",
       "\n",
       "    .dataframe thead th {\n",
       "        text-align: right;\n",
       "    }\n",
       "</style>\n",
       "<table border=\"1\" class=\"dataframe\">\n",
       "  <thead>\n",
       "    <tr style=\"text-align: right;\">\n",
       "      <th></th>\n",
       "      <th>reason</th>\n",
       "      <th>frequency</th>\n",
       "    </tr>\n",
       "  </thead>\n",
       "  <tbody>\n",
       "    <tr>\n",
       "      <th>0</th>\n",
       "      <td>knee</td>\n",
       "      <td>15798</td>\n",
       "    </tr>\n",
       "    <tr>\n",
       "      <th>1</th>\n",
       "      <td>undisclosed</td>\n",
       "      <td>8813</td>\n",
       "    </tr>\n",
       "    <tr>\n",
       "      <th>2</th>\n",
       "      <td>ankle</td>\n",
       "      <td>5891</td>\n",
       "    </tr>\n",
       "    <tr>\n",
       "      <th>3</th>\n",
       "      <td>hamstring</td>\n",
       "      <td>4555</td>\n",
       "    </tr>\n",
       "    <tr>\n",
       "      <th>4</th>\n",
       "      <td>shoulder</td>\n",
       "      <td>4091</td>\n",
       "    </tr>\n",
       "    <tr>\n",
       "      <th>5</th>\n",
       "      <td>foot</td>\n",
       "      <td>3688</td>\n",
       "    </tr>\n",
       "    <tr>\n",
       "      <th>6</th>\n",
       "      <td>concussion</td>\n",
       "      <td>2524</td>\n",
       "    </tr>\n",
       "    <tr>\n",
       "      <th>7</th>\n",
       "      <td>achilles</td>\n",
       "      <td>2046</td>\n",
       "    </tr>\n",
       "    <tr>\n",
       "      <th>8</th>\n",
       "      <td>back</td>\n",
       "      <td>1623</td>\n",
       "    </tr>\n",
       "    <tr>\n",
       "      <th>9</th>\n",
       "      <td>groin</td>\n",
       "      <td>1501</td>\n",
       "    </tr>\n",
       "  </tbody>\n",
       "</table>\n",
       "</div>"
      ],
      "text/plain": [
       "        reason  frequency\n",
       "0         knee      15798\n",
       "1  undisclosed       8813\n",
       "2        ankle       5891\n",
       "3    hamstring       4555\n",
       "4     shoulder       4091\n",
       "5         foot       3688\n",
       "6   concussion       2524\n",
       "7     achilles       2046\n",
       "8         back       1623\n",
       "9        groin       1501"
      ]
     },
     "execution_count": 9,
     "metadata": {},
     "output_type": "execute_result"
    }
   ],
   "source": [
    "reason_did_not_play_frequency = pandas.read_sql_query('''\n",
    "    SELECT LOWER(reason) as reason, count(*) as frequency\n",
    "    FROM injuries JOIN injury_reasons USING (player, team, week)\n",
    "    WHERE outcome = 'DID_NOT_PLAY'\n",
    "    GROUP BY reason\n",
    "    ORDER BY frequency DESC;\n",
    "''', database)\n",
    "reason_did_not_play_frequency.head(10)"
   ]
  },
  {
   "cell_type": "markdown",
   "metadata": {},
   "source": [
    "As above, we can also look at what percentage of games missed each injury reason is responsible for. One thing that you will notice from this table is that the percentages for the top 10 reasons are quite different than the percentages in the table above. This is like because some of the less common reasons, such as blood clots, lung, and spleen, are much more likely to keep the player out of a game."
   ]
  },
  {
   "cell_type": "code",
   "execution_count": 10,
   "metadata": {},
   "outputs": [
    {
     "data": {
      "text/html": [
       "<div>\n",
       "<style scoped>\n",
       "    .dataframe tbody tr th:only-of-type {\n",
       "        vertical-align: middle;\n",
       "    }\n",
       "\n",
       "    .dataframe tbody tr th {\n",
       "        vertical-align: top;\n",
       "    }\n",
       "\n",
       "    .dataframe thead th {\n",
       "        text-align: right;\n",
       "    }\n",
       "</style>\n",
       "<table border=\"1\" class=\"dataframe\">\n",
       "  <thead>\n",
       "    <tr style=\"text-align: right;\">\n",
       "      <th></th>\n",
       "      <th>reason</th>\n",
       "      <th>frequency_percent</th>\n",
       "    </tr>\n",
       "  </thead>\n",
       "  <tbody>\n",
       "    <tr>\n",
       "      <th>0</th>\n",
       "      <td>knee</td>\n",
       "      <td>17.313636</td>\n",
       "    </tr>\n",
       "    <tr>\n",
       "      <th>1</th>\n",
       "      <td>undisclosed</td>\n",
       "      <td>9.658506</td>\n",
       "    </tr>\n",
       "    <tr>\n",
       "      <th>2</th>\n",
       "      <td>ankle</td>\n",
       "      <td>6.456173</td>\n",
       "    </tr>\n",
       "    <tr>\n",
       "      <th>3</th>\n",
       "      <td>hamstring</td>\n",
       "      <td>4.992000</td>\n",
       "    </tr>\n",
       "    <tr>\n",
       "      <th>4</th>\n",
       "      <td>shoulder</td>\n",
       "      <td>4.483484</td>\n",
       "    </tr>\n",
       "    <tr>\n",
       "      <th>5</th>\n",
       "      <td>foot</td>\n",
       "      <td>4.041821</td>\n",
       "    </tr>\n",
       "    <tr>\n",
       "      <th>6</th>\n",
       "      <td>concussion</td>\n",
       "      <td>2.766149</td>\n",
       "    </tr>\n",
       "    <tr>\n",
       "      <th>7</th>\n",
       "      <td>achilles</td>\n",
       "      <td>2.242290</td>\n",
       "    </tr>\n",
       "    <tr>\n",
       "      <th>8</th>\n",
       "      <td>back</td>\n",
       "      <td>1.778708</td>\n",
       "    </tr>\n",
       "    <tr>\n",
       "      <th>9</th>\n",
       "      <td>groin</td>\n",
       "      <td>1.645004</td>\n",
       "    </tr>\n",
       "  </tbody>\n",
       "</table>\n",
       "</div>"
      ],
      "text/plain": [
       "        reason  frequency_percent\n",
       "0         knee          17.313636\n",
       "1  undisclosed           9.658506\n",
       "2        ankle           6.456173\n",
       "3    hamstring           4.992000\n",
       "4     shoulder           4.483484\n",
       "5         foot           4.041821\n",
       "6   concussion           2.766149\n",
       "7     achilles           2.242290\n",
       "8         back           1.778708\n",
       "9        groin           1.645004"
      ]
     },
     "execution_count": 10,
     "metadata": {},
     "output_type": "execute_result"
    }
   ],
   "source": [
    "reason_did_not_play_frequency_percent = pandas.read_sql_query('''\n",
    "    SELECT LOWER(reason) as reason, \n",
    "        CAST(count(*) AS REAL) * 100 / (SELECT count(*) FROM injury_reasons) as frequency_percent \n",
    "    FROM injuries JOIN injury_reasons USING (player, team, week)\n",
    "    WHERE outcome = 'DID_NOT_PLAY'\n",
    "    GROUP BY reason\n",
    "    ORDER BY frequency_percent DESC;\n",
    "''', database)\n",
    "reason_did_not_play_frequency_percent.head(10)"
   ]
  },
  {
   "cell_type": "markdown",
   "metadata": {},
   "source": [
    "When we visualize the distribution of games missed, we see that the tail of this graph is slightly thicker than the tail of the graph above. This indicates that the less common reasons do have a higher chance of making the player miss the upcoming game."
   ]
  },
  {
   "cell_type": "code",
   "execution_count": 11,
   "metadata": {},
   "outputs": [
    {
     "data": {
      "image/png": "[encoded data removed]",
      "text/plain": [
       "<Figure size 1800x720 with 1 Axes>"
      ]
     },
     "metadata": {
      "needs_background": "light"
     },
     "output_type": "display_data"
    }
   ],
   "source": [
    "pyplot.figure(figsize=(25, 10))\n",
    "plot = seaborn.barplot(x='reason', y='frequency', data=reason_did_not_play_frequency)\n",
    "plot.set_xticklabels(plot.get_xticklabels(), rotation=90)\n",
    "pyplot.show()"
   ]
  },
  {
   "cell_type": "markdown",
   "metadata": {},
   "source": [
    "Now, let's look at this same problem from a slightly different angle. Which injuries are most statistically likely to cause a player to miss a game? Of course we need to account for the fact that a lot of injuries have very few occurrences. So, we need to set a reasonable threshold for the minimum number of occurrences. We can determine that by seeing what percent of occurrences are captured by a given threshold. Below, we can see that 98.69% of injuries are still captured if we set the threshold at 100, so that is the threshold we will be applying going forward."
   ]
  },
  {
   "cell_type": "code",
   "execution_count": 12,
   "metadata": {},
   "outputs": [
    {
     "data": {
      "text/plain": [
       "0      100.000000\n",
       "1      100.000000\n",
       "2       99.989041\n",
       "3       99.984657\n",
       "4       99.964930\n",
       "          ...    \n",
       "96      98.688162\n",
       "97      98.688162\n",
       "98      98.688162\n",
       "99      98.688162\n",
       "100     98.688162\n",
       "Length: 101, dtype: float64"
      ]
     },
     "execution_count": 12,
     "metadata": {},
     "output_type": "execute_result"
    }
   ],
   "source": [
    "total = reason_frequency['frequency'].sum()\n",
    "thresholds = []\n",
    "for threshold in range(0, 101):\n",
    "    occurrences_captured = reason_frequency[reason_frequency['frequency'] >= threshold]\n",
    "    occurrences_captured = float(occurrences_captured['frequency'].sum()) * 100 / total\n",
    "    thresholds.append(occurrences_captured)\n",
    "thresholds = pandas.Series(thresholds)\n",
    "thresholds"
   ]
  },
  {
   "cell_type": "markdown",
   "metadata": {},
   "source": [
    "Now we can easily determine the statiscal chance that an injury will cause a player to miss a game by reusing our previous queries and some simple division. Keep in mind that many of these injury reasons would not even make the injury report if they were not severe. For example, a sore triceps probably would not make the report, but a torn triceps certainly would, and would almost certainly keep the player out of the game."
   ]
  },
  {
   "cell_type": "code",
   "execution_count": 13,
   "metadata": {},
   "outputs": [
    {
     "data": {
      "text/html": [
       "<div>\n",
       "<style scoped>\n",
       "    .dataframe tbody tr th:only-of-type {\n",
       "        vertical-align: middle;\n",
       "    }\n",
       "\n",
       "    .dataframe tbody tr th {\n",
       "        vertical-align: top;\n",
       "    }\n",
       "\n",
       "    .dataframe thead th {\n",
       "        text-align: right;\n",
       "    }\n",
       "</style>\n",
       "<table border=\"1\" class=\"dataframe\">\n",
       "  <thead>\n",
       "    <tr style=\"text-align: right;\">\n",
       "      <th></th>\n",
       "      <th>reason</th>\n",
       "      <th>miss_probability</th>\n",
       "    </tr>\n",
       "  </thead>\n",
       "  <tbody>\n",
       "    <tr>\n",
       "      <th>0</th>\n",
       "      <td>undisclosed</td>\n",
       "      <td>99.469526</td>\n",
       "    </tr>\n",
       "    <tr>\n",
       "      <th>1</th>\n",
       "      <td>suspension</td>\n",
       "      <td>98.181818</td>\n",
       "    </tr>\n",
       "    <tr>\n",
       "      <th>2</th>\n",
       "      <td>triceps</td>\n",
       "      <td>95.094937</td>\n",
       "    </tr>\n",
       "    <tr>\n",
       "      <th>3</th>\n",
       "      <td>pectoral</td>\n",
       "      <td>94.792899</td>\n",
       "    </tr>\n",
       "    <tr>\n",
       "      <th>4</th>\n",
       "      <td>fibula</td>\n",
       "      <td>94.701987</td>\n",
       "    </tr>\n",
       "    <tr>\n",
       "      <th>5</th>\n",
       "      <td>arm</td>\n",
       "      <td>93.630573</td>\n",
       "    </tr>\n",
       "    <tr>\n",
       "      <th>6</th>\n",
       "      <td>achilles</td>\n",
       "      <td>93.126991</td>\n",
       "    </tr>\n",
       "    <tr>\n",
       "      <th>7</th>\n",
       "      <td>collarbone</td>\n",
       "      <td>92.727273</td>\n",
       "    </tr>\n",
       "    <tr>\n",
       "      <th>8</th>\n",
       "      <td>leg</td>\n",
       "      <td>92.113246</td>\n",
       "    </tr>\n",
       "    <tr>\n",
       "      <th>9</th>\n",
       "      <td>personal</td>\n",
       "      <td>88.095238</td>\n",
       "    </tr>\n",
       "    <tr>\n",
       "      <th>10</th>\n",
       "      <td>biceps</td>\n",
       "      <td>85.523810</td>\n",
       "    </tr>\n",
       "    <tr>\n",
       "      <th>11</th>\n",
       "      <td>forearm</td>\n",
       "      <td>84.251969</td>\n",
       "    </tr>\n",
       "    <tr>\n",
       "      <th>12</th>\n",
       "      <td>knee</td>\n",
       "      <td>76.090935</td>\n",
       "    </tr>\n",
       "    <tr>\n",
       "      <th>13</th>\n",
       "      <td>concussion</td>\n",
       "      <td>75.614140</td>\n",
       "    </tr>\n",
       "    <tr>\n",
       "      <th>14</th>\n",
       "      <td>foot</td>\n",
       "      <td>73.686314</td>\n",
       "    </tr>\n",
       "    <tr>\n",
       "      <th>15</th>\n",
       "      <td>shin</td>\n",
       "      <td>71.517028</td>\n",
       "    </tr>\n",
       "    <tr>\n",
       "      <th>16</th>\n",
       "      <td>wrist</td>\n",
       "      <td>70.882040</td>\n",
       "    </tr>\n",
       "    <tr>\n",
       "      <th>17</th>\n",
       "      <td>neck</td>\n",
       "      <td>69.612940</td>\n",
       "    </tr>\n",
       "    <tr>\n",
       "      <th>18</th>\n",
       "      <td>hamstring</td>\n",
       "      <td>68.444778</td>\n",
       "    </tr>\n",
       "    <tr>\n",
       "      <th>19</th>\n",
       "      <td>quadriceps</td>\n",
       "      <td>67.669173</td>\n",
       "    </tr>\n",
       "    <tr>\n",
       "      <th>20</th>\n",
       "      <td>shoulder</td>\n",
       "      <td>62.154360</td>\n",
       "    </tr>\n",
       "    <tr>\n",
       "      <th>21</th>\n",
       "      <td>ankle</td>\n",
       "      <td>61.964868</td>\n",
       "    </tr>\n",
       "    <tr>\n",
       "      <th>22</th>\n",
       "      <td>hip</td>\n",
       "      <td>60.761347</td>\n",
       "    </tr>\n",
       "    <tr>\n",
       "      <th>23</th>\n",
       "      <td>calf</td>\n",
       "      <td>59.459459</td>\n",
       "    </tr>\n",
       "    <tr>\n",
       "      <th>24</th>\n",
       "      <td>toe</td>\n",
       "      <td>58.484349</td>\n",
       "    </tr>\n",
       "    <tr>\n",
       "      <th>25</th>\n",
       "      <td>thumb</td>\n",
       "      <td>58.204769</td>\n",
       "    </tr>\n",
       "    <tr>\n",
       "      <th>26</th>\n",
       "      <td>abdomen</td>\n",
       "      <td>57.826087</td>\n",
       "    </tr>\n",
       "    <tr>\n",
       "      <th>27</th>\n",
       "      <td>back</td>\n",
       "      <td>56.967357</td>\n",
       "    </tr>\n",
       "    <tr>\n",
       "      <th>28</th>\n",
       "      <td>elbow</td>\n",
       "      <td>56.952169</td>\n",
       "    </tr>\n",
       "    <tr>\n",
       "      <th>29</th>\n",
       "      <td>hand</td>\n",
       "      <td>55.579869</td>\n",
       "    </tr>\n",
       "    <tr>\n",
       "      <th>30</th>\n",
       "      <td>groin</td>\n",
       "      <td>54.921332</td>\n",
       "    </tr>\n",
       "    <tr>\n",
       "      <th>31</th>\n",
       "      <td>chest</td>\n",
       "      <td>52.459016</td>\n",
       "    </tr>\n",
       "    <tr>\n",
       "      <th>32</th>\n",
       "      <td>head</td>\n",
       "      <td>51.214128</td>\n",
       "    </tr>\n",
       "    <tr>\n",
       "      <th>33</th>\n",
       "      <td>thigh</td>\n",
       "      <td>45.090439</td>\n",
       "    </tr>\n",
       "    <tr>\n",
       "      <th>34</th>\n",
       "      <td>illness</td>\n",
       "      <td>45.033930</td>\n",
       "    </tr>\n",
       "    <tr>\n",
       "      <th>35</th>\n",
       "      <td>finger</td>\n",
       "      <td>41.379310</td>\n",
       "    </tr>\n",
       "    <tr>\n",
       "      <th>36</th>\n",
       "      <td>ribs</td>\n",
       "      <td>39.460784</td>\n",
       "    </tr>\n",
       "    <tr>\n",
       "      <th>37</th>\n",
       "      <td>suspension_served</td>\n",
       "      <td>30.693069</td>\n",
       "    </tr>\n",
       "    <tr>\n",
       "      <th>38</th>\n",
       "      <td>not_injury_related</td>\n",
       "      <td>21.825397</td>\n",
       "    </tr>\n",
       "  </tbody>\n",
       "</table>\n",
       "</div>"
      ],
      "text/plain": [
       "                reason  miss_probability\n",
       "0          undisclosed         99.469526\n",
       "1           suspension         98.181818\n",
       "2              triceps         95.094937\n",
       "3             pectoral         94.792899\n",
       "4               fibula         94.701987\n",
       "5                  arm         93.630573\n",
       "6             achilles         93.126991\n",
       "7           collarbone         92.727273\n",
       "8                  leg         92.113246\n",
       "9             personal         88.095238\n",
       "10              biceps         85.523810\n",
       "11             forearm         84.251969\n",
       "12                knee         76.090935\n",
       "13          concussion         75.614140\n",
       "14                foot         73.686314\n",
       "15                shin         71.517028\n",
       "16               wrist         70.882040\n",
       "17                neck         69.612940\n",
       "18           hamstring         68.444778\n",
       "19          quadriceps         67.669173\n",
       "20            shoulder         62.154360\n",
       "21               ankle         61.964868\n",
       "22                 hip         60.761347\n",
       "23                calf         59.459459\n",
       "24                 toe         58.484349\n",
       "25               thumb         58.204769\n",
       "26             abdomen         57.826087\n",
       "27                back         56.967357\n",
       "28               elbow         56.952169\n",
       "29                hand         55.579869\n",
       "30               groin         54.921332\n",
       "31               chest         52.459016\n",
       "32                head         51.214128\n",
       "33               thigh         45.090439\n",
       "34             illness         45.033930\n",
       "35              finger         41.379310\n",
       "36                ribs         39.460784\n",
       "37   suspension_served         30.693069\n",
       "38  not_injury_related         21.825397"
      ]
     },
     "execution_count": 13,
     "metadata": {},
     "output_type": "execute_result"
    }
   ],
   "source": [
    "miss_probability = pandas.read_sql_query('''\n",
    "    WITH occurrences AS (\n",
    "        SELECT LOWER(reason) as reason, count(*) as frequency\n",
    "        FROM injuries JOIN injury_reasons USING (player, team, week)\n",
    "        GROUP BY reason \n",
    "    ),\n",
    "    misses AS (\n",
    "        SELECT LOWER(reason) as reason, count(*) as frequency\n",
    "        FROM injuries JOIN injury_reasons USING (player, team, week)\n",
    "        WHERE outcome = 'DID_NOT_PLAY'\n",
    "        GROUP BY reason\n",
    "    )\n",
    "    SELECT reason, CAST(misses.frequency AS REAL) * 100 / occurrences.frequency AS miss_probability FROM\n",
    "    occurrences JOIN misses USING (reason)\n",
    "    WHERE occurrences.frequency >= 100\n",
    "    ORDER BY miss_probability DESC\n",
    "''', database)\n",
    "miss_probability"
   ]
  },
  {
   "cell_type": "markdown",
   "metadata": {},
   "source": [
    "## Injuries by position\n",
    "\n",
    "We also have the `player` and `player_positions` tables available to us. They provide basic information about players such as their name and position.\n",
    "\n",
    "Let's first examine the table schema for `players`:\n",
    "\n",
    "- `player`: Same as above.\n",
    "- `name`: The player's full name.\n",
    "- `first_team_all_pros`: The number of 1st-Team All-Pros this player achieved in their career.\n",
    "- `pro_bowls`: The number of Pro Bowls this player achieved in their career.\n",
    "- `career_approx_value`: The total weighted [approximate value][av] of a player across his career.\n",
    "\n",
    "[av]:https://www.pro-football-reference.com/blog/index37a8.html"
   ]
  },
  {
   "cell_type": "code",
   "execution_count": 14,
   "metadata": {},
   "outputs": [
    {
     "name": "stdout",
     "output_type": "stream",
     "text": [
      "CREATE TABLE players (\n",
      "                player TEXT PRIMARY KEY,\n",
      "                name TEXT,\n",
      "                first_team_all_pros INTEGER,\n",
      "                pro_bowls INTEGER,\n",
      "                career_approx_value INTEGER\n",
      "            )\n"
     ]
    }
   ],
   "source": [
    "print_schema(database, 'players')"
   ]
  },
  {
   "cell_type": "markdown",
   "metadata": {},
   "source": [
    "Let's also examine the table schema for `player_positions`:\n",
    "\n",
    "- `player`: Same as above.\n",
    "- `position`: A position played by this player at least once in their career. Keep in mind that a player may have multiple positions."
   ]
  },
  {
   "cell_type": "code",
   "execution_count": 15,
   "metadata": {},
   "outputs": [
    {
     "name": "stdout",
     "output_type": "stream",
     "text": [
      "CREATE TABLE player_positions (\n",
      "                player TEXT,\n",
      "                position TEXT,\n",
      "                PRIMARY KEY (player, position),\n",
      "                FOREIGN KEY (player) REFERENCES players(player)\n",
      "            )\n"
     ]
    }
   ],
   "source": [
    "print_schema(database, 'player_positions')"
   ]
  },
  {
   "cell_type": "markdown",
   "metadata": {},
   "source": [
    "Now, let's look at the distribution of player positions across the league to see what our sample sizes are like."
   ]
  },
  {
   "cell_type": "code",
   "execution_count": 16,
   "metadata": {},
   "outputs": [
    {
     "data": {
      "image/png": "[encoded data removed]",
      "text/plain": [
       "<Figure size 720x576 with 1 Axes>"
      ]
     },
     "metadata": {
      "needs_background": "light"
     },
     "output_type": "display_data"
    }
   ],
   "source": [
    "positions = pandas.read_sql_query('''\n",
    "    SELECT position, count(*) as frequency\n",
    "    FROM players JOIN player_positions USING (player)\n",
    "    GROUP BY position\n",
    "    ORDER BY frequency DESC\n",
    "''', database)\n",
    "pyplot.figure(figsize=(10, 8))\n",
    "plot = seaborn.barplot(x='position', y='frequency', data=positions)\n",
    "pyplot.show()"
   ]
  },
  {
   "cell_type": "markdown",
   "metadata": {},
   "source": [
    "Now, let's see what positions are the most often injured. At first glance, it certainly appears that defensive players are getting injured more often. But, we have not yet weighed these occurrences against how many players are available for each of these positions."
   ]
  },
  {
   "cell_type": "code",
   "execution_count": 17,
   "metadata": {},
   "outputs": [
    {
     "data": {
      "image/png": "[encoded data removed]",
      "text/plain": [
       "<Figure size 720x576 with 1 Axes>"
      ]
     },
     "metadata": {
      "needs_background": "light"
     },
     "output_type": "display_data"
    }
   ],
   "source": [
    "injuries_by_positions = pandas.read_sql_query('''\n",
    "    SELECT position, count(*) AS frequency FROM\n",
    "    injuries LEFT JOIN player_positions USING (player)\n",
    "    GROUP BY position\n",
    "    ORDER BY frequency DESC\n",
    "''', database)\n",
    "pyplot.figure(figsize=(10, 8))\n",
    "plot = seaborn.barplot(x='position', y='frequency', data=injuries_by_positions)\n",
    "pyplot.show()"
   ]
  }
 ],
 "metadata": {
  "kernelspec": {
   "display_name": "Python 3",
   "language": "python",
   "name": "python3"
  },
  "language_info": {
   "codemirror_mode": {
    "name": "ipython",
    "version": 3
   },
   "file_extension": ".py",
   "mimetype": "text/x-python",
   "name": "python",
   "nbconvert_exporter": "python",
   "pygments_lexer": "ipython3",
   "version": "3.7.5"
  }
 },
 "nbformat": 4,
 "nbformat_minor": 4
}
