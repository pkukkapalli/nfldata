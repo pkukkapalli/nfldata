{
 "metadata": {
  "language_info": {
   "codemirror_mode": {
    "name": "ipython",
    "version": 3
   },
   "file_extension": ".py",
   "mimetype": "text/x-python",
   "name": "python",
   "nbconvert_exporter": "python",
   "pygments_lexer": "ipython3",
   "version": "3.8.6-final"
  },
  "orig_nbformat": 2,
  "kernelspec": {
   "name": "python3",
   "display_name": "Python 3.8.6 64-bit ('nfldata-0Ow32Zhh-py3.8': venv)",
   "metadata": {
    "interpreter": {
     "hash": "963c3980f9bc863f8590a8d28ad208e144f021896ca4057a23dfddc23acf6b55"
    }
   }
  }
 },
 "nbformat": 4,
 "nbformat_minor": 2,
 "cells": [
  {
   "source": [
    "# Front Office Executives in the NFL\n",
    "\n",
    "Here we are going to try to figure out who are the best GMs in NFL history. Let's start by looking at all of the titles someone in the front office might have."
   ],
   "cell_type": "markdown",
   "metadata": {}
  },
  {
   "cell_type": "code",
   "execution_count": 92,
   "metadata": {},
   "outputs": [],
   "source": [
    "import sqlite3\n",
    "import pandas\n",
    "import seaborn\n",
    "import numpy\n",
    "\n",
    "database = sqlite3.connect('../nfldata.sqlite')"
   ]
  },
  {
   "cell_type": "code",
   "execution_count": 81,
   "metadata": {},
   "outputs": [
    {
     "output_type": "execute_result",
     "data": {
      "text/plain": [
       "                                   title  number\n",
       "0                        General Manager     158\n",
       "1                        Principal Owner      44\n",
       "2             Head Coach/General Manager      32\n",
       "3                               Co-Owner      21\n",
       "4    Head Coach/de facto General Manager      20\n",
       "..                                   ...     ...\n",
       "122                 CEO/Managing Partner       1\n",
       "123                                  CEO       1\n",
       "124             Business General Manager       1\n",
       "125   Asst. Director of Player Personnel       1\n",
       "126     Acting President/General Manager       1\n",
       "\n",
       "[127 rows x 2 columns]"
      ],
      "text/html": "<div>\n<style scoped>\n    .dataframe tbody tr th:only-of-type {\n        vertical-align: middle;\n    }\n\n    .dataframe tbody tr th {\n        vertical-align: top;\n    }\n\n    .dataframe thead th {\n        text-align: right;\n    }\n</style>\n<table border=\"1\" class=\"dataframe\">\n  <thead>\n    <tr style=\"text-align: right;\">\n      <th></th>\n      <th>title</th>\n      <th>number</th>\n    </tr>\n  </thead>\n  <tbody>\n    <tr>\n      <th>0</th>\n      <td>General Manager</td>\n      <td>158</td>\n    </tr>\n    <tr>\n      <th>1</th>\n      <td>Principal Owner</td>\n      <td>44</td>\n    </tr>\n    <tr>\n      <th>2</th>\n      <td>Head Coach/General Manager</td>\n      <td>32</td>\n    </tr>\n    <tr>\n      <th>3</th>\n      <td>Co-Owner</td>\n      <td>21</td>\n    </tr>\n    <tr>\n      <th>4</th>\n      <td>Head Coach/de facto General Manager</td>\n      <td>20</td>\n    </tr>\n    <tr>\n      <th>...</th>\n      <td>...</td>\n      <td>...</td>\n    </tr>\n    <tr>\n      <th>122</th>\n      <td>CEO/Managing Partner</td>\n      <td>1</td>\n    </tr>\n    <tr>\n      <th>123</th>\n      <td>CEO</td>\n      <td>1</td>\n    </tr>\n    <tr>\n      <th>124</th>\n      <td>Business General Manager</td>\n      <td>1</td>\n    </tr>\n    <tr>\n      <th>125</th>\n      <td>Asst. Director of Player Personnel</td>\n      <td>1</td>\n    </tr>\n    <tr>\n      <th>126</th>\n      <td>Acting President/General Manager</td>\n      <td>1</td>\n    </tr>\n  </tbody>\n</table>\n<p>127 rows × 2 columns</p>\n</div>"
     },
     "metadata": {},
     "execution_count": 81
    }
   ],
   "source": [
    "query = '''\n",
    "    SELECT title, COUNT(DISTINCT executive) AS number FROM front_office_members\n",
    "    GROUP BY title ORDER BY number DESC\n",
    "'''\n",
    "front_office_titles = pandas.read_sql_query(query, database)\n",
    "front_office_titles"
   ]
  },
  {
   "source": [
    "Let's filter, the title a little bit further since we are most interested in those who make the actual roster decisions. We'll use some form of General Manager or VP of Football Operations (held by many de facto GMs such as Howie Roseman)."
   ],
   "cell_type": "markdown",
   "metadata": {}
  },
  {
   "cell_type": "code",
   "execution_count": 82,
   "metadata": {},
   "outputs": [
    {
     "output_type": "execute_result",
     "data": {
      "text/plain": [
       "                                        title  number\n",
       "0                             General Manager     158\n",
       "1                  Head Coach/General Manager      32\n",
       "2         Head Coach/de facto General Manager      20\n",
       "3                   President/General Manager      18\n",
       "4                Executive VP/General Manager      13\n",
       "..                                        ...     ...\n",
       "60                          Coach/de-facto GM       1\n",
       "61                                   Coach/GM       1\n",
       "62  Co-Owner/President of Football Operations       1\n",
       "63                   Business General Manager       1\n",
       "64           Acting President/General Manager       1\n",
       "\n",
       "[65 rows x 2 columns]"
      ],
      "text/html": "<div>\n<style scoped>\n    .dataframe tbody tr th:only-of-type {\n        vertical-align: middle;\n    }\n\n    .dataframe tbody tr th {\n        vertical-align: top;\n    }\n\n    .dataframe thead th {\n        text-align: right;\n    }\n</style>\n<table border=\"1\" class=\"dataframe\">\n  <thead>\n    <tr style=\"text-align: right;\">\n      <th></th>\n      <th>title</th>\n      <th>number</th>\n    </tr>\n  </thead>\n  <tbody>\n    <tr>\n      <th>0</th>\n      <td>General Manager</td>\n      <td>158</td>\n    </tr>\n    <tr>\n      <th>1</th>\n      <td>Head Coach/General Manager</td>\n      <td>32</td>\n    </tr>\n    <tr>\n      <th>2</th>\n      <td>Head Coach/de facto General Manager</td>\n      <td>20</td>\n    </tr>\n    <tr>\n      <th>3</th>\n      <td>President/General Manager</td>\n      <td>18</td>\n    </tr>\n    <tr>\n      <th>4</th>\n      <td>Executive VP/General Manager</td>\n      <td>13</td>\n    </tr>\n    <tr>\n      <th>...</th>\n      <td>...</td>\n      <td>...</td>\n    </tr>\n    <tr>\n      <th>60</th>\n      <td>Coach/de-facto GM</td>\n      <td>1</td>\n    </tr>\n    <tr>\n      <th>61</th>\n      <td>Coach/GM</td>\n      <td>1</td>\n    </tr>\n    <tr>\n      <th>62</th>\n      <td>Co-Owner/President of Football Operations</td>\n      <td>1</td>\n    </tr>\n    <tr>\n      <th>63</th>\n      <td>Business General Manager</td>\n      <td>1</td>\n    </tr>\n    <tr>\n      <th>64</th>\n      <td>Acting President/General Manager</td>\n      <td>1</td>\n    </tr>\n  </tbody>\n</table>\n<p>65 rows × 2 columns</p>\n</div>"
     },
     "metadata": {},
     "execution_count": 82
    }
   ],
   "source": [
    "query = '''\n",
    "    SELECT title, COUNT(DISTINCT executive) AS number FROM front_office_members\n",
    "    WHERE LOWER(title) LIKE '%general manager%'\n",
    "        OR LOWER(title) LIKE '%gm%'\n",
    "        OR LOWER(title) LIKE '%football ops%'\n",
    "        OR LOWER(title) LIKE '%football operations%'\n",
    "    GROUP BY title ORDER BY number DESC\n",
    "'''\n",
    "front_office_titles = pandas.read_sql_query(query, database)\n",
    "front_office_titles"
   ]
  },
  {
   "source": [
    "Now, let's go ahead and see who some of these GMs are. We'll start by breaking down which executives had the most pro bowlers."
   ],
   "cell_type": "markdown",
   "metadata": {}
  },
  {
   "cell_type": "code",
   "execution_count": 83,
   "metadata": {},
   "outputs": [
    {
     "output_type": "execute_result",
     "data": {
      "text/plain": [
       "                 name  pro_bowlers\n",
       "0            Al Davis           79\n",
       "1        George Halas           72\n",
       "2          Paul Brown           62\n",
       "3         Jerry Jones           56\n",
       "4      Don Klosterman           55\n",
       "5        Louis Spadia           53\n",
       "6   Richard Gallagher           48\n",
       "7         Tex Schramm           45\n",
       "8           Ray Walsh           44\n",
       "9     Francis Fogarty           43\n",
       "10       Bill Bidwill           42\n",
       "11        Bill Polian           41\n",
       "12     Bill Belichick           41\n",
       "13      Jack Steadman           40\n",
       "14          Jim Finks           40\n",
       "15      Ozzie Newsome           39\n",
       "16       Mike Holovak           39\n",
       "17      Kevin Colbert           36\n",
       "18      Vince McNally           35\n",
       "19         Jack Espey           35"
      ],
      "text/html": "<div>\n<style scoped>\n    .dataframe tbody tr th:only-of-type {\n        vertical-align: middle;\n    }\n\n    .dataframe tbody tr th {\n        vertical-align: top;\n    }\n\n    .dataframe thead th {\n        text-align: right;\n    }\n</style>\n<table border=\"1\" class=\"dataframe\">\n  <thead>\n    <tr style=\"text-align: right;\">\n      <th></th>\n      <th>name</th>\n      <th>pro_bowlers</th>\n    </tr>\n  </thead>\n  <tbody>\n    <tr>\n      <th>0</th>\n      <td>Al Davis</td>\n      <td>79</td>\n    </tr>\n    <tr>\n      <th>1</th>\n      <td>George Halas</td>\n      <td>72</td>\n    </tr>\n    <tr>\n      <th>2</th>\n      <td>Paul Brown</td>\n      <td>62</td>\n    </tr>\n    <tr>\n      <th>3</th>\n      <td>Jerry Jones</td>\n      <td>56</td>\n    </tr>\n    <tr>\n      <th>4</th>\n      <td>Don Klosterman</td>\n      <td>55</td>\n    </tr>\n    <tr>\n      <th>5</th>\n      <td>Louis Spadia</td>\n      <td>53</td>\n    </tr>\n    <tr>\n      <th>6</th>\n      <td>Richard Gallagher</td>\n      <td>48</td>\n    </tr>\n    <tr>\n      <th>7</th>\n      <td>Tex Schramm</td>\n      <td>45</td>\n    </tr>\n    <tr>\n      <th>8</th>\n      <td>Ray Walsh</td>\n      <td>44</td>\n    </tr>\n    <tr>\n      <th>9</th>\n      <td>Francis Fogarty</td>\n      <td>43</td>\n    </tr>\n    <tr>\n      <th>10</th>\n      <td>Bill Bidwill</td>\n      <td>42</td>\n    </tr>\n    <tr>\n      <th>11</th>\n      <td>Bill Polian</td>\n      <td>41</td>\n    </tr>\n    <tr>\n      <th>12</th>\n      <td>Bill Belichick</td>\n      <td>41</td>\n    </tr>\n    <tr>\n      <th>13</th>\n      <td>Jack Steadman</td>\n      <td>40</td>\n    </tr>\n    <tr>\n      <th>14</th>\n      <td>Jim Finks</td>\n      <td>40</td>\n    </tr>\n    <tr>\n      <th>15</th>\n      <td>Ozzie Newsome</td>\n      <td>39</td>\n    </tr>\n    <tr>\n      <th>16</th>\n      <td>Mike Holovak</td>\n      <td>39</td>\n    </tr>\n    <tr>\n      <th>17</th>\n      <td>Kevin Colbert</td>\n      <td>36</td>\n    </tr>\n    <tr>\n      <th>18</th>\n      <td>Vince McNally</td>\n      <td>35</td>\n    </tr>\n    <tr>\n      <th>19</th>\n      <td>Jack Espey</td>\n      <td>35</td>\n    </tr>\n  </tbody>\n</table>\n</div>"
     },
     "metadata": {},
     "execution_count": 83
    }
   ],
   "source": [
    "query = '''\n",
    "    SELECT\n",
    "        executives.name,\n",
    "        COUNT(DISTINCT player) AS pro_bowlers\n",
    "    FROM executives\n",
    "    JOIN front_office_members USING (executive)\n",
    "    JOIN roster_members USING (team)\n",
    "    JOIN players USING (player)\n",
    "    JOIN teams USING (team)\n",
    "    WHERE (LOWER(title) LIKE '%general manager%'\n",
    "        OR LOWER(title) LIKE '%gm%'\n",
    "        OR LOWER(title) LIKE '%football ops%'\n",
    "        OR LOWER(title) LIKE '%football operations%')\n",
    "        AND pro_bowl > 0\n",
    "    GROUP BY executives.executive\n",
    "    ORDER BY pro_bowlers DESC\n",
    "'''\n",
    "general_managers_pro_bowlers = pandas.read_sql_query(query, database)\n",
    "general_managers_pro_bowlers.head(20)"
   ]
  },
  {
   "source": [
    "Let's take a look at the average number of pro bowlers on GM's roster, and the standard deviation."
   ],
   "cell_type": "markdown",
   "metadata": {}
  },
  {
   "cell_type": "code",
   "execution_count": 106,
   "metadata": {},
   "outputs": [
    {
     "output_type": "execute_result",
     "data": {
      "text/plain": [
       "13.771653543307087"
      ]
     },
     "metadata": {},
     "execution_count": 106
    }
   ],
   "source": [
    "numpy.mean(general_managers_pro_bowlers['pro_bowlers'])"
   ]
  },
  {
   "cell_type": "code",
   "execution_count": 107,
   "metadata": {},
   "outputs": [
    {
     "output_type": "execute_result",
     "data": {
      "text/plain": [
       "12.77928255498427"
      ]
     },
     "metadata": {},
     "execution_count": 107
    }
   ],
   "source": [
    "numpy.std(general_managers_pro_bowlers['pro_bowlers'])"
   ]
  },
  {
   "cell_type": "code",
   "execution_count": 91,
   "metadata": {},
   "outputs": [
    {
     "output_type": "execute_result",
     "data": {
      "text/plain": [
       "<AxesSubplot:xlabel='pro_bowlers', ylabel='Density'>"
      ]
     },
     "metadata": {},
     "execution_count": 91
    },
    {
     "output_type": "display_data",
     "data": {
      "text/plain": "<Figure size 432x288 with 1 Axes>",
      "image/svg+xml": "<?xml version=\"1.0\" encoding=\"utf-8\" standalone=\"no\"?>\n<!DOCTYPE svg PUBLIC \"-//W3C//DTD SVG 1.1//EN\"\n  \"http://www.w3.org/Graphics/SVG/1.1/DTD/svg11.dtd\">\n<!-- Created with matplotlib (https://matplotlib.org/) -->\n<svg height=\"262.474375pt\" version=\"1.1\" viewBox=\"0 0 392.14375 262.474375\" width=\"392.14375pt\" xmlns=\"http://www.w3.org/2000/svg\" xmlns:xlink=\"http://www.w3.org/1999/xlink\">\n <metadata>\n  <rdf:RDF xmlns:cc=\"http://creativecommons.org/ns#\" xmlns:dc=\"http://purl.org/dc/elements/1.1/\" xmlns:rdf=\"http://www.w3.org/1999/02/22-rdf-syntax-ns#\">\n   <cc:Work>\n    <dc:type rdf:resource=\"http://purl.org/dc/dcmitype/StillImage\"/>\n    <dc:date>2021-01-26T22:42:19.475114</dc:date>\n    <dc:format>image/svg+xml</dc:format>\n    <dc:creator>\n     <cc:Agent>\n      <dc:title>Matplotlib v3.3.3, https://matplotlib.org/</dc:title>\n     </cc:Agent>\n    </dc:creator>\n   </cc:Work>\n  </rdf:RDF>\n </metadata>\n <defs>\n  <style type=\"text/css\">*{stroke-linecap:butt;stroke-linejoin:round;}</style>\n </defs>\n <g id=\"figure_1\">\n  <g id=\"patch_1\">\n   <path d=\"M 0 262.474375 \nL 392.14375 262.474375 \nL 392.14375 0 \nL 0 0 \nz\n\" style=\"fill:none;\"/>\n  </g>\n  <g id=\"axes_1\">\n   <g id=\"patch_2\">\n    <path d=\"M 50.14375 224.64 \nL 384.94375 224.64 \nL 384.94375 7.2 \nL 50.14375 7.2 \nz\n\" style=\"fill:#ffffff;\"/>\n   </g>\n   <g id=\"patch_3\">\n    <path clip-path=\"url(#p47c268113f)\" d=\"M 102.72651 224.64 \nL 115.483981 224.64 \nL 115.483981 17.554286 \nL 102.72651 17.554286 \nz\n\" style=\"fill:#1f77b4;opacity:0.4;\"/>\n   </g>\n   <g id=\"patch_4\">\n    <path clip-path=\"url(#p47c268113f)\" d=\"M 115.483981 224.64 \nL 128.241452 224.64 \nL 128.241452 45.793247 \nL 115.483981 45.793247 \nz\n\" style=\"fill:#1f77b4;opacity:0.4;\"/>\n   </g>\n   <g id=\"patch_5\">\n    <path clip-path=\"url(#p47c268113f)\" d=\"M 128.241452 224.64 \nL 140.998923 224.64 \nL 140.998923 80.307532 \nL 128.241452 80.307532 \nz\n\" style=\"fill:#1f77b4;opacity:0.4;\"/>\n   </g>\n   <g id=\"patch_6\">\n    <path clip-path=\"url(#p47c268113f)\" d=\"M 140.998923 224.64 \nL 153.756394 224.64 \nL 153.756394 158.749091 \nL 140.998923 158.749091 \nz\n\" style=\"fill:#1f77b4;opacity:0.4;\"/>\n   </g>\n   <g id=\"patch_7\">\n    <path clip-path=\"url(#p47c268113f)\" d=\"M 153.756394 224.64 \nL 166.513865 224.64 \nL 166.513865 161.886753 \nL 153.756394 161.886753 \nz\n\" style=\"fill:#1f77b4;opacity:0.4;\"/>\n   </g>\n   <g id=\"patch_8\">\n    <path clip-path=\"url(#p47c268113f)\" d=\"M 166.513865 224.64 \nL 179.271337 224.64 \nL 179.271337 193.263377 \nL 166.513865 193.263377 \nz\n\" style=\"fill:#1f77b4;opacity:0.4;\"/>\n   </g>\n   <g id=\"patch_9\">\n    <path clip-path=\"url(#p47c268113f)\" d=\"M 179.271337 224.64 \nL 192.028808 224.64 \nL 192.028808 199.538701 \nL 179.271337 199.538701 \nz\n\" style=\"fill:#1f77b4;opacity:0.4;\"/>\n   </g>\n   <g id=\"patch_10\">\n    <path clip-path=\"url(#p47c268113f)\" d=\"M 192.028808 224.64 \nL 204.786279 224.64 \nL 204.786279 199.538701 \nL 192.028808 199.538701 \nz\n\" style=\"fill:#1f77b4;opacity:0.4;\"/>\n   </g>\n   <g id=\"patch_11\">\n    <path clip-path=\"url(#p47c268113f)\" d=\"M 204.786279 224.64 \nL 217.54375 224.64 \nL 217.54375 215.227013 \nL 204.786279 215.227013 \nz\n\" style=\"fill:#1f77b4;opacity:0.4;\"/>\n   </g>\n   <g id=\"patch_12\">\n    <path clip-path=\"url(#p47c268113f)\" d=\"M 217.54375 224.64 \nL 230.301221 224.64 \nL 230.301221 202.676364 \nL 217.54375 202.676364 \nz\n\" style=\"fill:#1f77b4;opacity:0.4;\"/>\n   </g>\n   <g id=\"patch_13\">\n    <path clip-path=\"url(#p47c268113f)\" d=\"M 230.301221 224.64 \nL 243.058692 224.64 \nL 243.058692 218.364675 \nL 230.301221 218.364675 \nz\n\" style=\"fill:#1f77b4;opacity:0.4;\"/>\n   </g>\n   <g id=\"patch_14\">\n    <path clip-path=\"url(#p47c268113f)\" d=\"M 243.058692 224.64 \nL 255.816163 224.64 \nL 255.816163 224.64 \nL 243.058692 224.64 \nz\n\" style=\"fill:#1f77b4;opacity:0.4;\"/>\n   </g>\n   <g id=\"patch_15\">\n    <path clip-path=\"url(#p47c268113f)\" d=\"M 255.816163 224.64 \nL 268.573635 224.64 \nL 268.573635 215.227013 \nL 255.816163 215.227013 \nz\n\" style=\"fill:#1f77b4;opacity:0.4;\"/>\n   </g>\n   <g id=\"patch_16\">\n    <path clip-path=\"url(#p47c268113f)\" d=\"M 268.573635 224.64 \nL 281.331106 224.64 \nL 281.331106 224.64 \nL 268.573635 224.64 \nz\n\" style=\"fill:#1f77b4;opacity:0.4;\"/>\n   </g>\n   <g id=\"patch_17\">\n    <path clip-path=\"url(#p47c268113f)\" d=\"M 281.331106 224.64 \nL 294.088577 224.64 \nL 294.088577 221.502338 \nL 281.331106 221.502338 \nz\n\" style=\"fill:#1f77b4;opacity:0.4;\"/>\n   </g>\n   <g id=\"patch_18\">\n    <path clip-path=\"url(#p47c268113f)\" d=\"M 294.088577 224.64 \nL 306.846048 224.64 \nL 306.846048 224.64 \nL 294.088577 224.64 \nz\n\" style=\"fill:#1f77b4;opacity:0.4;\"/>\n   </g>\n   <g id=\"patch_19\">\n    <path clip-path=\"url(#p47c268113f)\" d=\"M 306.846048 224.64 \nL 319.603519 224.64 \nL 319.603519 221.502338 \nL 306.846048 221.502338 \nz\n\" style=\"fill:#1f77b4;opacity:0.4;\"/>\n   </g>\n   <g id=\"patch_20\">\n    <path clip-path=\"url(#p47c268113f)\" d=\"M 319.603519 224.64 \nL 332.36099 224.64 \nL 332.36099 221.502338 \nL 319.603519 221.502338 \nz\n\" style=\"fill:#1f77b4;opacity:0.4;\"/>\n   </g>\n   <g id=\"matplotlib.axis_1\">\n    <g id=\"xtick_1\">\n     <g id=\"line2d_1\">\n      <defs>\n       <path d=\"M 0 0 \nL 0 3.5 \n\" id=\"m56f60a57bb\" style=\"stroke:#000000;stroke-width:0.8;\"/>\n      </defs>\n      <g>\n       <use style=\"stroke:#000000;stroke-width:0.8;\" x=\"99.782478\" xlink:href=\"#m56f60a57bb\" y=\"224.64\"/>\n      </g>\n     </g>\n     <g id=\"text_1\">\n      <!-- 0 -->\n      <g transform=\"translate(96.601228 239.238438)scale(0.1 -0.1)\">\n       <defs>\n        <path d=\"M 31.78125 66.40625 \nQ 24.171875 66.40625 20.328125 58.90625 \nQ 16.5 51.421875 16.5 36.375 \nQ 16.5 21.390625 20.328125 13.890625 \nQ 24.171875 6.390625 31.78125 6.390625 \nQ 39.453125 6.390625 43.28125 13.890625 \nQ 47.125 21.390625 47.125 36.375 \nQ 47.125 51.421875 43.28125 58.90625 \nQ 39.453125 66.40625 31.78125 66.40625 \nz\nM 31.78125 74.21875 \nQ 44.046875 74.21875 50.515625 64.515625 \nQ 56.984375 54.828125 56.984375 36.375 \nQ 56.984375 17.96875 50.515625 8.265625 \nQ 44.046875 -1.421875 31.78125 -1.421875 \nQ 19.53125 -1.421875 13.0625 8.265625 \nQ 6.59375 17.96875 6.59375 36.375 \nQ 6.59375 54.828125 13.0625 64.515625 \nQ 19.53125 74.21875 31.78125 74.21875 \nz\n\" id=\"DejaVuSans-48\"/>\n       </defs>\n       <use xlink:href=\"#DejaVuSans-48\"/>\n      </g>\n     </g>\n    </g>\n    <g id=\"xtick_2\">\n     <g id=\"line2d_2\">\n      <g>\n       <use style=\"stroke:#000000;stroke-width:0.8;\" x=\"158.663114\" xlink:href=\"#m56f60a57bb\" y=\"224.64\"/>\n      </g>\n     </g>\n     <g id=\"text_2\">\n      <!-- 20 -->\n      <g transform=\"translate(152.300614 239.238438)scale(0.1 -0.1)\">\n       <defs>\n        <path d=\"M 19.1875 8.296875 \nL 53.609375 8.296875 \nL 53.609375 0 \nL 7.328125 0 \nL 7.328125 8.296875 \nQ 12.9375 14.109375 22.625 23.890625 \nQ 32.328125 33.6875 34.8125 36.53125 \nQ 39.546875 41.84375 41.421875 45.53125 \nQ 43.3125 49.21875 43.3125 52.78125 \nQ 43.3125 58.59375 39.234375 62.25 \nQ 35.15625 65.921875 28.609375 65.921875 \nQ 23.96875 65.921875 18.8125 64.3125 \nQ 13.671875 62.703125 7.8125 59.421875 \nL 7.8125 69.390625 \nQ 13.765625 71.78125 18.9375 73 \nQ 24.125 74.21875 28.421875 74.21875 \nQ 39.75 74.21875 46.484375 68.546875 \nQ 53.21875 62.890625 53.21875 53.421875 \nQ 53.21875 48.921875 51.53125 44.890625 \nQ 49.859375 40.875 45.40625 35.40625 \nQ 44.1875 33.984375 37.640625 27.21875 \nQ 31.109375 20.453125 19.1875 8.296875 \nz\n\" id=\"DejaVuSans-50\"/>\n       </defs>\n       <use xlink:href=\"#DejaVuSans-50\"/>\n       <use x=\"63.623047\" xlink:href=\"#DejaVuSans-48\"/>\n      </g>\n     </g>\n    </g>\n    <g id=\"xtick_3\">\n     <g id=\"line2d_3\">\n      <g>\n       <use style=\"stroke:#000000;stroke-width:0.8;\" x=\"217.54375\" xlink:href=\"#m56f60a57bb\" y=\"224.64\"/>\n      </g>\n     </g>\n     <g id=\"text_3\">\n      <!-- 40 -->\n      <g transform=\"translate(211.18125 239.238438)scale(0.1 -0.1)\">\n       <defs>\n        <path d=\"M 37.796875 64.3125 \nL 12.890625 25.390625 \nL 37.796875 25.390625 \nz\nM 35.203125 72.90625 \nL 47.609375 72.90625 \nL 47.609375 25.390625 \nL 58.015625 25.390625 \nL 58.015625 17.1875 \nL 47.609375 17.1875 \nL 47.609375 0 \nL 37.796875 0 \nL 37.796875 17.1875 \nL 4.890625 17.1875 \nL 4.890625 26.703125 \nz\n\" id=\"DejaVuSans-52\"/>\n       </defs>\n       <use xlink:href=\"#DejaVuSans-52\"/>\n       <use x=\"63.623047\" xlink:href=\"#DejaVuSans-48\"/>\n      </g>\n     </g>\n    </g>\n    <g id=\"xtick_4\">\n     <g id=\"line2d_4\">\n      <g>\n       <use style=\"stroke:#000000;stroke-width:0.8;\" x=\"276.424386\" xlink:href=\"#m56f60a57bb\" y=\"224.64\"/>\n      </g>\n     </g>\n     <g id=\"text_4\">\n      <!-- 60 -->\n      <g transform=\"translate(270.061886 239.238438)scale(0.1 -0.1)\">\n       <defs>\n        <path d=\"M 33.015625 40.375 \nQ 26.375 40.375 22.484375 35.828125 \nQ 18.609375 31.296875 18.609375 23.390625 \nQ 18.609375 15.53125 22.484375 10.953125 \nQ 26.375 6.390625 33.015625 6.390625 \nQ 39.65625 6.390625 43.53125 10.953125 \nQ 47.40625 15.53125 47.40625 23.390625 \nQ 47.40625 31.296875 43.53125 35.828125 \nQ 39.65625 40.375 33.015625 40.375 \nz\nM 52.59375 71.296875 \nL 52.59375 62.3125 \nQ 48.875 64.0625 45.09375 64.984375 \nQ 41.3125 65.921875 37.59375 65.921875 \nQ 27.828125 65.921875 22.671875 59.328125 \nQ 17.53125 52.734375 16.796875 39.40625 \nQ 19.671875 43.65625 24.015625 45.921875 \nQ 28.375 48.1875 33.59375 48.1875 \nQ 44.578125 48.1875 50.953125 41.515625 \nQ 57.328125 34.859375 57.328125 23.390625 \nQ 57.328125 12.15625 50.6875 5.359375 \nQ 44.046875 -1.421875 33.015625 -1.421875 \nQ 20.359375 -1.421875 13.671875 8.265625 \nQ 6.984375 17.96875 6.984375 36.375 \nQ 6.984375 53.65625 15.1875 63.9375 \nQ 23.390625 74.21875 37.203125 74.21875 \nQ 40.921875 74.21875 44.703125 73.484375 \nQ 48.484375 72.75 52.59375 71.296875 \nz\n\" id=\"DejaVuSans-54\"/>\n       </defs>\n       <use xlink:href=\"#DejaVuSans-54\"/>\n       <use x=\"63.623047\" xlink:href=\"#DejaVuSans-48\"/>\n      </g>\n     </g>\n    </g>\n    <g id=\"xtick_5\">\n     <g id=\"line2d_5\">\n      <g>\n       <use style=\"stroke:#000000;stroke-width:0.8;\" x=\"335.305022\" xlink:href=\"#m56f60a57bb\" y=\"224.64\"/>\n      </g>\n     </g>\n     <g id=\"text_5\">\n      <!-- 80 -->\n      <g transform=\"translate(328.942522 239.238438)scale(0.1 -0.1)\">\n       <defs>\n        <path d=\"M 31.78125 34.625 \nQ 24.75 34.625 20.71875 30.859375 \nQ 16.703125 27.09375 16.703125 20.515625 \nQ 16.703125 13.921875 20.71875 10.15625 \nQ 24.75 6.390625 31.78125 6.390625 \nQ 38.8125 6.390625 42.859375 10.171875 \nQ 46.921875 13.96875 46.921875 20.515625 \nQ 46.921875 27.09375 42.890625 30.859375 \nQ 38.875 34.625 31.78125 34.625 \nz\nM 21.921875 38.8125 \nQ 15.578125 40.375 12.03125 44.71875 \nQ 8.5 49.078125 8.5 55.328125 \nQ 8.5 64.0625 14.71875 69.140625 \nQ 20.953125 74.21875 31.78125 74.21875 \nQ 42.671875 74.21875 48.875 69.140625 \nQ 55.078125 64.0625 55.078125 55.328125 \nQ 55.078125 49.078125 51.53125 44.71875 \nQ 48 40.375 41.703125 38.8125 \nQ 48.828125 37.15625 52.796875 32.3125 \nQ 56.78125 27.484375 56.78125 20.515625 \nQ 56.78125 9.90625 50.3125 4.234375 \nQ 43.84375 -1.421875 31.78125 -1.421875 \nQ 19.734375 -1.421875 13.25 4.234375 \nQ 6.78125 9.90625 6.78125 20.515625 \nQ 6.78125 27.484375 10.78125 32.3125 \nQ 14.796875 37.15625 21.921875 38.8125 \nz\nM 18.3125 54.390625 \nQ 18.3125 48.734375 21.84375 45.5625 \nQ 25.390625 42.390625 31.78125 42.390625 \nQ 38.140625 42.390625 41.71875 45.5625 \nQ 45.3125 48.734375 45.3125 54.390625 \nQ 45.3125 60.0625 41.71875 63.234375 \nQ 38.140625 66.40625 31.78125 66.40625 \nQ 25.390625 66.40625 21.84375 63.234375 \nQ 18.3125 60.0625 18.3125 54.390625 \nz\n\" id=\"DejaVuSans-56\"/>\n       </defs>\n       <use xlink:href=\"#DejaVuSans-56\"/>\n       <use x=\"63.623047\" xlink:href=\"#DejaVuSans-48\"/>\n      </g>\n     </g>\n    </g>\n    <g id=\"text_6\">\n     <!-- pro_bowlers -->\n     <g transform=\"translate(187.41875 252.916562)scale(0.1 -0.1)\">\n      <defs>\n       <path d=\"M 18.109375 8.203125 \nL 18.109375 -20.796875 \nL 9.078125 -20.796875 \nL 9.078125 54.6875 \nL 18.109375 54.6875 \nL 18.109375 46.390625 \nQ 20.953125 51.265625 25.265625 53.625 \nQ 29.59375 56 35.59375 56 \nQ 45.5625 56 51.78125 48.09375 \nQ 58.015625 40.1875 58.015625 27.296875 \nQ 58.015625 14.40625 51.78125 6.484375 \nQ 45.5625 -1.421875 35.59375 -1.421875 \nQ 29.59375 -1.421875 25.265625 0.953125 \nQ 20.953125 3.328125 18.109375 8.203125 \nz\nM 48.6875 27.296875 \nQ 48.6875 37.203125 44.609375 42.84375 \nQ 40.53125 48.484375 33.40625 48.484375 \nQ 26.265625 48.484375 22.1875 42.84375 \nQ 18.109375 37.203125 18.109375 27.296875 \nQ 18.109375 17.390625 22.1875 11.75 \nQ 26.265625 6.109375 33.40625 6.109375 \nQ 40.53125 6.109375 44.609375 11.75 \nQ 48.6875 17.390625 48.6875 27.296875 \nz\n\" id=\"DejaVuSans-112\"/>\n       <path d=\"M 41.109375 46.296875 \nQ 39.59375 47.171875 37.8125 47.578125 \nQ 36.03125 48 33.890625 48 \nQ 26.265625 48 22.1875 43.046875 \nQ 18.109375 38.09375 18.109375 28.8125 \nL 18.109375 0 \nL 9.078125 0 \nL 9.078125 54.6875 \nL 18.109375 54.6875 \nL 18.109375 46.1875 \nQ 20.953125 51.171875 25.484375 53.578125 \nQ 30.03125 56 36.53125 56 \nQ 37.453125 56 38.578125 55.875 \nQ 39.703125 55.765625 41.0625 55.515625 \nz\n\" id=\"DejaVuSans-114\"/>\n       <path d=\"M 30.609375 48.390625 \nQ 23.390625 48.390625 19.1875 42.75 \nQ 14.984375 37.109375 14.984375 27.296875 \nQ 14.984375 17.484375 19.15625 11.84375 \nQ 23.34375 6.203125 30.609375 6.203125 \nQ 37.796875 6.203125 41.984375 11.859375 \nQ 46.1875 17.53125 46.1875 27.296875 \nQ 46.1875 37.015625 41.984375 42.703125 \nQ 37.796875 48.390625 30.609375 48.390625 \nz\nM 30.609375 56 \nQ 42.328125 56 49.015625 48.375 \nQ 55.71875 40.765625 55.71875 27.296875 \nQ 55.71875 13.875 49.015625 6.21875 \nQ 42.328125 -1.421875 30.609375 -1.421875 \nQ 18.84375 -1.421875 12.171875 6.21875 \nQ 5.515625 13.875 5.515625 27.296875 \nQ 5.515625 40.765625 12.171875 48.375 \nQ 18.84375 56 30.609375 56 \nz\n\" id=\"DejaVuSans-111\"/>\n       <path d=\"M 50.984375 -16.609375 \nL 50.984375 -23.578125 \nL -0.984375 -23.578125 \nL -0.984375 -16.609375 \nz\n\" id=\"DejaVuSans-95\"/>\n       <path d=\"M 48.6875 27.296875 \nQ 48.6875 37.203125 44.609375 42.84375 \nQ 40.53125 48.484375 33.40625 48.484375 \nQ 26.265625 48.484375 22.1875 42.84375 \nQ 18.109375 37.203125 18.109375 27.296875 \nQ 18.109375 17.390625 22.1875 11.75 \nQ 26.265625 6.109375 33.40625 6.109375 \nQ 40.53125 6.109375 44.609375 11.75 \nQ 48.6875 17.390625 48.6875 27.296875 \nz\nM 18.109375 46.390625 \nQ 20.953125 51.265625 25.265625 53.625 \nQ 29.59375 56 35.59375 56 \nQ 45.5625 56 51.78125 48.09375 \nQ 58.015625 40.1875 58.015625 27.296875 \nQ 58.015625 14.40625 51.78125 6.484375 \nQ 45.5625 -1.421875 35.59375 -1.421875 \nQ 29.59375 -1.421875 25.265625 0.953125 \nQ 20.953125 3.328125 18.109375 8.203125 \nL 18.109375 0 \nL 9.078125 0 \nL 9.078125 75.984375 \nL 18.109375 75.984375 \nz\n\" id=\"DejaVuSans-98\"/>\n       <path d=\"M 4.203125 54.6875 \nL 13.1875 54.6875 \nL 24.421875 12.015625 \nL 35.59375 54.6875 \nL 46.1875 54.6875 \nL 57.421875 12.015625 \nL 68.609375 54.6875 \nL 77.59375 54.6875 \nL 63.28125 0 \nL 52.6875 0 \nL 40.921875 44.828125 \nL 29.109375 0 \nL 18.5 0 \nz\n\" id=\"DejaVuSans-119\"/>\n       <path d=\"M 9.421875 75.984375 \nL 18.40625 75.984375 \nL 18.40625 0 \nL 9.421875 0 \nz\n\" id=\"DejaVuSans-108\"/>\n       <path d=\"M 56.203125 29.59375 \nL 56.203125 25.203125 \nL 14.890625 25.203125 \nQ 15.484375 15.921875 20.484375 11.0625 \nQ 25.484375 6.203125 34.421875 6.203125 \nQ 39.59375 6.203125 44.453125 7.46875 \nQ 49.3125 8.734375 54.109375 11.28125 \nL 54.109375 2.78125 \nQ 49.265625 0.734375 44.1875 -0.34375 \nQ 39.109375 -1.421875 33.890625 -1.421875 \nQ 20.796875 -1.421875 13.15625 6.1875 \nQ 5.515625 13.8125 5.515625 26.8125 \nQ 5.515625 40.234375 12.765625 48.109375 \nQ 20.015625 56 32.328125 56 \nQ 43.359375 56 49.78125 48.890625 \nQ 56.203125 41.796875 56.203125 29.59375 \nz\nM 47.21875 32.234375 \nQ 47.125 39.59375 43.09375 43.984375 \nQ 39.0625 48.390625 32.421875 48.390625 \nQ 24.90625 48.390625 20.390625 44.140625 \nQ 15.875 39.890625 15.1875 32.171875 \nz\n\" id=\"DejaVuSans-101\"/>\n       <path d=\"M 44.28125 53.078125 \nL 44.28125 44.578125 \nQ 40.484375 46.53125 36.375 47.5 \nQ 32.28125 48.484375 27.875 48.484375 \nQ 21.1875 48.484375 17.84375 46.4375 \nQ 14.5 44.390625 14.5 40.28125 \nQ 14.5 37.15625 16.890625 35.375 \nQ 19.28125 33.59375 26.515625 31.984375 \nL 29.59375 31.296875 \nQ 39.15625 29.25 43.1875 25.515625 \nQ 47.21875 21.78125 47.21875 15.09375 \nQ 47.21875 7.46875 41.1875 3.015625 \nQ 35.15625 -1.421875 24.609375 -1.421875 \nQ 20.21875 -1.421875 15.453125 -0.5625 \nQ 10.6875 0.296875 5.421875 2 \nL 5.421875 11.28125 \nQ 10.40625 8.6875 15.234375 7.390625 \nQ 20.0625 6.109375 24.8125 6.109375 \nQ 31.15625 6.109375 34.5625 8.28125 \nQ 37.984375 10.453125 37.984375 14.40625 \nQ 37.984375 18.0625 35.515625 20.015625 \nQ 33.0625 21.96875 24.703125 23.78125 \nL 21.578125 24.515625 \nQ 13.234375 26.265625 9.515625 29.90625 \nQ 5.8125 33.546875 5.8125 39.890625 \nQ 5.8125 47.609375 11.28125 51.796875 \nQ 16.75 56 26.8125 56 \nQ 31.78125 56 36.171875 55.265625 \nQ 40.578125 54.546875 44.28125 53.078125 \nz\n\" id=\"DejaVuSans-115\"/>\n      </defs>\n      <use xlink:href=\"#DejaVuSans-112\"/>\n      <use x=\"63.476562\" xlink:href=\"#DejaVuSans-114\"/>\n      <use x=\"102.339844\" xlink:href=\"#DejaVuSans-111\"/>\n      <use x=\"163.521484\" xlink:href=\"#DejaVuSans-95\"/>\n      <use x=\"213.521484\" xlink:href=\"#DejaVuSans-98\"/>\n      <use x=\"276.998047\" xlink:href=\"#DejaVuSans-111\"/>\n      <use x=\"338.179688\" xlink:href=\"#DejaVuSans-119\"/>\n      <use x=\"419.966797\" xlink:href=\"#DejaVuSans-108\"/>\n      <use x=\"447.75\" xlink:href=\"#DejaVuSans-101\"/>\n      <use x=\"509.273438\" xlink:href=\"#DejaVuSans-114\"/>\n      <use x=\"550.386719\" xlink:href=\"#DejaVuSans-115\"/>\n     </g>\n    </g>\n   </g>\n   <g id=\"matplotlib.axis_2\">\n    <g id=\"ytick_1\">\n     <g id=\"line2d_6\">\n      <defs>\n       <path d=\"M 0 0 \nL -3.5 0 \n\" id=\"maba349a9bc\" style=\"stroke:#000000;stroke-width:0.8;\"/>\n      </defs>\n      <g>\n       <use style=\"stroke:#000000;stroke-width:0.8;\" x=\"50.14375\" xlink:href=\"#maba349a9bc\" y=\"224.64\"/>\n      </g>\n     </g>\n     <g id=\"text_7\">\n      <!-- 0.00 -->\n      <g transform=\"translate(20.878125 228.439219)scale(0.1 -0.1)\">\n       <defs>\n        <path d=\"M 10.6875 12.40625 \nL 21 12.40625 \nL 21 0 \nL 10.6875 0 \nz\n\" id=\"DejaVuSans-46\"/>\n       </defs>\n       <use xlink:href=\"#DejaVuSans-48\"/>\n       <use x=\"63.623047\" xlink:href=\"#DejaVuSans-46\"/>\n       <use x=\"95.410156\" xlink:href=\"#DejaVuSans-48\"/>\n       <use x=\"159.033203\" xlink:href=\"#DejaVuSans-48\"/>\n      </g>\n     </g>\n    </g>\n    <g id=\"ytick_2\">\n     <g id=\"line2d_7\">\n      <g>\n       <use style=\"stroke:#000000;stroke-width:0.8;\" x=\"50.14375\" xlink:href=\"#maba349a9bc\" y=\"190.104797\"/>\n      </g>\n     </g>\n     <g id=\"text_8\">\n      <!-- 0.01 -->\n      <g transform=\"translate(20.878125 193.904015)scale(0.1 -0.1)\">\n       <defs>\n        <path d=\"M 12.40625 8.296875 \nL 28.515625 8.296875 \nL 28.515625 63.921875 \nL 10.984375 60.40625 \nL 10.984375 69.390625 \nL 28.421875 72.90625 \nL 38.28125 72.90625 \nL 38.28125 8.296875 \nL 54.390625 8.296875 \nL 54.390625 0 \nL 12.40625 0 \nz\n\" id=\"DejaVuSans-49\"/>\n       </defs>\n       <use xlink:href=\"#DejaVuSans-48\"/>\n       <use x=\"63.623047\" xlink:href=\"#DejaVuSans-46\"/>\n       <use x=\"95.410156\" xlink:href=\"#DejaVuSans-48\"/>\n       <use x=\"159.033203\" xlink:href=\"#DejaVuSans-49\"/>\n      </g>\n     </g>\n    </g>\n    <g id=\"ytick_3\">\n     <g id=\"line2d_8\">\n      <g>\n       <use style=\"stroke:#000000;stroke-width:0.8;\" x=\"50.14375\" xlink:href=\"#maba349a9bc\" y=\"155.569593\"/>\n      </g>\n     </g>\n     <g id=\"text_9\">\n      <!-- 0.02 -->\n      <g transform=\"translate(20.878125 159.368812)scale(0.1 -0.1)\">\n       <use xlink:href=\"#DejaVuSans-48\"/>\n       <use x=\"63.623047\" xlink:href=\"#DejaVuSans-46\"/>\n       <use x=\"95.410156\" xlink:href=\"#DejaVuSans-48\"/>\n       <use x=\"159.033203\" xlink:href=\"#DejaVuSans-50\"/>\n      </g>\n     </g>\n    </g>\n    <g id=\"ytick_4\">\n     <g id=\"line2d_9\">\n      <g>\n       <use style=\"stroke:#000000;stroke-width:0.8;\" x=\"50.14375\" xlink:href=\"#maba349a9bc\" y=\"121.03439\"/>\n      </g>\n     </g>\n     <g id=\"text_10\">\n      <!-- 0.03 -->\n      <g transform=\"translate(20.878125 124.833608)scale(0.1 -0.1)\">\n       <defs>\n        <path d=\"M 40.578125 39.3125 \nQ 47.65625 37.796875 51.625 33 \nQ 55.609375 28.21875 55.609375 21.1875 \nQ 55.609375 10.40625 48.1875 4.484375 \nQ 40.765625 -1.421875 27.09375 -1.421875 \nQ 22.515625 -1.421875 17.65625 -0.515625 \nQ 12.796875 0.390625 7.625 2.203125 \nL 7.625 11.71875 \nQ 11.71875 9.328125 16.59375 8.109375 \nQ 21.484375 6.890625 26.8125 6.890625 \nQ 36.078125 6.890625 40.9375 10.546875 \nQ 45.796875 14.203125 45.796875 21.1875 \nQ 45.796875 27.640625 41.28125 31.265625 \nQ 36.765625 34.90625 28.71875 34.90625 \nL 20.21875 34.90625 \nL 20.21875 43.015625 \nL 29.109375 43.015625 \nQ 36.375 43.015625 40.234375 45.921875 \nQ 44.09375 48.828125 44.09375 54.296875 \nQ 44.09375 59.90625 40.109375 62.90625 \nQ 36.140625 65.921875 28.71875 65.921875 \nQ 24.65625 65.921875 20.015625 65.03125 \nQ 15.375 64.15625 9.8125 62.3125 \nL 9.8125 71.09375 \nQ 15.4375 72.65625 20.34375 73.4375 \nQ 25.25 74.21875 29.59375 74.21875 \nQ 40.828125 74.21875 47.359375 69.109375 \nQ 53.90625 64.015625 53.90625 55.328125 \nQ 53.90625 49.265625 50.4375 45.09375 \nQ 46.96875 40.921875 40.578125 39.3125 \nz\n\" id=\"DejaVuSans-51\"/>\n       </defs>\n       <use xlink:href=\"#DejaVuSans-48\"/>\n       <use x=\"63.623047\" xlink:href=\"#DejaVuSans-46\"/>\n       <use x=\"95.410156\" xlink:href=\"#DejaVuSans-48\"/>\n       <use x=\"159.033203\" xlink:href=\"#DejaVuSans-51\"/>\n      </g>\n     </g>\n    </g>\n    <g id=\"ytick_5\">\n     <g id=\"line2d_10\">\n      <g>\n       <use style=\"stroke:#000000;stroke-width:0.8;\" x=\"50.14375\" xlink:href=\"#maba349a9bc\" y=\"86.499186\"/>\n      </g>\n     </g>\n     <g id=\"text_11\">\n      <!-- 0.04 -->\n      <g transform=\"translate(20.878125 90.298405)scale(0.1 -0.1)\">\n       <use xlink:href=\"#DejaVuSans-48\"/>\n       <use x=\"63.623047\" xlink:href=\"#DejaVuSans-46\"/>\n       <use x=\"95.410156\" xlink:href=\"#DejaVuSans-48\"/>\n       <use x=\"159.033203\" xlink:href=\"#DejaVuSans-52\"/>\n      </g>\n     </g>\n    </g>\n    <g id=\"ytick_6\">\n     <g id=\"line2d_11\">\n      <g>\n       <use style=\"stroke:#000000;stroke-width:0.8;\" x=\"50.14375\" xlink:href=\"#maba349a9bc\" y=\"51.963983\"/>\n      </g>\n     </g>\n     <g id=\"text_12\">\n      <!-- 0.05 -->\n      <g transform=\"translate(20.878125 55.763201)scale(0.1 -0.1)\">\n       <defs>\n        <path d=\"M 10.796875 72.90625 \nL 49.515625 72.90625 \nL 49.515625 64.59375 \nL 19.828125 64.59375 \nL 19.828125 46.734375 \nQ 21.96875 47.46875 24.109375 47.828125 \nQ 26.265625 48.1875 28.421875 48.1875 \nQ 40.625 48.1875 47.75 41.5 \nQ 54.890625 34.8125 54.890625 23.390625 \nQ 54.890625 11.625 47.5625 5.09375 \nQ 40.234375 -1.421875 26.90625 -1.421875 \nQ 22.3125 -1.421875 17.546875 -0.640625 \nQ 12.796875 0.140625 7.71875 1.703125 \nL 7.71875 11.625 \nQ 12.109375 9.234375 16.796875 8.0625 \nQ 21.484375 6.890625 26.703125 6.890625 \nQ 35.15625 6.890625 40.078125 11.328125 \nQ 45.015625 15.765625 45.015625 23.390625 \nQ 45.015625 31 40.078125 35.4375 \nQ 35.15625 39.890625 26.703125 39.890625 \nQ 22.75 39.890625 18.8125 39.015625 \nQ 14.890625 38.140625 10.796875 36.28125 \nz\n\" id=\"DejaVuSans-53\"/>\n       </defs>\n       <use xlink:href=\"#DejaVuSans-48\"/>\n       <use x=\"63.623047\" xlink:href=\"#DejaVuSans-46\"/>\n       <use x=\"95.410156\" xlink:href=\"#DejaVuSans-48\"/>\n       <use x=\"159.033203\" xlink:href=\"#DejaVuSans-53\"/>\n      </g>\n     </g>\n    </g>\n    <g id=\"ytick_7\">\n     <g id=\"line2d_12\">\n      <g>\n       <use style=\"stroke:#000000;stroke-width:0.8;\" x=\"50.14375\" xlink:href=\"#maba349a9bc\" y=\"17.428779\"/>\n      </g>\n     </g>\n     <g id=\"text_13\">\n      <!-- 0.06 -->\n      <g transform=\"translate(20.878125 21.227998)scale(0.1 -0.1)\">\n       <use xlink:href=\"#DejaVuSans-48\"/>\n       <use x=\"63.623047\" xlink:href=\"#DejaVuSans-46\"/>\n       <use x=\"95.410156\" xlink:href=\"#DejaVuSans-48\"/>\n       <use x=\"159.033203\" xlink:href=\"#DejaVuSans-54\"/>\n      </g>\n     </g>\n    </g>\n    <g id=\"text_14\">\n     <!-- Density -->\n     <g transform=\"translate(14.798438 134.928594)rotate(-90)scale(0.1 -0.1)\">\n      <defs>\n       <path d=\"M 19.671875 64.796875 \nL 19.671875 8.109375 \nL 31.59375 8.109375 \nQ 46.6875 8.109375 53.6875 14.9375 \nQ 60.6875 21.78125 60.6875 36.53125 \nQ 60.6875 51.171875 53.6875 57.984375 \nQ 46.6875 64.796875 31.59375 64.796875 \nz\nM 9.8125 72.90625 \nL 30.078125 72.90625 \nQ 51.265625 72.90625 61.171875 64.09375 \nQ 71.09375 55.28125 71.09375 36.53125 \nQ 71.09375 17.671875 61.125 8.828125 \nQ 51.171875 0 30.078125 0 \nL 9.8125 0 \nz\n\" id=\"DejaVuSans-68\"/>\n       <path d=\"M 54.890625 33.015625 \nL 54.890625 0 \nL 45.90625 0 \nL 45.90625 32.71875 \nQ 45.90625 40.484375 42.875 44.328125 \nQ 39.84375 48.1875 33.796875 48.1875 \nQ 26.515625 48.1875 22.3125 43.546875 \nQ 18.109375 38.921875 18.109375 30.90625 \nL 18.109375 0 \nL 9.078125 0 \nL 9.078125 54.6875 \nL 18.109375 54.6875 \nL 18.109375 46.1875 \nQ 21.34375 51.125 25.703125 53.5625 \nQ 30.078125 56 35.796875 56 \nQ 45.21875 56 50.046875 50.171875 \nQ 54.890625 44.34375 54.890625 33.015625 \nz\n\" id=\"DejaVuSans-110\"/>\n       <path d=\"M 9.421875 54.6875 \nL 18.40625 54.6875 \nL 18.40625 0 \nL 9.421875 0 \nz\nM 9.421875 75.984375 \nL 18.40625 75.984375 \nL 18.40625 64.59375 \nL 9.421875 64.59375 \nz\n\" id=\"DejaVuSans-105\"/>\n       <path d=\"M 18.3125 70.21875 \nL 18.3125 54.6875 \nL 36.8125 54.6875 \nL 36.8125 47.703125 \nL 18.3125 47.703125 \nL 18.3125 18.015625 \nQ 18.3125 11.328125 20.140625 9.421875 \nQ 21.96875 7.515625 27.59375 7.515625 \nL 36.8125 7.515625 \nL 36.8125 0 \nL 27.59375 0 \nQ 17.1875 0 13.234375 3.875 \nQ 9.28125 7.765625 9.28125 18.015625 \nL 9.28125 47.703125 \nL 2.6875 47.703125 \nL 2.6875 54.6875 \nL 9.28125 54.6875 \nL 9.28125 70.21875 \nz\n\" id=\"DejaVuSans-116\"/>\n       <path d=\"M 32.171875 -5.078125 \nQ 28.375 -14.84375 24.75 -17.8125 \nQ 21.140625 -20.796875 15.09375 -20.796875 \nL 7.90625 -20.796875 \nL 7.90625 -13.28125 \nL 13.1875 -13.28125 \nQ 16.890625 -13.28125 18.9375 -11.515625 \nQ 21 -9.765625 23.484375 -3.21875 \nL 25.09375 0.875 \nL 2.984375 54.6875 \nL 12.5 54.6875 \nL 29.59375 11.921875 \nL 46.6875 54.6875 \nL 56.203125 54.6875 \nz\n\" id=\"DejaVuSans-121\"/>\n      </defs>\n      <use xlink:href=\"#DejaVuSans-68\"/>\n      <use x=\"77.001953\" xlink:href=\"#DejaVuSans-101\"/>\n      <use x=\"138.525391\" xlink:href=\"#DejaVuSans-110\"/>\n      <use x=\"201.904297\" xlink:href=\"#DejaVuSans-115\"/>\n      <use x=\"254.003906\" xlink:href=\"#DejaVuSans-105\"/>\n      <use x=\"281.787109\" xlink:href=\"#DejaVuSans-116\"/>\n      <use x=\"320.996094\" xlink:href=\"#DejaVuSans-121\"/>\n     </g>\n    </g>\n   </g>\n   <g id=\"line2d_13\">\n    <path clip-path=\"url(#p47c268113f)\" d=\"M 65.361932 224.395364 \nL 68.420863 224.10249 \nL 71.479794 223.522361 \nL 73.009259 223.061133 \nL 74.538725 222.439669 \nL 76.06819 221.614748 \nL 77.597656 220.536051 \nL 79.127121 219.146519 \nL 80.656587 217.383291 \nL 82.186052 215.179312 \nL 83.715518 212.46568 \nL 85.244983 209.174736 \nL 86.774449 205.243813 \nL 88.303914 200.619508 \nL 89.83338 195.262237 \nL 91.362845 189.150769 \nL 92.892311 182.28638 \nL 94.421776 174.696243 \nL 97.480708 157.589081 \nL 100.539639 138.613319 \nL 105.128035 109.302076 \nL 108.186966 91.296309 \nL 109.716432 83.285884 \nL 111.245897 76.14077 \nL 112.775363 69.984575 \nL 114.304828 64.912968 \nL 115.834294 60.991625 \nL 117.363759 58.255675 \nL 118.893225 56.710499 \nL 120.42269 56.333629 \nL 121.952156 57.077466 \nL 123.481621 58.872529 \nL 125.011087 61.630984 \nL 126.540552 65.250256 \nL 128.070018 69.616609 \nL 129.599483 74.608623 \nL 132.658414 85.965669 \nL 141.835207 122.547017 \nL 144.894138 133.17719 \nL 147.953069 142.429208 \nL 151.012 150.33041 \nL 154.070931 157.090118 \nL 157.129862 163.000772 \nL 160.188793 168.338997 \nL 163.247724 173.294492 \nL 166.306655 177.942749 \nL 169.365586 182.260929 \nL 172.424517 186.172284 \nL 175.483448 189.598384 \nL 178.54238 192.500737 \nL 181.601311 194.901039 \nL 184.660242 196.878003 \nL 187.719173 198.545632 \nL 192.307569 200.718513 \nL 198.425431 203.361519 \nL 203.013828 205.156422 \nL 207.602224 206.655135 \nL 212.190621 207.838004 \nL 219.837948 209.664831 \nL 222.896879 210.587698 \nL 225.95581 211.688251 \nL 230.544207 213.611004 \nL 236.662069 216.257745 \nL 239.721 217.40012 \nL 242.779931 218.324678 \nL 245.838862 219.003765 \nL 248.897793 219.450747 \nL 253.486189 219.797906 \nL 265.721914 220.429029 \nL 271.839776 221.089588 \nL 284.0755 222.524623 \nL 290.193362 223.020494 \nL 296.311224 223.26008 \nL 302.429086 223.231674 \nL 322.312137 222.811552 \nL 329.959465 222.940129 \nL 337.606792 223.317922 \nL 354.430913 224.369631 \nL 362.078241 224.565208 \nL 369.725568 224.625731 \nL 369.725568 224.625731 \n\" style=\"fill:none;stroke:#1f77b4;stroke-linecap:square;stroke-width:1.5;\"/>\n   </g>\n   <g id=\"patch_21\">\n    <path d=\"M 50.14375 224.64 \nL 50.14375 7.2 \n\" style=\"fill:none;stroke:#000000;stroke-linecap:square;stroke-linejoin:miter;stroke-width:0.8;\"/>\n   </g>\n   <g id=\"patch_22\">\n    <path d=\"M 384.94375 224.64 \nL 384.94375 7.2 \n\" style=\"fill:none;stroke:#000000;stroke-linecap:square;stroke-linejoin:miter;stroke-width:0.8;\"/>\n   </g>\n   <g id=\"patch_23\">\n    <path d=\"M 50.14375 224.64 \nL 384.94375 224.64 \n\" style=\"fill:none;stroke:#000000;stroke-linecap:square;stroke-linejoin:miter;stroke-width:0.8;\"/>\n   </g>\n   <g id=\"patch_24\">\n    <path d=\"M 50.14375 7.2 \nL 384.94375 7.2 \n\" style=\"fill:none;stroke:#000000;stroke-linecap:square;stroke-linejoin:miter;stroke-width:0.8;\"/>\n   </g>\n  </g>\n </g>\n <defs>\n  <clipPath id=\"p47c268113f\">\n   <rect height=\"217.44\" width=\"334.8\" x=\"50.14375\" y=\"7.2\"/>\n  </clipPath>\n </defs>\n</svg>\n",
      "image/png": "[encoded data removed]"
     },
     "metadata": {
      "needs_background": "light"
     }
    }
   ],
   "source": [
    "seaborn.distplot(general_managers_pro_bowlers['pro_bowlers'])"
   ]
  },
  {
   "source": [
    "There's actually quite a lot of variance in the number of pro-bowlers. What if we normalize over the number of years?"
   ],
   "cell_type": "markdown",
   "metadata": {}
  },
  {
   "cell_type": "code",
   "execution_count": 104,
   "metadata": {},
   "outputs": [
    {
     "output_type": "execute_result",
     "data": {
      "text/plain": [
       "                 name  pro_bowlers_per_year\n",
       "0   Richard Gallagher             13.166667\n",
       "1        Eric DeCosta             13.000000\n",
       "2           Don Suman             12.000000\n",
       "3             Pop Ivy             11.000000\n",
       "4    Ralph Brizzolara             10.000000\n",
       "5          Jack Espey              9.600000\n",
       "6       Curly Lambeau              8.800000\n",
       "7       Jack Steadman              8.666667\n",
       "8        George Halas              8.444444\n",
       "9        Mike Holovak              7.583333\n",
       "10        Sid Gillman              7.333333\n",
       "11        Chile Walsh              7.285714\n",
       "12      Carmen Policy              7.000000\n",
       "13       Nick Kerbawy              6.857143\n",
       "14     Don Klosterman              6.647059\n",
       "15     Vince Lombardi              6.500000\n",
       "16       Trent Baalke              6.400000\n",
       "17          Don Shula              6.125000\n",
       "18       Dick Vermeil              6.000000\n",
       "19   Harold Sauerbrei              6.000000"
      ],
      "text/html": "<div>\n<style scoped>\n    .dataframe tbody tr th:only-of-type {\n        vertical-align: middle;\n    }\n\n    .dataframe tbody tr th {\n        vertical-align: top;\n    }\n\n    .dataframe thead th {\n        text-align: right;\n    }\n</style>\n<table border=\"1\" class=\"dataframe\">\n  <thead>\n    <tr style=\"text-align: right;\">\n      <th></th>\n      <th>name</th>\n      <th>pro_bowlers_per_year</th>\n    </tr>\n  </thead>\n  <tbody>\n    <tr>\n      <th>0</th>\n      <td>Richard Gallagher</td>\n      <td>13.166667</td>\n    </tr>\n    <tr>\n      <th>1</th>\n      <td>Eric DeCosta</td>\n      <td>13.000000</td>\n    </tr>\n    <tr>\n      <th>2</th>\n      <td>Don Suman</td>\n      <td>12.000000</td>\n    </tr>\n    <tr>\n      <th>3</th>\n      <td>Pop Ivy</td>\n      <td>11.000000</td>\n    </tr>\n    <tr>\n      <th>4</th>\n      <td>Ralph Brizzolara</td>\n      <td>10.000000</td>\n    </tr>\n    <tr>\n      <th>5</th>\n      <td>Jack Espey</td>\n      <td>9.600000</td>\n    </tr>\n    <tr>\n      <th>6</th>\n      <td>Curly Lambeau</td>\n      <td>8.800000</td>\n    </tr>\n    <tr>\n      <th>7</th>\n      <td>Jack Steadman</td>\n      <td>8.666667</td>\n    </tr>\n    <tr>\n      <th>8</th>\n      <td>George Halas</td>\n      <td>8.444444</td>\n    </tr>\n    <tr>\n      <th>9</th>\n      <td>Mike Holovak</td>\n      <td>7.583333</td>\n    </tr>\n    <tr>\n      <th>10</th>\n      <td>Sid Gillman</td>\n      <td>7.333333</td>\n    </tr>\n    <tr>\n      <th>11</th>\n      <td>Chile Walsh</td>\n      <td>7.285714</td>\n    </tr>\n    <tr>\n      <th>12</th>\n      <td>Carmen Policy</td>\n      <td>7.000000</td>\n    </tr>\n    <tr>\n      <th>13</th>\n      <td>Nick Kerbawy</td>\n      <td>6.857143</td>\n    </tr>\n    <tr>\n      <th>14</th>\n      <td>Don Klosterman</td>\n      <td>6.647059</td>\n    </tr>\n    <tr>\n      <th>15</th>\n      <td>Vince Lombardi</td>\n      <td>6.500000</td>\n    </tr>\n    <tr>\n      <th>16</th>\n      <td>Trent Baalke</td>\n      <td>6.400000</td>\n    </tr>\n    <tr>\n      <th>17</th>\n      <td>Don Shula</td>\n      <td>6.125000</td>\n    </tr>\n    <tr>\n      <th>18</th>\n      <td>Dick Vermeil</td>\n      <td>6.000000</td>\n    </tr>\n    <tr>\n      <th>19</th>\n      <td>Harold Sauerbrei</td>\n      <td>6.000000</td>\n    </tr>\n  </tbody>\n</table>\n</div>"
     },
     "metadata": {},
     "execution_count": 104
    }
   ],
   "source": [
    "query = '''\n",
    "    SELECT\n",
    "        executives.name,\n",
    "        SUM(pro_bowl) * 1.0 / COUNT(DISTINCT year) AS pro_bowlers_per_year\n",
    "    FROM executives\n",
    "    JOIN front_office_members USING (executive)\n",
    "    JOIN roster_members USING (team)\n",
    "    JOIN players USING (player)\n",
    "    JOIN teams USING (team)\n",
    "    WHERE (LOWER(title) LIKE '%general manager%'\n",
    "        OR LOWER(title) LIKE '%gm%'\n",
    "        OR LOWER(title) LIKE '%football ops%'\n",
    "        OR LOWER(title) LIKE '%football operations%')\n",
    "        AND pro_bowl > 0\n",
    "    GROUP BY executives.executive\n",
    "    ORDER BY pro_bowlers_per_year DESC\n",
    "'''\n",
    "general_managers_pro_bowlers_per_year = pandas.read_sql_query(query, database)\n",
    "general_managers_pro_bowlers_per_year.head(20)"
   ]
  },
  {
   "cell_type": "code",
   "execution_count": 108,
   "metadata": {},
   "outputs": [
    {
     "output_type": "execute_result",
     "data": {
      "text/plain": [
       "3.8217039736470535"
      ]
     },
     "metadata": {},
     "execution_count": 108
    }
   ],
   "source": [
    "numpy.mean(general_managers_pro_bowlers_per_year['pro_bowlers_per_year'])"
   ]
  },
  {
   "cell_type": "code",
   "execution_count": 109,
   "metadata": {},
   "outputs": [
    {
     "output_type": "execute_result",
     "data": {
      "text/plain": [
       "1.8970290198704831"
      ]
     },
     "metadata": {},
     "execution_count": 109
    }
   ],
   "source": [
    "numpy.std(general_managers_pro_bowlers_per_year['pro_bowlers_per_year'])"
   ]
  },
  {
   "cell_type": "code",
   "execution_count": 110,
   "metadata": {},
   "outputs": [
    {
     "output_type": "execute_result",
     "data": {
      "text/plain": [
       "<AxesSubplot:xlabel='pro_bowlers_per_year', ylabel='Density'>"
      ]
     },
     "metadata": {},
     "execution_count": 110
    },
    {
     "output_type": "display_data",
     "data": {
      "text/plain": "<Figure size 432x288 with 1 Axes>",
      "image/svg+xml": "<?xml version=\"1.0\" encoding=\"utf-8\" standalone=\"no\"?>\n<!DOCTYPE svg PUBLIC \"-//W3C//DTD SVG 1.1//EN\"\n  \"http://www.w3.org/Graphics/SVG/1.1/DTD/svg11.dtd\">\n<!-- Created with matplotlib (https://matplotlib.org/) -->\n<svg height=\"262.474375pt\" version=\"1.1\" viewBox=\"0 0 392.14375 262.474375\" width=\"392.14375pt\" xmlns=\"http://www.w3.org/2000/svg\" xmlns:xlink=\"http://www.w3.org/1999/xlink\">\n <metadata>\n  <rdf:RDF xmlns:cc=\"http://creativecommons.org/ns#\" xmlns:dc=\"http://purl.org/dc/elements/1.1/\" xmlns:rdf=\"http://www.w3.org/1999/02/22-rdf-syntax-ns#\">\n   <cc:Work>\n    <dc:type rdf:resource=\"http://purl.org/dc/dcmitype/StillImage\"/>\n    <dc:date>2021-01-29T00:36:05.067649</dc:date>\n    <dc:format>image/svg+xml</dc:format>\n    <dc:creator>\n     <cc:Agent>\n      <dc:title>Matplotlib v3.3.3, https://matplotlib.org/</dc:title>\n     </cc:Agent>\n    </dc:creator>\n   </cc:Work>\n  </rdf:RDF>\n </metadata>\n <defs>\n  <style type=\"text/css\">*{stroke-linecap:butt;stroke-linejoin:round;}</style>\n </defs>\n <g id=\"figure_1\">\n  <g id=\"patch_1\">\n   <path d=\"M 0 262.474375 \nL 392.14375 262.474375 \nL 392.14375 0 \nL 0 0 \nz\n\" style=\"fill:none;\"/>\n  </g>\n  <g id=\"axes_1\">\n   <g id=\"patch_2\">\n    <path d=\"M 50.14375 224.64 \nL 384.94375 224.64 \nL 384.94375 7.2 \nL 50.14375 7.2 \nz\n\" style=\"fill:#ffffff;\"/>\n   </g>\n   <g id=\"patch_3\">\n    <path clip-path=\"url(#pf08b9c4431)\" d=\"M 101.347957 224.64 \nL 114.2586 224.64 \nL 114.2586 160.921319 \nL 101.347957 160.921319 \nz\n\" style=\"fill:#1f77b4;opacity:0.4;\"/>\n   </g>\n   <g id=\"patch_4\">\n    <path clip-path=\"url(#pf08b9c4431)\" d=\"M 114.2586 224.64 \nL 127.169244 224.64 \nL 127.169244 89.237802 \nL 114.2586 89.237802 \nz\n\" style=\"fill:#1f77b4;opacity:0.4;\"/>\n   </g>\n   <g id=\"patch_5\">\n    <path clip-path=\"url(#pf08b9c4431)\" d=\"M 127.169244 224.64 \nL 140.079888 224.64 \nL 140.079888 17.554286 \nL 127.169244 17.554286 \nz\n\" style=\"fill:#1f77b4;opacity:0.4;\"/>\n   </g>\n   <g id=\"patch_6\">\n    <path clip-path=\"url(#pf08b9c4431)\" d=\"M 140.079888 224.64 \nL 152.990531 224.64 \nL 152.990531 69.325714 \nL 140.079888 69.325714 \nz\n\" style=\"fill:#1f77b4;opacity:0.4;\"/>\n   </g>\n   <g id=\"patch_7\">\n    <path clip-path=\"url(#pf08b9c4431)\" d=\"M 152.990531 224.64 \nL 165.901175 224.64 \nL 165.901175 93.22022 \nL 152.990531 93.22022 \nz\n\" style=\"fill:#1f77b4;opacity:0.4;\"/>\n   </g>\n   <g id=\"patch_8\">\n    <path clip-path=\"url(#pf08b9c4431)\" d=\"M 165.901175 224.64 \nL 178.811819 224.64 \nL 178.811819 81.272967 \nL 165.901175 81.272967 \nz\n\" style=\"fill:#1f77b4;opacity:0.4;\"/>\n   </g>\n   <g id=\"patch_9\">\n    <path clip-path=\"url(#pf08b9c4431)\" d=\"M 178.811819 224.64 \nL 191.722463 224.64 \nL 191.722463 156.938901 \nL 178.811819 156.938901 \nz\n\" style=\"fill:#1f77b4;opacity:0.4;\"/>\n   </g>\n   <g id=\"patch_10\">\n    <path clip-path=\"url(#pf08b9c4431)\" d=\"M 191.722463 224.64 \nL 204.633106 224.64 \nL 204.633106 180.833407 \nL 191.722463 180.833407 \nz\n\" style=\"fill:#1f77b4;opacity:0.4;\"/>\n   </g>\n   <g id=\"patch_11\">\n    <path clip-path=\"url(#pf08b9c4431)\" d=\"M 204.633106 224.64 \nL 217.54375 224.64 \nL 217.54375 208.71033 \nL 204.633106 208.71033 \nz\n\" style=\"fill:#1f77b4;opacity:0.4;\"/>\n   </g>\n   <g id=\"patch_12\">\n    <path clip-path=\"url(#pf08b9c4431)\" d=\"M 217.54375 224.64 \nL 230.454394 224.64 \nL 230.454394 212.692747 \nL 217.54375 212.692747 \nz\n\" style=\"fill:#1f77b4;opacity:0.4;\"/>\n   </g>\n   <g id=\"patch_13\">\n    <path clip-path=\"url(#pf08b9c4431)\" d=\"M 230.454394 224.64 \nL 243.365037 224.64 \nL 243.365037 224.64 \nL 230.454394 224.64 \nz\n\" style=\"fill:#1f77b4;opacity:0.4;\"/>\n   </g>\n   <g id=\"patch_14\">\n    <path clip-path=\"url(#pf08b9c4431)\" d=\"M 243.365037 224.64 \nL 256.275681 224.64 \nL 256.275681 212.692747 \nL 243.365037 212.692747 \nz\n\" style=\"fill:#1f77b4;opacity:0.4;\"/>\n   </g>\n   <g id=\"patch_15\">\n    <path clip-path=\"url(#pf08b9c4431)\" d=\"M 256.275681 224.64 \nL 269.186325 224.64 \nL 269.186325 220.657582 \nL 256.275681 220.657582 \nz\n\" style=\"fill:#1f77b4;opacity:0.4;\"/>\n   </g>\n   <g id=\"patch_16\">\n    <path clip-path=\"url(#pf08b9c4431)\" d=\"M 269.186325 224.64 \nL 282.096969 224.64 \nL 282.096969 220.657582 \nL 269.186325 220.657582 \nz\n\" style=\"fill:#1f77b4;opacity:0.4;\"/>\n   </g>\n   <g id=\"patch_17\">\n    <path clip-path=\"url(#pf08b9c4431)\" d=\"M 282.096969 224.64 \nL 295.007612 224.64 \nL 295.007612 220.657582 \nL 282.096969 220.657582 \nz\n\" style=\"fill:#1f77b4;opacity:0.4;\"/>\n   </g>\n   <g id=\"patch_18\">\n    <path clip-path=\"url(#pf08b9c4431)\" d=\"M 295.007612 224.64 \nL 307.918256 224.64 \nL 307.918256 224.64 \nL 295.007612 224.64 \nz\n\" style=\"fill:#1f77b4;opacity:0.4;\"/>\n   </g>\n   <g id=\"patch_19\">\n    <path clip-path=\"url(#pf08b9c4431)\" d=\"M 307.918256 224.64 \nL 320.8289 224.64 \nL 320.8289 220.657582 \nL 307.918256 220.657582 \nz\n\" style=\"fill:#1f77b4;opacity:0.4;\"/>\n   </g>\n   <g id=\"patch_20\">\n    <path clip-path=\"url(#pf08b9c4431)\" d=\"M 320.8289 224.64 \nL 333.739543 224.64 \nL 333.739543 216.675165 \nL 320.8289 216.675165 \nz\n\" style=\"fill:#1f77b4;opacity:0.4;\"/>\n   </g>\n   <g id=\"matplotlib.axis_1\">\n    <g id=\"xtick_1\">\n     <g id=\"line2d_1\">\n      <defs>\n       <path d=\"M 0 0 \nL 0 3.5 \n\" id=\"m1eb05c8729\" style=\"stroke:#000000;stroke-width:0.8;\"/>\n      </defs>\n      <g>\n       <use style=\"stroke:#000000;stroke-width:0.8;\" x=\"82.247278\" xlink:href=\"#m1eb05c8729\" y=\"224.64\"/>\n      </g>\n     </g>\n     <g id=\"text_1\">\n      <!-- 0 -->\n      <g transform=\"translate(79.066028 239.238438)scale(0.1 -0.1)\">\n       <defs>\n        <path d=\"M 31.78125 66.40625 \nQ 24.171875 66.40625 20.328125 58.90625 \nQ 16.5 51.421875 16.5 36.375 \nQ 16.5 21.390625 20.328125 13.890625 \nQ 24.171875 6.390625 31.78125 6.390625 \nQ 39.453125 6.390625 43.28125 13.890625 \nQ 47.125 21.390625 47.125 36.375 \nQ 47.125 51.421875 43.28125 58.90625 \nQ 39.453125 66.40625 31.78125 66.40625 \nz\nM 31.78125 74.21875 \nQ 44.046875 74.21875 50.515625 64.515625 \nQ 56.984375 54.828125 56.984375 36.375 \nQ 56.984375 17.96875 50.515625 8.265625 \nQ 44.046875 -1.421875 31.78125 -1.421875 \nQ 19.53125 -1.421875 13.0625 8.265625 \nQ 6.59375 17.96875 6.59375 36.375 \nQ 6.59375 54.828125 13.0625 64.515625 \nQ 19.53125 74.21875 31.78125 74.21875 \nz\n\" id=\"DejaVuSans-48\"/>\n       </defs>\n       <use xlink:href=\"#DejaVuSans-48\"/>\n      </g>\n     </g>\n    </g>\n    <g id=\"xtick_2\">\n     <g id=\"line2d_2\">\n      <g>\n       <use style=\"stroke:#000000;stroke-width:0.8;\" x=\"120.448635\" xlink:href=\"#m1eb05c8729\" y=\"224.64\"/>\n      </g>\n     </g>\n     <g id=\"text_2\">\n      <!-- 2 -->\n      <g transform=\"translate(117.267385 239.238438)scale(0.1 -0.1)\">\n       <defs>\n        <path d=\"M 19.1875 8.296875 \nL 53.609375 8.296875 \nL 53.609375 0 \nL 7.328125 0 \nL 7.328125 8.296875 \nQ 12.9375 14.109375 22.625 23.890625 \nQ 32.328125 33.6875 34.8125 36.53125 \nQ 39.546875 41.84375 41.421875 45.53125 \nQ 43.3125 49.21875 43.3125 52.78125 \nQ 43.3125 58.59375 39.234375 62.25 \nQ 35.15625 65.921875 28.609375 65.921875 \nQ 23.96875 65.921875 18.8125 64.3125 \nQ 13.671875 62.703125 7.8125 59.421875 \nL 7.8125 69.390625 \nQ 13.765625 71.78125 18.9375 73 \nQ 24.125 74.21875 28.421875 74.21875 \nQ 39.75 74.21875 46.484375 68.546875 \nQ 53.21875 62.890625 53.21875 53.421875 \nQ 53.21875 48.921875 51.53125 44.890625 \nQ 49.859375 40.875 45.40625 35.40625 \nQ 44.1875 33.984375 37.640625 27.21875 \nQ 31.109375 20.453125 19.1875 8.296875 \nz\n\" id=\"DejaVuSans-50\"/>\n       </defs>\n       <use xlink:href=\"#DejaVuSans-50\"/>\n      </g>\n     </g>\n    </g>\n    <g id=\"xtick_3\">\n     <g id=\"line2d_3\">\n      <g>\n       <use style=\"stroke:#000000;stroke-width:0.8;\" x=\"158.649992\" xlink:href=\"#m1eb05c8729\" y=\"224.64\"/>\n      </g>\n     </g>\n     <g id=\"text_3\">\n      <!-- 4 -->\n      <g transform=\"translate(155.468742 239.238438)scale(0.1 -0.1)\">\n       <defs>\n        <path d=\"M 37.796875 64.3125 \nL 12.890625 25.390625 \nL 37.796875 25.390625 \nz\nM 35.203125 72.90625 \nL 47.609375 72.90625 \nL 47.609375 25.390625 \nL 58.015625 25.390625 \nL 58.015625 17.1875 \nL 47.609375 17.1875 \nL 47.609375 0 \nL 37.796875 0 \nL 37.796875 17.1875 \nL 4.890625 17.1875 \nL 4.890625 26.703125 \nz\n\" id=\"DejaVuSans-52\"/>\n       </defs>\n       <use xlink:href=\"#DejaVuSans-52\"/>\n      </g>\n     </g>\n    </g>\n    <g id=\"xtick_4\">\n     <g id=\"line2d_4\">\n      <g>\n       <use style=\"stroke:#000000;stroke-width:0.8;\" x=\"196.851348\" xlink:href=\"#m1eb05c8729\" y=\"224.64\"/>\n      </g>\n     </g>\n     <g id=\"text_4\">\n      <!-- 6 -->\n      <g transform=\"translate(193.670098 239.238438)scale(0.1 -0.1)\">\n       <defs>\n        <path d=\"M 33.015625 40.375 \nQ 26.375 40.375 22.484375 35.828125 \nQ 18.609375 31.296875 18.609375 23.390625 \nQ 18.609375 15.53125 22.484375 10.953125 \nQ 26.375 6.390625 33.015625 6.390625 \nQ 39.65625 6.390625 43.53125 10.953125 \nQ 47.40625 15.53125 47.40625 23.390625 \nQ 47.40625 31.296875 43.53125 35.828125 \nQ 39.65625 40.375 33.015625 40.375 \nz\nM 52.59375 71.296875 \nL 52.59375 62.3125 \nQ 48.875 64.0625 45.09375 64.984375 \nQ 41.3125 65.921875 37.59375 65.921875 \nQ 27.828125 65.921875 22.671875 59.328125 \nQ 17.53125 52.734375 16.796875 39.40625 \nQ 19.671875 43.65625 24.015625 45.921875 \nQ 28.375 48.1875 33.59375 48.1875 \nQ 44.578125 48.1875 50.953125 41.515625 \nQ 57.328125 34.859375 57.328125 23.390625 \nQ 57.328125 12.15625 50.6875 5.359375 \nQ 44.046875 -1.421875 33.015625 -1.421875 \nQ 20.359375 -1.421875 13.671875 8.265625 \nQ 6.984375 17.96875 6.984375 36.375 \nQ 6.984375 53.65625 15.1875 63.9375 \nQ 23.390625 74.21875 37.203125 74.21875 \nQ 40.921875 74.21875 44.703125 73.484375 \nQ 48.484375 72.75 52.59375 71.296875 \nz\n\" id=\"DejaVuSans-54\"/>\n       </defs>\n       <use xlink:href=\"#DejaVuSans-54\"/>\n      </g>\n     </g>\n    </g>\n    <g id=\"xtick_5\">\n     <g id=\"line2d_5\">\n      <g>\n       <use style=\"stroke:#000000;stroke-width:0.8;\" x=\"235.052705\" xlink:href=\"#m1eb05c8729\" y=\"224.64\"/>\n      </g>\n     </g>\n     <g id=\"text_5\">\n      <!-- 8 -->\n      <g transform=\"translate(231.871455 239.238438)scale(0.1 -0.1)\">\n       <defs>\n        <path d=\"M 31.78125 34.625 \nQ 24.75 34.625 20.71875 30.859375 \nQ 16.703125 27.09375 16.703125 20.515625 \nQ 16.703125 13.921875 20.71875 10.15625 \nQ 24.75 6.390625 31.78125 6.390625 \nQ 38.8125 6.390625 42.859375 10.171875 \nQ 46.921875 13.96875 46.921875 20.515625 \nQ 46.921875 27.09375 42.890625 30.859375 \nQ 38.875 34.625 31.78125 34.625 \nz\nM 21.921875 38.8125 \nQ 15.578125 40.375 12.03125 44.71875 \nQ 8.5 49.078125 8.5 55.328125 \nQ 8.5 64.0625 14.71875 69.140625 \nQ 20.953125 74.21875 31.78125 74.21875 \nQ 42.671875 74.21875 48.875 69.140625 \nQ 55.078125 64.0625 55.078125 55.328125 \nQ 55.078125 49.078125 51.53125 44.71875 \nQ 48 40.375 41.703125 38.8125 \nQ 48.828125 37.15625 52.796875 32.3125 \nQ 56.78125 27.484375 56.78125 20.515625 \nQ 56.78125 9.90625 50.3125 4.234375 \nQ 43.84375 -1.421875 31.78125 -1.421875 \nQ 19.734375 -1.421875 13.25 4.234375 \nQ 6.78125 9.90625 6.78125 20.515625 \nQ 6.78125 27.484375 10.78125 32.3125 \nQ 14.796875 37.15625 21.921875 38.8125 \nz\nM 18.3125 54.390625 \nQ 18.3125 48.734375 21.84375 45.5625 \nQ 25.390625 42.390625 31.78125 42.390625 \nQ 38.140625 42.390625 41.71875 45.5625 \nQ 45.3125 48.734375 45.3125 54.390625 \nQ 45.3125 60.0625 41.71875 63.234375 \nQ 38.140625 66.40625 31.78125 66.40625 \nQ 25.390625 66.40625 21.84375 63.234375 \nQ 18.3125 60.0625 18.3125 54.390625 \nz\n\" id=\"DejaVuSans-56\"/>\n       </defs>\n       <use xlink:href=\"#DejaVuSans-56\"/>\n      </g>\n     </g>\n    </g>\n    <g id=\"xtick_6\">\n     <g id=\"line2d_6\">\n      <g>\n       <use style=\"stroke:#000000;stroke-width:0.8;\" x=\"273.254062\" xlink:href=\"#m1eb05c8729\" y=\"224.64\"/>\n      </g>\n     </g>\n     <g id=\"text_6\">\n      <!-- 10 -->\n      <g transform=\"translate(266.891562 239.238438)scale(0.1 -0.1)\">\n       <defs>\n        <path d=\"M 12.40625 8.296875 \nL 28.515625 8.296875 \nL 28.515625 63.921875 \nL 10.984375 60.40625 \nL 10.984375 69.390625 \nL 28.421875 72.90625 \nL 38.28125 72.90625 \nL 38.28125 8.296875 \nL 54.390625 8.296875 \nL 54.390625 0 \nL 12.40625 0 \nz\n\" id=\"DejaVuSans-49\"/>\n       </defs>\n       <use xlink:href=\"#DejaVuSans-49\"/>\n       <use x=\"63.623047\" xlink:href=\"#DejaVuSans-48\"/>\n      </g>\n     </g>\n    </g>\n    <g id=\"xtick_7\">\n     <g id=\"line2d_7\">\n      <g>\n       <use style=\"stroke:#000000;stroke-width:0.8;\" x=\"311.455419\" xlink:href=\"#m1eb05c8729\" y=\"224.64\"/>\n      </g>\n     </g>\n     <g id=\"text_7\">\n      <!-- 12 -->\n      <g transform=\"translate(305.092919 239.238438)scale(0.1 -0.1)\">\n       <use xlink:href=\"#DejaVuSans-49\"/>\n       <use x=\"63.623047\" xlink:href=\"#DejaVuSans-50\"/>\n      </g>\n     </g>\n    </g>\n    <g id=\"xtick_8\">\n     <g id=\"line2d_8\">\n      <g>\n       <use style=\"stroke:#000000;stroke-width:0.8;\" x=\"349.656775\" xlink:href=\"#m1eb05c8729\" y=\"224.64\"/>\n      </g>\n     </g>\n     <g id=\"text_8\">\n      <!-- 14 -->\n      <g transform=\"translate(343.294275 239.238438)scale(0.1 -0.1)\">\n       <use xlink:href=\"#DejaVuSans-49\"/>\n       <use x=\"63.623047\" xlink:href=\"#DejaVuSans-52\"/>\n      </g>\n     </g>\n    </g>\n    <g id=\"text_9\">\n     <!-- pro_bowlers_per_year -->\n     <g transform=\"translate(162.957031 252.916562)scale(0.1 -0.1)\">\n      <defs>\n       <path d=\"M 18.109375 8.203125 \nL 18.109375 -20.796875 \nL 9.078125 -20.796875 \nL 9.078125 54.6875 \nL 18.109375 54.6875 \nL 18.109375 46.390625 \nQ 20.953125 51.265625 25.265625 53.625 \nQ 29.59375 56 35.59375 56 \nQ 45.5625 56 51.78125 48.09375 \nQ 58.015625 40.1875 58.015625 27.296875 \nQ 58.015625 14.40625 51.78125 6.484375 \nQ 45.5625 -1.421875 35.59375 -1.421875 \nQ 29.59375 -1.421875 25.265625 0.953125 \nQ 20.953125 3.328125 18.109375 8.203125 \nz\nM 48.6875 27.296875 \nQ 48.6875 37.203125 44.609375 42.84375 \nQ 40.53125 48.484375 33.40625 48.484375 \nQ 26.265625 48.484375 22.1875 42.84375 \nQ 18.109375 37.203125 18.109375 27.296875 \nQ 18.109375 17.390625 22.1875 11.75 \nQ 26.265625 6.109375 33.40625 6.109375 \nQ 40.53125 6.109375 44.609375 11.75 \nQ 48.6875 17.390625 48.6875 27.296875 \nz\n\" id=\"DejaVuSans-112\"/>\n       <path d=\"M 41.109375 46.296875 \nQ 39.59375 47.171875 37.8125 47.578125 \nQ 36.03125 48 33.890625 48 \nQ 26.265625 48 22.1875 43.046875 \nQ 18.109375 38.09375 18.109375 28.8125 \nL 18.109375 0 \nL 9.078125 0 \nL 9.078125 54.6875 \nL 18.109375 54.6875 \nL 18.109375 46.1875 \nQ 20.953125 51.171875 25.484375 53.578125 \nQ 30.03125 56 36.53125 56 \nQ 37.453125 56 38.578125 55.875 \nQ 39.703125 55.765625 41.0625 55.515625 \nz\n\" id=\"DejaVuSans-114\"/>\n       <path d=\"M 30.609375 48.390625 \nQ 23.390625 48.390625 19.1875 42.75 \nQ 14.984375 37.109375 14.984375 27.296875 \nQ 14.984375 17.484375 19.15625 11.84375 \nQ 23.34375 6.203125 30.609375 6.203125 \nQ 37.796875 6.203125 41.984375 11.859375 \nQ 46.1875 17.53125 46.1875 27.296875 \nQ 46.1875 37.015625 41.984375 42.703125 \nQ 37.796875 48.390625 30.609375 48.390625 \nz\nM 30.609375 56 \nQ 42.328125 56 49.015625 48.375 \nQ 55.71875 40.765625 55.71875 27.296875 \nQ 55.71875 13.875 49.015625 6.21875 \nQ 42.328125 -1.421875 30.609375 -1.421875 \nQ 18.84375 -1.421875 12.171875 6.21875 \nQ 5.515625 13.875 5.515625 27.296875 \nQ 5.515625 40.765625 12.171875 48.375 \nQ 18.84375 56 30.609375 56 \nz\n\" id=\"DejaVuSans-111\"/>\n       <path d=\"M 50.984375 -16.609375 \nL 50.984375 -23.578125 \nL -0.984375 -23.578125 \nL -0.984375 -16.609375 \nz\n\" id=\"DejaVuSans-95\"/>\n       <path d=\"M 48.6875 27.296875 \nQ 48.6875 37.203125 44.609375 42.84375 \nQ 40.53125 48.484375 33.40625 48.484375 \nQ 26.265625 48.484375 22.1875 42.84375 \nQ 18.109375 37.203125 18.109375 27.296875 \nQ 18.109375 17.390625 22.1875 11.75 \nQ 26.265625 6.109375 33.40625 6.109375 \nQ 40.53125 6.109375 44.609375 11.75 \nQ 48.6875 17.390625 48.6875 27.296875 \nz\nM 18.109375 46.390625 \nQ 20.953125 51.265625 25.265625 53.625 \nQ 29.59375 56 35.59375 56 \nQ 45.5625 56 51.78125 48.09375 \nQ 58.015625 40.1875 58.015625 27.296875 \nQ 58.015625 14.40625 51.78125 6.484375 \nQ 45.5625 -1.421875 35.59375 -1.421875 \nQ 29.59375 -1.421875 25.265625 0.953125 \nQ 20.953125 3.328125 18.109375 8.203125 \nL 18.109375 0 \nL 9.078125 0 \nL 9.078125 75.984375 \nL 18.109375 75.984375 \nz\n\" id=\"DejaVuSans-98\"/>\n       <path d=\"M 4.203125 54.6875 \nL 13.1875 54.6875 \nL 24.421875 12.015625 \nL 35.59375 54.6875 \nL 46.1875 54.6875 \nL 57.421875 12.015625 \nL 68.609375 54.6875 \nL 77.59375 54.6875 \nL 63.28125 0 \nL 52.6875 0 \nL 40.921875 44.828125 \nL 29.109375 0 \nL 18.5 0 \nz\n\" id=\"DejaVuSans-119\"/>\n       <path d=\"M 9.421875 75.984375 \nL 18.40625 75.984375 \nL 18.40625 0 \nL 9.421875 0 \nz\n\" id=\"DejaVuSans-108\"/>\n       <path d=\"M 56.203125 29.59375 \nL 56.203125 25.203125 \nL 14.890625 25.203125 \nQ 15.484375 15.921875 20.484375 11.0625 \nQ 25.484375 6.203125 34.421875 6.203125 \nQ 39.59375 6.203125 44.453125 7.46875 \nQ 49.3125 8.734375 54.109375 11.28125 \nL 54.109375 2.78125 \nQ 49.265625 0.734375 44.1875 -0.34375 \nQ 39.109375 -1.421875 33.890625 -1.421875 \nQ 20.796875 -1.421875 13.15625 6.1875 \nQ 5.515625 13.8125 5.515625 26.8125 \nQ 5.515625 40.234375 12.765625 48.109375 \nQ 20.015625 56 32.328125 56 \nQ 43.359375 56 49.78125 48.890625 \nQ 56.203125 41.796875 56.203125 29.59375 \nz\nM 47.21875 32.234375 \nQ 47.125 39.59375 43.09375 43.984375 \nQ 39.0625 48.390625 32.421875 48.390625 \nQ 24.90625 48.390625 20.390625 44.140625 \nQ 15.875 39.890625 15.1875 32.171875 \nz\n\" id=\"DejaVuSans-101\"/>\n       <path d=\"M 44.28125 53.078125 \nL 44.28125 44.578125 \nQ 40.484375 46.53125 36.375 47.5 \nQ 32.28125 48.484375 27.875 48.484375 \nQ 21.1875 48.484375 17.84375 46.4375 \nQ 14.5 44.390625 14.5 40.28125 \nQ 14.5 37.15625 16.890625 35.375 \nQ 19.28125 33.59375 26.515625 31.984375 \nL 29.59375 31.296875 \nQ 39.15625 29.25 43.1875 25.515625 \nQ 47.21875 21.78125 47.21875 15.09375 \nQ 47.21875 7.46875 41.1875 3.015625 \nQ 35.15625 -1.421875 24.609375 -1.421875 \nQ 20.21875 -1.421875 15.453125 -0.5625 \nQ 10.6875 0.296875 5.421875 2 \nL 5.421875 11.28125 \nQ 10.40625 8.6875 15.234375 7.390625 \nQ 20.0625 6.109375 24.8125 6.109375 \nQ 31.15625 6.109375 34.5625 8.28125 \nQ 37.984375 10.453125 37.984375 14.40625 \nQ 37.984375 18.0625 35.515625 20.015625 \nQ 33.0625 21.96875 24.703125 23.78125 \nL 21.578125 24.515625 \nQ 13.234375 26.265625 9.515625 29.90625 \nQ 5.8125 33.546875 5.8125 39.890625 \nQ 5.8125 47.609375 11.28125 51.796875 \nQ 16.75 56 26.8125 56 \nQ 31.78125 56 36.171875 55.265625 \nQ 40.578125 54.546875 44.28125 53.078125 \nz\n\" id=\"DejaVuSans-115\"/>\n       <path d=\"M 32.171875 -5.078125 \nQ 28.375 -14.84375 24.75 -17.8125 \nQ 21.140625 -20.796875 15.09375 -20.796875 \nL 7.90625 -20.796875 \nL 7.90625 -13.28125 \nL 13.1875 -13.28125 \nQ 16.890625 -13.28125 18.9375 -11.515625 \nQ 21 -9.765625 23.484375 -3.21875 \nL 25.09375 0.875 \nL 2.984375 54.6875 \nL 12.5 54.6875 \nL 29.59375 11.921875 \nL 46.6875 54.6875 \nL 56.203125 54.6875 \nz\n\" id=\"DejaVuSans-121\"/>\n       <path d=\"M 34.28125 27.484375 \nQ 23.390625 27.484375 19.1875 25 \nQ 14.984375 22.515625 14.984375 16.5 \nQ 14.984375 11.71875 18.140625 8.90625 \nQ 21.296875 6.109375 26.703125 6.109375 \nQ 34.1875 6.109375 38.703125 11.40625 \nQ 43.21875 16.703125 43.21875 25.484375 \nL 43.21875 27.484375 \nz\nM 52.203125 31.203125 \nL 52.203125 0 \nL 43.21875 0 \nL 43.21875 8.296875 \nQ 40.140625 3.328125 35.546875 0.953125 \nQ 30.953125 -1.421875 24.3125 -1.421875 \nQ 15.921875 -1.421875 10.953125 3.296875 \nQ 6 8.015625 6 15.921875 \nQ 6 25.140625 12.171875 29.828125 \nQ 18.359375 34.515625 30.609375 34.515625 \nL 43.21875 34.515625 \nL 43.21875 35.40625 \nQ 43.21875 41.609375 39.140625 45 \nQ 35.0625 48.390625 27.6875 48.390625 \nQ 23 48.390625 18.546875 47.265625 \nQ 14.109375 46.140625 10.015625 43.890625 \nL 10.015625 52.203125 \nQ 14.9375 54.109375 19.578125 55.046875 \nQ 24.21875 56 28.609375 56 \nQ 40.484375 56 46.34375 49.84375 \nQ 52.203125 43.703125 52.203125 31.203125 \nz\n\" id=\"DejaVuSans-97\"/>\n      </defs>\n      <use xlink:href=\"#DejaVuSans-112\"/>\n      <use x=\"63.476562\" xlink:href=\"#DejaVuSans-114\"/>\n      <use x=\"102.339844\" xlink:href=\"#DejaVuSans-111\"/>\n      <use x=\"163.521484\" xlink:href=\"#DejaVuSans-95\"/>\n      <use x=\"213.521484\" xlink:href=\"#DejaVuSans-98\"/>\n      <use x=\"276.998047\" xlink:href=\"#DejaVuSans-111\"/>\n      <use x=\"338.179688\" xlink:href=\"#DejaVuSans-119\"/>\n      <use x=\"419.966797\" xlink:href=\"#DejaVuSans-108\"/>\n      <use x=\"447.75\" xlink:href=\"#DejaVuSans-101\"/>\n      <use x=\"509.273438\" xlink:href=\"#DejaVuSans-114\"/>\n      <use x=\"550.386719\" xlink:href=\"#DejaVuSans-115\"/>\n      <use x=\"602.486328\" xlink:href=\"#DejaVuSans-95\"/>\n      <use x=\"652.486328\" xlink:href=\"#DejaVuSans-112\"/>\n      <use x=\"715.962891\" xlink:href=\"#DejaVuSans-101\"/>\n      <use x=\"777.486328\" xlink:href=\"#DejaVuSans-114\"/>\n      <use x=\"818.599609\" xlink:href=\"#DejaVuSans-95\"/>\n      <use x=\"868.599609\" xlink:href=\"#DejaVuSans-121\"/>\n      <use x=\"927.779297\" xlink:href=\"#DejaVuSans-101\"/>\n      <use x=\"989.302734\" xlink:href=\"#DejaVuSans-97\"/>\n      <use x=\"1050.582031\" xlink:href=\"#DejaVuSans-114\"/>\n     </g>\n    </g>\n   </g>\n   <g id=\"matplotlib.axis_2\">\n    <g id=\"ytick_1\">\n     <g id=\"line2d_9\">\n      <defs>\n       <path d=\"M 0 0 \nL -3.5 0 \n\" id=\"m2741fa1d7c\" style=\"stroke:#000000;stroke-width:0.8;\"/>\n      </defs>\n      <g>\n       <use style=\"stroke:#000000;stroke-width:0.8;\" x=\"50.14375\" xlink:href=\"#m2741fa1d7c\" y=\"224.64\"/>\n      </g>\n     </g>\n     <g id=\"text_10\">\n      <!-- 0.00 -->\n      <g transform=\"translate(20.878125 228.439219)scale(0.1 -0.1)\">\n       <defs>\n        <path d=\"M 10.6875 12.40625 \nL 21 12.40625 \nL 21 0 \nL 10.6875 0 \nz\n\" id=\"DejaVuSans-46\"/>\n       </defs>\n       <use xlink:href=\"#DejaVuSans-48\"/>\n       <use x=\"63.623047\" xlink:href=\"#DejaVuSans-46\"/>\n       <use x=\"95.410156\" xlink:href=\"#DejaVuSans-48\"/>\n       <use x=\"159.033203\" xlink:href=\"#DejaVuSans-48\"/>\n      </g>\n     </g>\n    </g>\n    <g id=\"ytick_2\">\n     <g id=\"line2d_10\">\n      <g>\n       <use style=\"stroke:#000000;stroke-width:0.8;\" x=\"50.14375\" xlink:href=\"#m2741fa1d7c\" y=\"190.453895\"/>\n      </g>\n     </g>\n     <g id=\"text_11\">\n      <!-- 0.05 -->\n      <g transform=\"translate(20.878125 194.253114)scale(0.1 -0.1)\">\n       <defs>\n        <path d=\"M 10.796875 72.90625 \nL 49.515625 72.90625 \nL 49.515625 64.59375 \nL 19.828125 64.59375 \nL 19.828125 46.734375 \nQ 21.96875 47.46875 24.109375 47.828125 \nQ 26.265625 48.1875 28.421875 48.1875 \nQ 40.625 48.1875 47.75 41.5 \nQ 54.890625 34.8125 54.890625 23.390625 \nQ 54.890625 11.625 47.5625 5.09375 \nQ 40.234375 -1.421875 26.90625 -1.421875 \nQ 22.3125 -1.421875 17.546875 -0.640625 \nQ 12.796875 0.140625 7.71875 1.703125 \nL 7.71875 11.625 \nQ 12.109375 9.234375 16.796875 8.0625 \nQ 21.484375 6.890625 26.703125 6.890625 \nQ 35.15625 6.890625 40.078125 11.328125 \nQ 45.015625 15.765625 45.015625 23.390625 \nQ 45.015625 31 40.078125 35.4375 \nQ 35.15625 39.890625 26.703125 39.890625 \nQ 22.75 39.890625 18.8125 39.015625 \nQ 14.890625 38.140625 10.796875 36.28125 \nz\n\" id=\"DejaVuSans-53\"/>\n       </defs>\n       <use xlink:href=\"#DejaVuSans-48\"/>\n       <use x=\"63.623047\" xlink:href=\"#DejaVuSans-46\"/>\n       <use x=\"95.410156\" xlink:href=\"#DejaVuSans-48\"/>\n       <use x=\"159.033203\" xlink:href=\"#DejaVuSans-53\"/>\n      </g>\n     </g>\n    </g>\n    <g id=\"ytick_3\">\n     <g id=\"line2d_11\">\n      <g>\n       <use style=\"stroke:#000000;stroke-width:0.8;\" x=\"50.14375\" xlink:href=\"#m2741fa1d7c\" y=\"156.26779\"/>\n      </g>\n     </g>\n     <g id=\"text_12\">\n      <!-- 0.10 -->\n      <g transform=\"translate(20.878125 160.067009)scale(0.1 -0.1)\">\n       <use xlink:href=\"#DejaVuSans-48\"/>\n       <use x=\"63.623047\" xlink:href=\"#DejaVuSans-46\"/>\n       <use x=\"95.410156\" xlink:href=\"#DejaVuSans-49\"/>\n       <use x=\"159.033203\" xlink:href=\"#DejaVuSans-48\"/>\n      </g>\n     </g>\n    </g>\n    <g id=\"ytick_4\">\n     <g id=\"line2d_12\">\n      <g>\n       <use style=\"stroke:#000000;stroke-width:0.8;\" x=\"50.14375\" xlink:href=\"#m2741fa1d7c\" y=\"122.081685\"/>\n      </g>\n     </g>\n     <g id=\"text_13\">\n      <!-- 0.15 -->\n      <g transform=\"translate(20.878125 125.880904)scale(0.1 -0.1)\">\n       <use xlink:href=\"#DejaVuSans-48\"/>\n       <use x=\"63.623047\" xlink:href=\"#DejaVuSans-46\"/>\n       <use x=\"95.410156\" xlink:href=\"#DejaVuSans-49\"/>\n       <use x=\"159.033203\" xlink:href=\"#DejaVuSans-53\"/>\n      </g>\n     </g>\n    </g>\n    <g id=\"ytick_5\">\n     <g id=\"line2d_13\">\n      <g>\n       <use style=\"stroke:#000000;stroke-width:0.8;\" x=\"50.14375\" xlink:href=\"#m2741fa1d7c\" y=\"87.89558\"/>\n      </g>\n     </g>\n     <g id=\"text_14\">\n      <!-- 0.20 -->\n      <g transform=\"translate(20.878125 91.694799)scale(0.1 -0.1)\">\n       <use xlink:href=\"#DejaVuSans-48\"/>\n       <use x=\"63.623047\" xlink:href=\"#DejaVuSans-46\"/>\n       <use x=\"95.410156\" xlink:href=\"#DejaVuSans-50\"/>\n       <use x=\"159.033203\" xlink:href=\"#DejaVuSans-48\"/>\n      </g>\n     </g>\n    </g>\n    <g id=\"ytick_6\">\n     <g id=\"line2d_14\">\n      <g>\n       <use style=\"stroke:#000000;stroke-width:0.8;\" x=\"50.14375\" xlink:href=\"#m2741fa1d7c\" y=\"53.709475\"/>\n      </g>\n     </g>\n     <g id=\"text_15\">\n      <!-- 0.25 -->\n      <g transform=\"translate(20.878125 57.508694)scale(0.1 -0.1)\">\n       <use xlink:href=\"#DejaVuSans-48\"/>\n       <use x=\"63.623047\" xlink:href=\"#DejaVuSans-46\"/>\n       <use x=\"95.410156\" xlink:href=\"#DejaVuSans-50\"/>\n       <use x=\"159.033203\" xlink:href=\"#DejaVuSans-53\"/>\n      </g>\n     </g>\n    </g>\n    <g id=\"ytick_7\">\n     <g id=\"line2d_15\">\n      <g>\n       <use style=\"stroke:#000000;stroke-width:0.8;\" x=\"50.14375\" xlink:href=\"#m2741fa1d7c\" y=\"19.52337\"/>\n      </g>\n     </g>\n     <g id=\"text_16\">\n      <!-- 0.30 -->\n      <g transform=\"translate(20.878125 23.322589)scale(0.1 -0.1)\">\n       <defs>\n        <path d=\"M 40.578125 39.3125 \nQ 47.65625 37.796875 51.625 33 \nQ 55.609375 28.21875 55.609375 21.1875 \nQ 55.609375 10.40625 48.1875 4.484375 \nQ 40.765625 -1.421875 27.09375 -1.421875 \nQ 22.515625 -1.421875 17.65625 -0.515625 \nQ 12.796875 0.390625 7.625 2.203125 \nL 7.625 11.71875 \nQ 11.71875 9.328125 16.59375 8.109375 \nQ 21.484375 6.890625 26.8125 6.890625 \nQ 36.078125 6.890625 40.9375 10.546875 \nQ 45.796875 14.203125 45.796875 21.1875 \nQ 45.796875 27.640625 41.28125 31.265625 \nQ 36.765625 34.90625 28.71875 34.90625 \nL 20.21875 34.90625 \nL 20.21875 43.015625 \nL 29.109375 43.015625 \nQ 36.375 43.015625 40.234375 45.921875 \nQ 44.09375 48.828125 44.09375 54.296875 \nQ 44.09375 59.90625 40.109375 62.90625 \nQ 36.140625 65.921875 28.71875 65.921875 \nQ 24.65625 65.921875 20.015625 65.03125 \nQ 15.375 64.15625 9.8125 62.3125 \nL 9.8125 71.09375 \nQ 15.4375 72.65625 20.34375 73.4375 \nQ 25.25 74.21875 29.59375 74.21875 \nQ 40.828125 74.21875 47.359375 69.109375 \nQ 53.90625 64.015625 53.90625 55.328125 \nQ 53.90625 49.265625 50.4375 45.09375 \nQ 46.96875 40.921875 40.578125 39.3125 \nz\n\" id=\"DejaVuSans-51\"/>\n       </defs>\n       <use xlink:href=\"#DejaVuSans-48\"/>\n       <use x=\"63.623047\" xlink:href=\"#DejaVuSans-46\"/>\n       <use x=\"95.410156\" xlink:href=\"#DejaVuSans-51\"/>\n       <use x=\"159.033203\" xlink:href=\"#DejaVuSans-48\"/>\n      </g>\n     </g>\n    </g>\n    <g id=\"text_17\">\n     <!-- Density -->\n     <g transform=\"translate(14.798438 134.928594)rotate(-90)scale(0.1 -0.1)\">\n      <defs>\n       <path d=\"M 19.671875 64.796875 \nL 19.671875 8.109375 \nL 31.59375 8.109375 \nQ 46.6875 8.109375 53.6875 14.9375 \nQ 60.6875 21.78125 60.6875 36.53125 \nQ 60.6875 51.171875 53.6875 57.984375 \nQ 46.6875 64.796875 31.59375 64.796875 \nz\nM 9.8125 72.90625 \nL 30.078125 72.90625 \nQ 51.265625 72.90625 61.171875 64.09375 \nQ 71.09375 55.28125 71.09375 36.53125 \nQ 71.09375 17.671875 61.125 8.828125 \nQ 51.171875 0 30.078125 0 \nL 9.8125 0 \nz\n\" id=\"DejaVuSans-68\"/>\n       <path d=\"M 54.890625 33.015625 \nL 54.890625 0 \nL 45.90625 0 \nL 45.90625 32.71875 \nQ 45.90625 40.484375 42.875 44.328125 \nQ 39.84375 48.1875 33.796875 48.1875 \nQ 26.515625 48.1875 22.3125 43.546875 \nQ 18.109375 38.921875 18.109375 30.90625 \nL 18.109375 0 \nL 9.078125 0 \nL 9.078125 54.6875 \nL 18.109375 54.6875 \nL 18.109375 46.1875 \nQ 21.34375 51.125 25.703125 53.5625 \nQ 30.078125 56 35.796875 56 \nQ 45.21875 56 50.046875 50.171875 \nQ 54.890625 44.34375 54.890625 33.015625 \nz\n\" id=\"DejaVuSans-110\"/>\n       <path d=\"M 9.421875 54.6875 \nL 18.40625 54.6875 \nL 18.40625 0 \nL 9.421875 0 \nz\nM 9.421875 75.984375 \nL 18.40625 75.984375 \nL 18.40625 64.59375 \nL 9.421875 64.59375 \nz\n\" id=\"DejaVuSans-105\"/>\n       <path d=\"M 18.3125 70.21875 \nL 18.3125 54.6875 \nL 36.8125 54.6875 \nL 36.8125 47.703125 \nL 18.3125 47.703125 \nL 18.3125 18.015625 \nQ 18.3125 11.328125 20.140625 9.421875 \nQ 21.96875 7.515625 27.59375 7.515625 \nL 36.8125 7.515625 \nL 36.8125 0 \nL 27.59375 0 \nQ 17.1875 0 13.234375 3.875 \nQ 9.28125 7.765625 9.28125 18.015625 \nL 9.28125 47.703125 \nL 2.6875 47.703125 \nL 2.6875 54.6875 \nL 9.28125 54.6875 \nL 9.28125 70.21875 \nz\n\" id=\"DejaVuSans-116\"/>\n      </defs>\n      <use xlink:href=\"#DejaVuSans-68\"/>\n      <use x=\"77.001953\" xlink:href=\"#DejaVuSans-101\"/>\n      <use x=\"138.525391\" xlink:href=\"#DejaVuSans-110\"/>\n      <use x=\"201.904297\" xlink:href=\"#DejaVuSans-115\"/>\n      <use x=\"254.003906\" xlink:href=\"#DejaVuSans-105\"/>\n      <use x=\"281.787109\" xlink:href=\"#DejaVuSans-116\"/>\n      <use x=\"320.996094\" xlink:href=\"#DejaVuSans-121\"/>\n     </g>\n    </g>\n   </g>\n   <g id=\"line2d_16\">\n    <path clip-path=\"url(#pf08b9c4431)\" d=\"M 65.361932 224.475683 \nL 69.950328 224.144324 \nL 73.009259 223.679474 \nL 76.06819 222.883216 \nL 77.597656 222.313624 \nL 79.127121 221.601097 \nL 80.656587 220.722796 \nL 82.186052 219.655509 \nL 83.715518 218.376311 \nL 85.244983 216.863221 \nL 86.774449 215.095773 \nL 88.303914 213.055464 \nL 89.83338 210.72604 \nL 91.362845 208.093619 \nL 92.892311 205.146675 \nL 94.421776 201.87596 \nL 95.951242 198.274446 \nL 97.480708 194.337378 \nL 99.010173 190.062537 \nL 102.069104 180.506681 \nL 105.128035 169.665168 \nL 108.186966 157.688592 \nL 112.775363 138.209563 \nL 118.893225 111.592163 \nL 121.952156 99.048035 \nL 125.011087 87.561124 \nL 128.070018 77.449774 \nL 129.599483 72.991883 \nL 131.128949 68.970699 \nL 132.658414 65.41239 \nL 134.18788 62.341152 \nL 135.717345 59.778605 \nL 137.246811 57.742672 \nL 138.776276 56.24612 \nL 140.305742 55.294925 \nL 141.835207 54.886738 \nL 143.364673 55.009664 \nL 144.894138 55.641599 \nL 146.423604 56.750245 \nL 147.953069 58.293902 \nL 149.482535 60.22301 \nL 151.012 62.482366 \nL 154.070931 67.759411 \nL 157.129862 73.679327 \nL 163.247724 86.194088 \nL 169.365586 99.1444 \nL 172.424517 106.092627 \nL 175.483448 113.581386 \nL 178.54238 121.686302 \nL 181.601311 130.364018 \nL 186.189707 144.096579 \nL 192.307569 162.462211 \nL 195.3665 171.092247 \nL 198.425431 179.057746 \nL 201.484362 186.19397 \nL 204.543293 192.397574 \nL 206.072759 195.136855 \nL 207.602224 197.637108 \nL 209.13169 199.906051 \nL 210.661155 201.955467 \nL 212.190621 203.800486 \nL 213.720086 205.458655 \nL 216.779017 208.290226 \nL 219.837948 210.597476 \nL 222.896879 212.500281 \nL 225.95581 214.073455 \nL 229.014741 215.348455 \nL 232.073672 216.33231 \nL 235.132603 217.034262 \nL 238.191534 217.487426 \nL 242.779931 217.845964 \nL 251.956724 218.364358 \nL 259.604052 219.105277 \nL 277.957638 220.961522 \nL 285.604965 221.539537 \nL 291.722827 221.787885 \nL 299.370155 221.889938 \nL 307.017482 221.803656 \nL 314.66481 221.488075 \nL 328.429999 220.759348 \nL 331.48893 220.822716 \nL 334.547861 221.044438 \nL 339.136258 221.650444 \nL 352.901448 223.85662 \nL 357.489844 224.260605 \nL 363.607706 224.524426 \nL 369.725568 224.612719 \nL 369.725568 224.612719 \n\" style=\"fill:none;stroke:#1f77b4;stroke-linecap:square;stroke-width:1.5;\"/>\n   </g>\n   <g id=\"patch_21\">\n    <path d=\"M 50.14375 224.64 \nL 50.14375 7.2 \n\" style=\"fill:none;stroke:#000000;stroke-linecap:square;stroke-linejoin:miter;stroke-width:0.8;\"/>\n   </g>\n   <g id=\"patch_22\">\n    <path d=\"M 384.94375 224.64 \nL 384.94375 7.2 \n\" style=\"fill:none;stroke:#000000;stroke-linecap:square;stroke-linejoin:miter;stroke-width:0.8;\"/>\n   </g>\n   <g id=\"patch_23\">\n    <path d=\"M 50.14375 224.64 \nL 384.94375 224.64 \n\" style=\"fill:none;stroke:#000000;stroke-linecap:square;stroke-linejoin:miter;stroke-width:0.8;\"/>\n   </g>\n   <g id=\"patch_24\">\n    <path d=\"M 50.14375 7.2 \nL 384.94375 7.2 \n\" style=\"fill:none;stroke:#000000;stroke-linecap:square;stroke-linejoin:miter;stroke-width:0.8;\"/>\n   </g>\n  </g>\n </g>\n <defs>\n  <clipPath id=\"pf08b9c4431\">\n   <rect height=\"217.44\" width=\"334.8\" x=\"50.14375\" y=\"7.2\"/>\n  </clipPath>\n </defs>\n</svg>\n",
      "image/png": "[encoded data removed]"
     },
     "metadata": {
      "needs_background": "light"
     }
    }
   ],
   "source": [
    "seaborn.distplot(general_managers_pro_bowlers_per_year['pro_bowlers_per_year'])"
   ]
  },
  {
   "source": [
    "This data is a bit more normalized, but still a good amount of variance. The top of the list is certainly biased towards early NFL teams when there were far fewer franchises. Now, let's do the same for First Team All Pros."
   ],
   "cell_type": "markdown",
   "metadata": {}
  },
  {
   "cell_type": "code",
   "execution_count": 84,
   "metadata": {},
   "outputs": [
    {
     "output_type": "execute_result",
     "data": {
      "text/plain": [
       "                 name  first_team_all_pros\n",
       "0            Al Davis                   44\n",
       "1          Paul Brown                   24\n",
       "2         Tex Schramm                   23\n",
       "3      Vince Lombardi                   23\n",
       "4         Jerry Jones                   22\n",
       "5       Jack Steadman                   21\n",
       "6        George Halas                   21\n",
       "7        Louis Spadia                   20\n",
       "8      Bill Belichick                   20\n",
       "9           Ray Walsh                   19\n",
       "10     Bobby Beathard                   19\n",
       "11        Bill Polian                   18\n",
       "12       Mike Holovak                   18\n",
       "13        Chile Walsh                   17\n",
       "14      Ozzie Newsome                   17\n",
       "15     Don Klosterman                   16\n",
       "16       Bill Bidwill                   16\n",
       "17  Richard Gallagher                   15\n",
       "18      Carl Peterson                   14\n",
       "19        Don Kellett                   14"
      ],
      "text/html": "<div>\n<style scoped>\n    .dataframe tbody tr th:only-of-type {\n        vertical-align: middle;\n    }\n\n    .dataframe tbody tr th {\n        vertical-align: top;\n    }\n\n    .dataframe thead th {\n        text-align: right;\n    }\n</style>\n<table border=\"1\" class=\"dataframe\">\n  <thead>\n    <tr style=\"text-align: right;\">\n      <th></th>\n      <th>name</th>\n      <th>first_team_all_pros</th>\n    </tr>\n  </thead>\n  <tbody>\n    <tr>\n      <th>0</th>\n      <td>Al Davis</td>\n      <td>44</td>\n    </tr>\n    <tr>\n      <th>1</th>\n      <td>Paul Brown</td>\n      <td>24</td>\n    </tr>\n    <tr>\n      <th>2</th>\n      <td>Tex Schramm</td>\n      <td>23</td>\n    </tr>\n    <tr>\n      <th>3</th>\n      <td>Vince Lombardi</td>\n      <td>23</td>\n    </tr>\n    <tr>\n      <th>4</th>\n      <td>Jerry Jones</td>\n      <td>22</td>\n    </tr>\n    <tr>\n      <th>5</th>\n      <td>Jack Steadman</td>\n      <td>21</td>\n    </tr>\n    <tr>\n      <th>6</th>\n      <td>George Halas</td>\n      <td>21</td>\n    </tr>\n    <tr>\n      <th>7</th>\n      <td>Louis Spadia</td>\n      <td>20</td>\n    </tr>\n    <tr>\n      <th>8</th>\n      <td>Bill Belichick</td>\n      <td>20</td>\n    </tr>\n    <tr>\n      <th>9</th>\n      <td>Ray Walsh</td>\n      <td>19</td>\n    </tr>\n    <tr>\n      <th>10</th>\n      <td>Bobby Beathard</td>\n      <td>19</td>\n    </tr>\n    <tr>\n      <th>11</th>\n      <td>Bill Polian</td>\n      <td>18</td>\n    </tr>\n    <tr>\n      <th>12</th>\n      <td>Mike Holovak</td>\n      <td>18</td>\n    </tr>\n    <tr>\n      <th>13</th>\n      <td>Chile Walsh</td>\n      <td>17</td>\n    </tr>\n    <tr>\n      <th>14</th>\n      <td>Ozzie Newsome</td>\n      <td>17</td>\n    </tr>\n    <tr>\n      <th>15</th>\n      <td>Don Klosterman</td>\n      <td>16</td>\n    </tr>\n    <tr>\n      <th>16</th>\n      <td>Bill Bidwill</td>\n      <td>16</td>\n    </tr>\n    <tr>\n      <th>17</th>\n      <td>Richard Gallagher</td>\n      <td>15</td>\n    </tr>\n    <tr>\n      <th>18</th>\n      <td>Carl Peterson</td>\n      <td>14</td>\n    </tr>\n    <tr>\n      <th>19</th>\n      <td>Don Kellett</td>\n      <td>14</td>\n    </tr>\n  </tbody>\n</table>\n</div>"
     },
     "metadata": {},
     "execution_count": 84
    }
   ],
   "source": [
    "query = '''\n",
    "    SELECT\n",
    "        executives.name,\n",
    "        COUNT(DISTINCT player) AS first_team_all_pros\n",
    "    FROM executives\n",
    "    JOIN front_office_members USING (executive)\n",
    "    JOIN roster_members USING (team)\n",
    "    JOIN players USING (player)\n",
    "    JOIN teams USING (team)\n",
    "    WHERE (LOWER(title) LIKE '%general manager%'\n",
    "        OR LOWER(title) LIKE '%gm%'\n",
    "        OR LOWER(title) LIKE '%football ops%'\n",
    "        OR LOWER(title) LIKE '%football operations%')\n",
    "        AND first_team_all_pro > 0\n",
    "    GROUP BY executives.executive\n",
    "    ORDER BY first_team_all_pros DESC\n",
    "'''\n",
    "general_managers_first_team_all_pros = pandas.read_sql_query(query, database)\n",
    "general_managers_first_team_all_pros.head(20)"
   ]
  },
  {
   "source": [
    "Once again, we see a bias towards older teams. Finally, let's do this calculation for the average approximate value of the roster."
   ],
   "cell_type": "markdown",
   "metadata": {}
  },
  {
   "cell_type": "code",
   "execution_count": 85,
   "metadata": {},
   "outputs": [
    {
     "output_type": "execute_result",
     "data": {
      "text/plain": [
       "                 name     avg_av\n",
       "0        Dick Vermeil  20.500000\n",
       "1   Harold Richardson  19.000000\n",
       "2     Scot McCloughan  19.000000\n",
       "3      Vince Lombardi  19.000000\n",
       "4         Jay Zygmunt  18.800000\n",
       "5       Charley Armey  18.800000\n",
       "6           Ray Walsh  18.000000\n",
       "7          Bart Starr  18.000000\n",
       "8       Carmen Policy  18.000000\n",
       "9          Fran Foley  18.000000\n",
       "10      Brandon Beane  18.000000\n",
       "11      Jerry Vainisi  17.833333\n",
       "12        Doug Whaley  17.500000\n",
       "13         Tom Flores  17.500000\n",
       "14      Eddie LeBaron  17.333333\n",
       "15        Brett Veach  17.000000\n",
       "16         Tom Modrak  17.000000\n",
       "17       Bucko Kilroy  17.000000\n",
       "18         Dick Haley  17.000000\n",
       "19       Dennis Green  17.000000"
      ],
      "text/html": "<div>\n<style scoped>\n    .dataframe tbody tr th:only-of-type {\n        vertical-align: middle;\n    }\n\n    .dataframe tbody tr th {\n        vertical-align: top;\n    }\n\n    .dataframe thead th {\n        text-align: right;\n    }\n</style>\n<table border=\"1\" class=\"dataframe\">\n  <thead>\n    <tr style=\"text-align: right;\">\n      <th></th>\n      <th>name</th>\n      <th>avg_av</th>\n    </tr>\n  </thead>\n  <tbody>\n    <tr>\n      <th>0</th>\n      <td>Dick Vermeil</td>\n      <td>20.500000</td>\n    </tr>\n    <tr>\n      <th>1</th>\n      <td>Harold Richardson</td>\n      <td>19.000000</td>\n    </tr>\n    <tr>\n      <th>2</th>\n      <td>Scot McCloughan</td>\n      <td>19.000000</td>\n    </tr>\n    <tr>\n      <th>3</th>\n      <td>Vince Lombardi</td>\n      <td>19.000000</td>\n    </tr>\n    <tr>\n      <th>4</th>\n      <td>Jay Zygmunt</td>\n      <td>18.800000</td>\n    </tr>\n    <tr>\n      <th>5</th>\n      <td>Charley Armey</td>\n      <td>18.800000</td>\n    </tr>\n    <tr>\n      <th>6</th>\n      <td>Ray Walsh</td>\n      <td>18.000000</td>\n    </tr>\n    <tr>\n      <th>7</th>\n      <td>Bart Starr</td>\n      <td>18.000000</td>\n    </tr>\n    <tr>\n      <th>8</th>\n      <td>Carmen Policy</td>\n      <td>18.000000</td>\n    </tr>\n    <tr>\n      <th>9</th>\n      <td>Fran Foley</td>\n      <td>18.000000</td>\n    </tr>\n    <tr>\n      <th>10</th>\n      <td>Brandon Beane</td>\n      <td>18.000000</td>\n    </tr>\n    <tr>\n      <th>11</th>\n      <td>Jerry Vainisi</td>\n      <td>17.833333</td>\n    </tr>\n    <tr>\n      <th>12</th>\n      <td>Doug Whaley</td>\n      <td>17.500000</td>\n    </tr>\n    <tr>\n      <th>13</th>\n      <td>Tom Flores</td>\n      <td>17.500000</td>\n    </tr>\n    <tr>\n      <th>14</th>\n      <td>Eddie LeBaron</td>\n      <td>17.333333</td>\n    </tr>\n    <tr>\n      <th>15</th>\n      <td>Brett Veach</td>\n      <td>17.000000</td>\n    </tr>\n    <tr>\n      <th>16</th>\n      <td>Tom Modrak</td>\n      <td>17.000000</td>\n    </tr>\n    <tr>\n      <th>17</th>\n      <td>Bucko Kilroy</td>\n      <td>17.000000</td>\n    </tr>\n    <tr>\n      <th>18</th>\n      <td>Dick Haley</td>\n      <td>17.000000</td>\n    </tr>\n    <tr>\n      <th>19</th>\n      <td>Dennis Green</td>\n      <td>17.000000</td>\n    </tr>\n  </tbody>\n</table>\n</div>"
     },
     "metadata": {},
     "execution_count": 85
    }
   ],
   "source": [
    "query = '''\n",
    "    SELECT\n",
    "        executives.name,\n",
    "        AVG(DISTINCT approximate_value) AS avg_av\n",
    "    FROM executives\n",
    "    JOIN front_office_members USING (executive)\n",
    "    JOIN roster_members USING (team)\n",
    "    JOIN players USING (player)\n",
    "    JOIN teams USING (team)\n",
    "    WHERE (LOWER(title) LIKE '%general manager%'\n",
    "        OR LOWER(title) LIKE '%gm%'\n",
    "        OR LOWER(title) LIKE '%football ops%'\n",
    "        OR LOWER(title) LIKE '%football operations%')\n",
    "        AND first_team_all_pro > 0\n",
    "        AND year >= 1970\n",
    "    GROUP BY executives.executive\n",
    "    ORDER BY avg_av DESC\n",
    "'''\n",
    "general_managers_average_approximate_value = pandas.read_sql_query(query, database)\n",
    "general_managers_average_approximate_value.head(20)"
   ]
  },
  {
   "source": [
    "Here we had to restrict our analysis to just the GMs after 1970, because Pro Football Reference does not have approximate value data for all players before that season.\n",
    "\n",
    "## The Draft\n",
    "\n",
    "One of the biggest keys to success for a GM is the ability to nail the draft. When you can nail the nail the draft, you can have sustained success for a long period of time. Let's start by taking a look at the GMs who drafted the most pro bowlers. We will only count the ones that made the pro bowl for the team that drafted them. Again, we expect that there will be a bias towards some of the older teams, when there were fewer franchises."
   ],
   "cell_type": "markdown",
   "metadata": {}
  },
  {
   "cell_type": "code",
   "execution_count": 86,
   "metadata": {},
   "outputs": [
    {
     "output_type": "execute_result",
     "data": {
      "text/plain": [
       "              name  pro_bowlers_drafted\n",
       "0     George Halas                   48\n",
       "1       Paul Brown                   41\n",
       "2      Jerry Jones                   36\n",
       "3     Louis Spadia                   36\n",
       "4         Al Davis                   32\n",
       "5      Tex Schramm                   27\n",
       "6   Don Klosterman                   26\n",
       "7     Bill Bidwill                   25\n",
       "8    Ozzie Newsome                   25\n",
       "9        Jim Finks                   24\n",
       "10      Dick Haley                   23\n",
       "11       Ray Walsh                   22\n",
       "12     Chile Walsh                   21\n",
       "13     Dick McCann                   20\n",
       "14   Vince McNally                   20\n",
       "15     Bill Polian                   20\n",
       "16   Kevin Colbert                   19\n",
       "17     Russ Thomas                   19\n",
       "18    George Young                   18\n",
       "19   Mickey Loomis                   17"
      ],
      "text/html": "<div>\n<style scoped>\n    .dataframe tbody tr th:only-of-type {\n        vertical-align: middle;\n    }\n\n    .dataframe tbody tr th {\n        vertical-align: top;\n    }\n\n    .dataframe thead th {\n        text-align: right;\n    }\n</style>\n<table border=\"1\" class=\"dataframe\">\n  <thead>\n    <tr style=\"text-align: right;\">\n      <th></th>\n      <th>name</th>\n      <th>pro_bowlers_drafted</th>\n    </tr>\n  </thead>\n  <tbody>\n    <tr>\n      <th>0</th>\n      <td>George Halas</td>\n      <td>48</td>\n    </tr>\n    <tr>\n      <th>1</th>\n      <td>Paul Brown</td>\n      <td>41</td>\n    </tr>\n    <tr>\n      <th>2</th>\n      <td>Jerry Jones</td>\n      <td>36</td>\n    </tr>\n    <tr>\n      <th>3</th>\n      <td>Louis Spadia</td>\n      <td>36</td>\n    </tr>\n    <tr>\n      <th>4</th>\n      <td>Al Davis</td>\n      <td>32</td>\n    </tr>\n    <tr>\n      <th>5</th>\n      <td>Tex Schramm</td>\n      <td>27</td>\n    </tr>\n    <tr>\n      <th>6</th>\n      <td>Don Klosterman</td>\n      <td>26</td>\n    </tr>\n    <tr>\n      <th>7</th>\n      <td>Bill Bidwill</td>\n      <td>25</td>\n    </tr>\n    <tr>\n      <th>8</th>\n      <td>Ozzie Newsome</td>\n      <td>25</td>\n    </tr>\n    <tr>\n      <th>9</th>\n      <td>Jim Finks</td>\n      <td>24</td>\n    </tr>\n    <tr>\n      <th>10</th>\n      <td>Dick Haley</td>\n      <td>23</td>\n    </tr>\n    <tr>\n      <th>11</th>\n      <td>Ray Walsh</td>\n      <td>22</td>\n    </tr>\n    <tr>\n      <th>12</th>\n      <td>Chile Walsh</td>\n      <td>21</td>\n    </tr>\n    <tr>\n      <th>13</th>\n      <td>Dick McCann</td>\n      <td>20</td>\n    </tr>\n    <tr>\n      <th>14</th>\n      <td>Vince McNally</td>\n      <td>20</td>\n    </tr>\n    <tr>\n      <th>15</th>\n      <td>Bill Polian</td>\n      <td>20</td>\n    </tr>\n    <tr>\n      <th>16</th>\n      <td>Kevin Colbert</td>\n      <td>19</td>\n    </tr>\n    <tr>\n      <th>17</th>\n      <td>Russ Thomas</td>\n      <td>19</td>\n    </tr>\n    <tr>\n      <th>18</th>\n      <td>George Young</td>\n      <td>18</td>\n    </tr>\n    <tr>\n      <th>19</th>\n      <td>Mickey Loomis</td>\n      <td>17</td>\n    </tr>\n  </tbody>\n</table>\n</div>"
     },
     "metadata": {},
     "execution_count": 86
    }
   ],
   "source": [
    "query = '''\n",
    "    SELECT\n",
    "        executives.name,\n",
    "        COUNT(DISTINCT draft_picks.player) AS pro_bowlers_drafted\n",
    "    FROM executives\n",
    "    JOIN front_office_members USING (executive)\n",
    "    JOIN teams USING (team)\n",
    "    JOIN draft_picks USING (franchise, year)\n",
    "    JOIN roster_members ON (draft_picks.player = roster_members.player AND roster_members.team LIKE (teams.franchise || '%'))\n",
    "    WHERE (LOWER(title) LIKE '%general manager%'\n",
    "        OR LOWER(title) LIKE '%gm%'\n",
    "        OR LOWER(title) LIKE '%football ops%'\n",
    "        OR LOWER(title) LIKE '%football operations%')\n",
    "        AND pro_bowl > 0\n",
    "    GROUP BY executives.executive\n",
    "    ORDER BY pro_bowlers_drafted DESC\n",
    "'''\n",
    "general_managers_drafted_pro_bowlers = pandas.read_sql_query(query, database)\n",
    "general_managers_drafted_pro_bowlers.head(20)"
   ]
  },
  {
   "source": [
    "Let's also take a look at the most first team all pros drafted."
   ],
   "cell_type": "markdown",
   "metadata": {}
  },
  {
   "cell_type": "code",
   "execution_count": 87,
   "metadata": {},
   "outputs": [
    {
     "output_type": "execute_result",
     "data": {
      "text/plain": [
       "              name  first_team_all_pros_drafted\n",
       "0     George Halas                           18\n",
       "1         Al Davis                           17\n",
       "2       Paul Brown                           16\n",
       "3      Jerry Jones                           15\n",
       "4    Ozzie Newsome                           14\n",
       "5      Tex Schramm                           14\n",
       "6     Louis Spadia                           14\n",
       "7        Jim Finks                           11\n",
       "8       Dick Haley                           11\n",
       "9      Don Kellett                           11\n",
       "10     Bill Polian                           11\n",
       "11  Bill Belichick                           10\n",
       "12    Bill Bidwill                           10\n",
       "13       Ray Walsh                           10\n",
       "14    George Young                           10\n",
       "15  Bobby Beathard                            9\n",
       "16   Carl Peterson                            9\n",
       "17     Chile Walsh                            9\n",
       "18   Ernie Accorsi                            8\n",
       "19    Marty Hurney                            8\n",
       "20  Verne Lewellen                            8\n",
       "21     Floyd Reese                            8\n",
       "22     Russ Thomas                            8\n",
       "23   Kevin Colbert                            7\n",
       "24     Ladd Herzeg                            7\n",
       "25  Don Klosterman                            7\n",
       "26   Mickey Loomis                            7\n",
       "27     Mike Robbie                            7\n",
       "28      John Beake                            6\n",
       "29      Jim Kensil                            6"
      ],
      "text/html": "<div>\n<style scoped>\n    .dataframe tbody tr th:only-of-type {\n        vertical-align: middle;\n    }\n\n    .dataframe tbody tr th {\n        vertical-align: top;\n    }\n\n    .dataframe thead th {\n        text-align: right;\n    }\n</style>\n<table border=\"1\" class=\"dataframe\">\n  <thead>\n    <tr style=\"text-align: right;\">\n      <th></th>\n      <th>name</th>\n      <th>first_team_all_pros_drafted</th>\n    </tr>\n  </thead>\n  <tbody>\n    <tr>\n      <th>0</th>\n      <td>George Halas</td>\n      <td>18</td>\n    </tr>\n    <tr>\n      <th>1</th>\n      <td>Al Davis</td>\n      <td>17</td>\n    </tr>\n    <tr>\n      <th>2</th>\n      <td>Paul Brown</td>\n      <td>16</td>\n    </tr>\n    <tr>\n      <th>3</th>\n      <td>Jerry Jones</td>\n      <td>15</td>\n    </tr>\n    <tr>\n      <th>4</th>\n      <td>Ozzie Newsome</td>\n      <td>14</td>\n    </tr>\n    <tr>\n      <th>5</th>\n      <td>Tex Schramm</td>\n      <td>14</td>\n    </tr>\n    <tr>\n      <th>6</th>\n      <td>Louis Spadia</td>\n      <td>14</td>\n    </tr>\n    <tr>\n      <th>7</th>\n      <td>Jim Finks</td>\n      <td>11</td>\n    </tr>\n    <tr>\n      <th>8</th>\n      <td>Dick Haley</td>\n      <td>11</td>\n    </tr>\n    <tr>\n      <th>9</th>\n      <td>Don Kellett</td>\n      <td>11</td>\n    </tr>\n    <tr>\n      <th>10</th>\n      <td>Bill Polian</td>\n      <td>11</td>\n    </tr>\n    <tr>\n      <th>11</th>\n      <td>Bill Belichick</td>\n      <td>10</td>\n    </tr>\n    <tr>\n      <th>12</th>\n      <td>Bill Bidwill</td>\n      <td>10</td>\n    </tr>\n    <tr>\n      <th>13</th>\n      <td>Ray Walsh</td>\n      <td>10</td>\n    </tr>\n    <tr>\n      <th>14</th>\n      <td>George Young</td>\n      <td>10</td>\n    </tr>\n    <tr>\n      <th>15</th>\n      <td>Bobby Beathard</td>\n      <td>9</td>\n    </tr>\n    <tr>\n      <th>16</th>\n      <td>Carl Peterson</td>\n      <td>9</td>\n    </tr>\n    <tr>\n      <th>17</th>\n      <td>Chile Walsh</td>\n      <td>9</td>\n    </tr>\n    <tr>\n      <th>18</th>\n      <td>Ernie Accorsi</td>\n      <td>8</td>\n    </tr>\n    <tr>\n      <th>19</th>\n      <td>Marty Hurney</td>\n      <td>8</td>\n    </tr>\n    <tr>\n      <th>20</th>\n      <td>Verne Lewellen</td>\n      <td>8</td>\n    </tr>\n    <tr>\n      <th>21</th>\n      <td>Floyd Reese</td>\n      <td>8</td>\n    </tr>\n    <tr>\n      <th>22</th>\n      <td>Russ Thomas</td>\n      <td>8</td>\n    </tr>\n    <tr>\n      <th>23</th>\n      <td>Kevin Colbert</td>\n      <td>7</td>\n    </tr>\n    <tr>\n      <th>24</th>\n      <td>Ladd Herzeg</td>\n      <td>7</td>\n    </tr>\n    <tr>\n      <th>25</th>\n      <td>Don Klosterman</td>\n      <td>7</td>\n    </tr>\n    <tr>\n      <th>26</th>\n      <td>Mickey Loomis</td>\n      <td>7</td>\n    </tr>\n    <tr>\n      <th>27</th>\n      <td>Mike Robbie</td>\n      <td>7</td>\n    </tr>\n    <tr>\n      <th>28</th>\n      <td>John Beake</td>\n      <td>6</td>\n    </tr>\n    <tr>\n      <th>29</th>\n      <td>Jim Kensil</td>\n      <td>6</td>\n    </tr>\n  </tbody>\n</table>\n</div>"
     },
     "metadata": {},
     "execution_count": 87
    }
   ],
   "source": [
    "query = '''\n",
    "    SELECT\n",
    "        executives.name,\n",
    "        COUNT(DISTINCT draft_picks.player) AS first_team_all_pros_drafted\n",
    "    FROM executives\n",
    "    JOIN front_office_members USING (executive)\n",
    "    JOIN teams USING (team)\n",
    "    JOIN draft_picks USING (franchise, year)\n",
    "    JOIN roster_members ON (draft_picks.player = roster_members.player AND roster_members.team LIKE (teams.franchise || '%'))\n",
    "    WHERE (LOWER(title) LIKE '%general manager%'\n",
    "        OR LOWER(title) LIKE '%gm%'\n",
    "        OR LOWER(title) LIKE '%football ops%'\n",
    "        OR LOWER(title) LIKE '%football operations%')\n",
    "        AND first_team_all_pro > 0\n",
    "    GROUP BY executives.executive\n",
    "    ORDER BY first_team_all_pros_drafted DESC\n",
    "'''\n",
    "general_managers_drafted_first_team_all_pros = pandas.read_sql_query(query, database)\n",
    "general_managers_drafted_first_team_all_pros.head(30)"
   ]
  },
  {
   "source": [
    "## Free Agency\n",
    "\n",
    "Similarly, GMs who struggle with the draft can sometimes compensate for their team's weaknesses using free agency. Let's see if we can identify who are the best GMs in terms of free agent signings."
   ],
   "cell_type": "markdown",
   "metadata": {}
  },
  {
   "source": [
    "## Howie Roseman: A Case Study\n",
    "\n",
    "Now, let's do an analysis of Howie Roseman, de factor GM of the Eagles. Let's take a quick look at his tenure:"
   ],
   "cell_type": "markdown",
   "metadata": {}
  },
  {
   "cell_type": "code",
   "execution_count": 88,
   "metadata": {},
   "outputs": [
    {
     "output_type": "execute_result",
     "data": {
      "text/plain": [
       "             name                     title   franchise  year\n",
       "0   Howie Roseman           General Manager  /teams/phi  2010\n",
       "1   Howie Roseman           General Manager  /teams/phi  2011\n",
       "2   Howie Roseman           General Manager  /teams/phi  2012\n",
       "3   Howie Roseman           General Manager  /teams/phi  2013\n",
       "4   Howie Roseman           General Manager  /teams/phi  2014\n",
       "5   Howie Roseman  Exec. VP of Football Ops  /teams/phi  2015\n",
       "6   Howie Roseman  Exec. VP of Football Ops  /teams/phi  2016\n",
       "7   Howie Roseman  Exec. VP of Football Ops  /teams/phi  2017\n",
       "8   Howie Roseman  Exec. VP of Football Ops  /teams/phi  2018\n",
       "9   Howie Roseman  Exec. VP of Football Ops  /teams/phi  2019\n",
       "10  Howie Roseman  Exec. VP of Football Ops  /teams/phi  2020"
      ],
      "text/html": "<div>\n<style scoped>\n    .dataframe tbody tr th:only-of-type {\n        vertical-align: middle;\n    }\n\n    .dataframe tbody tr th {\n        vertical-align: top;\n    }\n\n    .dataframe thead th {\n        text-align: right;\n    }\n</style>\n<table border=\"1\" class=\"dataframe\">\n  <thead>\n    <tr style=\"text-align: right;\">\n      <th></th>\n      <th>name</th>\n      <th>title</th>\n      <th>franchise</th>\n      <th>year</th>\n    </tr>\n  </thead>\n  <tbody>\n    <tr>\n      <th>0</th>\n      <td>Howie Roseman</td>\n      <td>General Manager</td>\n      <td>/teams/phi</td>\n      <td>2010</td>\n    </tr>\n    <tr>\n      <th>1</th>\n      <td>Howie Roseman</td>\n      <td>General Manager</td>\n      <td>/teams/phi</td>\n      <td>2011</td>\n    </tr>\n    <tr>\n      <th>2</th>\n      <td>Howie Roseman</td>\n      <td>General Manager</td>\n      <td>/teams/phi</td>\n      <td>2012</td>\n    </tr>\n    <tr>\n      <th>3</th>\n      <td>Howie Roseman</td>\n      <td>General Manager</td>\n      <td>/teams/phi</td>\n      <td>2013</td>\n    </tr>\n    <tr>\n      <th>4</th>\n      <td>Howie Roseman</td>\n      <td>General Manager</td>\n      <td>/teams/phi</td>\n      <td>2014</td>\n    </tr>\n    <tr>\n      <th>5</th>\n      <td>Howie Roseman</td>\n      <td>Exec. VP of Football Ops</td>\n      <td>/teams/phi</td>\n      <td>2015</td>\n    </tr>\n    <tr>\n      <th>6</th>\n      <td>Howie Roseman</td>\n      <td>Exec. VP of Football Ops</td>\n      <td>/teams/phi</td>\n      <td>2016</td>\n    </tr>\n    <tr>\n      <th>7</th>\n      <td>Howie Roseman</td>\n      <td>Exec. VP of Football Ops</td>\n      <td>/teams/phi</td>\n      <td>2017</td>\n    </tr>\n    <tr>\n      <th>8</th>\n      <td>Howie Roseman</td>\n      <td>Exec. VP of Football Ops</td>\n      <td>/teams/phi</td>\n      <td>2018</td>\n    </tr>\n    <tr>\n      <th>9</th>\n      <td>Howie Roseman</td>\n      <td>Exec. VP of Football Ops</td>\n      <td>/teams/phi</td>\n      <td>2019</td>\n    </tr>\n    <tr>\n      <th>10</th>\n      <td>Howie Roseman</td>\n      <td>Exec. VP of Football Ops</td>\n      <td>/teams/phi</td>\n      <td>2020</td>\n    </tr>\n  </tbody>\n</table>\n</div>"
     },
     "metadata": {},
     "execution_count": 88
    }
   ],
   "source": [
    "query = '''\n",
    "    SELECT executives.name, title, franchise, year \n",
    "    FROM executives \n",
    "    JOIN front_office_members USING (executive)\n",
    "    JOIN teams USING (team)\n",
    "    WHERE executives.name = 'Howie Roseman';\n",
    "'''\n",
    "howie_tenure = pandas.read_sql_query(query, database)\n",
    "howie_tenure"
   ]
  },
  {
   "source": [
    "He has held a front office position with the Eagles for the last 11 years. His tenure is often regarded as controversial due to how long it has gone on, and how many head coaches he has worked with over that time. With the hiring of Nick Sirianni, it will be his fourth head coach. Just to give you a look at how unusual that is:"
   ],
   "cell_type": "markdown",
   "metadata": {}
  },
  {
   "cell_type": "code",
   "execution_count": 89,
   "metadata": {},
   "outputs": [
    {
     "output_type": "execute_result",
     "data": {
      "text/plain": [
       "               name                                              title  \\\n",
       "0     Brian Xanders                                    General Manager   \n",
       "1     Sheldon White                                         Interim GM   \n",
       "2           Al Ward                                    General Manager   \n",
       "3        Jack Teele                                    General Manager   \n",
       "4       Dennis Shea                                    General Manager   \n",
       "..              ...                                                ...   \n",
       "210  John Schneider                       Executive VP/General Manager   \n",
       "211     Mike Robbie                                    General Manager   \n",
       "212     Floyd Reese  General Manager/Executive VP of Football Opera...   \n",
       "213      Dick Haley                                    General Manager   \n",
       "214     Tex Schramm                          President/General Manager   \n",
       "\n",
       "     first_year  last_year  number_of_coaches  coaches_per_year  \n",
       "0          2009       2011                  3          1.000000  \n",
       "1          2015       2015                  1          1.000000  \n",
       "2          1975       1976                  2          1.000000  \n",
       "3          1970       1970                  1          1.000000  \n",
       "4          1942       1943                  2          1.000000  \n",
       "..          ...        ...                ...               ...  \n",
       "210        2010       2020                  1          0.090909  \n",
       "211        1978       1989                  1          0.083333  \n",
       "212        1994       2006                  1          0.076923  \n",
       "213        1971       2002                  2          0.062500  \n",
       "214        1960       1988                  1          0.034483  \n",
       "\n",
       "[215 rows x 6 columns]"
      ],
      "text/html": "<div>\n<style scoped>\n    .dataframe tbody tr th:only-of-type {\n        vertical-align: middle;\n    }\n\n    .dataframe tbody tr th {\n        vertical-align: top;\n    }\n\n    .dataframe thead th {\n        text-align: right;\n    }\n</style>\n<table border=\"1\" class=\"dataframe\">\n  <thead>\n    <tr style=\"text-align: right;\">\n      <th></th>\n      <th>name</th>\n      <th>title</th>\n      <th>first_year</th>\n      <th>last_year</th>\n      <th>number_of_coaches</th>\n      <th>coaches_per_year</th>\n    </tr>\n  </thead>\n  <tbody>\n    <tr>\n      <th>0</th>\n      <td>Brian Xanders</td>\n      <td>General Manager</td>\n      <td>2009</td>\n      <td>2011</td>\n      <td>3</td>\n      <td>1.000000</td>\n    </tr>\n    <tr>\n      <th>1</th>\n      <td>Sheldon White</td>\n      <td>Interim GM</td>\n      <td>2015</td>\n      <td>2015</td>\n      <td>1</td>\n      <td>1.000000</td>\n    </tr>\n    <tr>\n      <th>2</th>\n      <td>Al Ward</td>\n      <td>General Manager</td>\n      <td>1975</td>\n      <td>1976</td>\n      <td>2</td>\n      <td>1.000000</td>\n    </tr>\n    <tr>\n      <th>3</th>\n      <td>Jack Teele</td>\n      <td>General Manager</td>\n      <td>1970</td>\n      <td>1970</td>\n      <td>1</td>\n      <td>1.000000</td>\n    </tr>\n    <tr>\n      <th>4</th>\n      <td>Dennis Shea</td>\n      <td>General Manager</td>\n      <td>1942</td>\n      <td>1943</td>\n      <td>2</td>\n      <td>1.000000</td>\n    </tr>\n    <tr>\n      <th>...</th>\n      <td>...</td>\n      <td>...</td>\n      <td>...</td>\n      <td>...</td>\n      <td>...</td>\n      <td>...</td>\n    </tr>\n    <tr>\n      <th>210</th>\n      <td>John Schneider</td>\n      <td>Executive VP/General Manager</td>\n      <td>2010</td>\n      <td>2020</td>\n      <td>1</td>\n      <td>0.090909</td>\n    </tr>\n    <tr>\n      <th>211</th>\n      <td>Mike Robbie</td>\n      <td>General Manager</td>\n      <td>1978</td>\n      <td>1989</td>\n      <td>1</td>\n      <td>0.083333</td>\n    </tr>\n    <tr>\n      <th>212</th>\n      <td>Floyd Reese</td>\n      <td>General Manager/Executive VP of Football Opera...</td>\n      <td>1994</td>\n      <td>2006</td>\n      <td>1</td>\n      <td>0.076923</td>\n    </tr>\n    <tr>\n      <th>213</th>\n      <td>Dick Haley</td>\n      <td>General Manager</td>\n      <td>1971</td>\n      <td>2002</td>\n      <td>2</td>\n      <td>0.062500</td>\n    </tr>\n    <tr>\n      <th>214</th>\n      <td>Tex Schramm</td>\n      <td>President/General Manager</td>\n      <td>1960</td>\n      <td>1988</td>\n      <td>1</td>\n      <td>0.034483</td>\n    </tr>\n  </tbody>\n</table>\n<p>215 rows × 6 columns</p>\n</div>"
     },
     "metadata": {},
     "execution_count": 89
    }
   ],
   "source": [
    "query = '''\n",
    "    SELECT executives.name, title, MIN(year) AS first_year, MAX(year) AS last_year, COUNT(DISTINCT coaches.coach) AS number_of_coaches, COUNT(DISTINCT coaches.coach) * 1.0 / (MAX(year) - MIN(year) + 1) AS coaches_per_year\n",
    "    FROM executives\n",
    "    JOIN front_office_members USING (executive)\n",
    "    JOIN teams USING (team)\n",
    "    JOIN coaching_staff_members USING (team)\n",
    "    JOIN coaches USING (coach)\n",
    "    WHERE (LOWER(title) LIKE '%general manager%'\n",
    "        OR LOWER(title) LIKE '%gm%'\n",
    "        OR LOWER(title) LIKE '%football ops%'\n",
    "        OR LOWER(title) LIKE '%football operations%')\n",
    "    AND title NOT LIKE '%owner%'\n",
    "    AND title NOT LIKE '%coach%'\n",
    "    GROUP BY executives.executive\n",
    "    ORDER BY coaches_per_year DESC\n",
    "'''\n",
    "gms_and_coaches = pandas.read_sql_query(query, database)\n",
    "gms_and_coaches"
   ]
  }
 ]
}